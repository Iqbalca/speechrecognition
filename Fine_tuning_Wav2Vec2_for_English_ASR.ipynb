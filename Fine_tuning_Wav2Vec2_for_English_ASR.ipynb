{
  "cells": [
    {
      "cell_type": "markdown",
      "metadata": {
        "id": "view-in-github",
        "colab_type": "text"
      },
      "source": [
        "<a href=\"https://colab.research.google.com/github/Iqbalca/speechrecognition/blob/main/1_Fine_tuning_Wav2Vec2_for_English_ASR.ipynb\" target=\"_parent\"><img src=\"https://colab.research.google.com/assets/colab-badge.svg\" alt=\"Open In Colab\"/></a>"
      ]
    },
    {
      "cell_type": "markdown",
      "metadata": {
        "id": "LBSYoWbi-45k"
      },
      "source": [
        "# **Fine-tuning Wav2Vec2 for English ASR with 🤗 Transformers**"
      ]
    },
    {
      "cell_type": "markdown",
      "metadata": {
        "id": "V7YOT2mnUiea"
      },
      "source": [
        "Wav2Vec2 is a pretrained model for Automatic Speech Recognition (ASR) and was released in [September 2020](https://ai.facebook.com/blog/wav2vec-20-learning-the-structure-of-speech-from-raw-audio/) by Alexei Baevski, Michael Auli, and Alex Conneau.\n",
        "\n",
        "Using a novel contrastive pretraining objective, Wav2Vec2 learns powerful speech representations from more than 50.000 hours of unlabeled speech. Similar, to [BERT's masked language modeling](http://jalammar.github.io/illustrated-bert/), the model learns contextualized speech representations by randomly masking feature vectors before passing them to a transformer network.\n",
        "\n",
        "![wav2vec2_structure](https://raw.githubusercontent.com/patrickvonplaten/scientific_images/master/wav2vec2.png)\n",
        "\n",
        "For the first time, it has been shown that pretraining, followed by fine-tuning on very little labeled speech data achieves competitive results to state-of-the-art ASR systems. Using as little as 10 minutes of labeled data, Wav2Vec2 yields a word error rate (WER) of less than 5% on the clean test set of [LibriSpeech](https://huggingface.co/datasets/librispeech_asr) - *cf.* with Table 9 of the [paper](https://arxiv.org/pdf/2006.11477.pdf)."
      ]
    },
    {
      "cell_type": "markdown",
      "metadata": {
        "id": "nT_QrfWtsxIz"
      },
      "source": [
        "In this notebook, we will give an in-detail explanation of how Wav2Vec2's pretrained checkpoints can be fine-tuned on any English ASR dataset. Note that in this notebook, we will fine-tune Wav2Vec2 without making use of a language model. It is much simpler to use Wav2Vec2 without a language model as an end-to-end ASR system and it has been shown that a standalone Wav2Vec2 acoustic model achieves impressive results. For demonstration purposes, we fine-tune the \"base\"-sized [pretrained checkpoint](https://huggingface.co/facebook/wav2vec2-base) on the rather small [Timit](https://huggingface.co/datasets/timit_asr) dataset that contains just 5h of training data."
      ]
    },
    {
      "cell_type": "markdown",
      "metadata": {
        "id": "Gx9OdDYrCtQ1"
      },
      "source": [
        "Wav2Vec2 is fine-tuned using Connectionist Temporal Classification (CTC), which is an algorithm that is used to train neural networks for sequence-to-sequence problems and mainly in Automatic Speech Recognition and handwriting recognition. \n",
        "\n",
        "I highly recommend reading the blog post [Sequence Modeling with CTC (2017)](https://distill.pub/2017/ctc/) very well-written blog post by Awni Hannun."
      ]
    },
    {
      "cell_type": "markdown",
      "metadata": {
        "id": "qW3J3rBizeds"
      },
      "source": [
        "First, let's try to get a good GPU in our colab! With Google Colab's free version it's sadly becoming much harder to get access to a good GPU. With Google Colab Pro, one has a much easier time getting access to a V100 or P100 GPU however."
      ]
    },
    {
      "cell_type": "code",
      "execution_count": null,
      "metadata": {
        "colab": {
          "base_uri": "https://localhost:8080/"
        },
        "id": "SLAufgh_xxj7",
        "outputId": "25f168d4-a7e2-41de-de43-cf9dc32b6f04"
      },
      "outputs": [
        {
          "output_type": "stream",
          "name": "stdout",
          "text": [
            "Not connected to a GPU\n"
          ]
        }
      ],
      "source": [
        "gpu_info = !nvidia-smi\n",
        "gpu_info = '\\n'.join(gpu_info)\n",
        "if gpu_info.find('failed') >= 0:\n",
        "  print('Not connected to a GPU')\n",
        "else:\n",
        "  print(gpu_info)"
      ]
    },
    {
      "cell_type": "markdown",
      "metadata": {
        "id": "e335hPmdtASZ"
      },
      "source": [
        "Before we start, let's install both `datasets` and `transformers` from master. Also, we need the `librosa` package to load audio files and the `jiwer` to evaluate our fine-tuned model using the [word error rate (WER)](https://huggingface.co/metrics/wer) metric ${}^1$."
      ]
    },
    {
      "cell_type": "code",
      "execution_count": null,
      "metadata": {
        "id": "c8eh87Hoee5d"
      },
      "outputs": [],
      "source": [
        "%%capture\n",
        "!pip install datasets==1.18.3\n",
        "!pip install transformers==4.17.0\n",
        "!pip install jiwer"
      ]
    },
    {
      "cell_type": "markdown",
      "metadata": {
        "id": "8_6kYmDMH9lR"
      },
      "source": [
        "Next we strongly suggest to upload your training checkpoints directly to the [🤗 Hub](https://huggingface.co/) while training. The [🤗 Hub](https://huggingface.co/) has integrated version control so you can be sure that no model checkpoint is getting lost during training. \n",
        "\n",
        "To do so you have to store your authentication token from the Hugging Face website (sign up [here](https://huggingface.co/join) if you haven't already!)"
      ]
    },
    {
      "cell_type": "code",
      "execution_count": null,
      "metadata": {
        "colab": {
          "base_uri": "https://localhost:8080/",
          "height": 415,
          "referenced_widgets": [
            "396755f4b4154d678b35260201084266",
            "00f203492a7f4604b1b1e68fb589fddb",
            "cd800f10a6a044a8b64ecb7992d0d5e3",
            "2f7f5075ca914bbd89d56751ae895a79",
            "8ec004bc32844b729fa103ab654269d3",
            "bfc5061a66a848b199c514fb7301fb77",
            "87408cd74e67463fa38971bf8ae243c7",
            "3e5937cdeb314c34a5cc6cee005f44e2",
            "5cd492e5ae934727beac22bb9bfc18a4",
            "cfdb2776e83245f782ebb55fc2964db4",
            "1335174dceb84aee95e8796b0c87f49f",
            "2cfaea1cc2774836961b97ab19a9337d",
            "aa6b9fd165cc48fd905c645670c5c23a",
            "b7f6d4f6773b4e16aada00b532f1bddd",
            "2c4ad0ca425347c1a33e0b4dece228d8",
            "11d1d27c62144077a52af079081219f4",
            "549dbc2cf55346ce90d83fd01cc7ff0a"
          ]
        },
        "id": "zFLBDyzQIA3R",
        "outputId": "c8bd29d3-d318-4894-9a7c-7d4135d6c058"
      },
      "outputs": [
        {
          "output_type": "stream",
          "name": "stdout",
          "text": [
            "Login successful\n",
            "Your token has been saved to /root/.huggingface/token\n",
            "\u001b[1m\u001b[31mAuthenticated through git-credential store but this isn't the helper defined on your machine.\n",
            "You might have to re-authenticate when pushing to the Hugging Face Hub. Run the following command in your terminal in case you want to set this credential helper as the default\n",
            "\n",
            "git config --global credential.helper store\u001b[0m\n"
          ]
        }
      ],
      "source": [
        "from huggingface_hub import notebook_login\n",
        "\n",
        "notebook_login()"
      ]
    },
    {
      "cell_type": "markdown",
      "metadata": {
        "id": "zCyw5D23IQ1F"
      },
      "source": [
        "\n",
        "Then you need to install Git-LFS to upload your model checkpoints:"
      ]
    },
    {
      "cell_type": "code",
      "execution_count": null,
      "metadata": {
        "id": "Q9BnQDhOITBC"
      },
      "outputs": [],
      "source": [
        "%%capture\n",
        "!apt install git-lfs"
      ]
    },
    {
      "cell_type": "markdown",
      "metadata": {
        "id": "Mn9swf6EQ9Vd"
      },
      "source": [
        "\n",
        "\n",
        "\n",
        "---\n",
        "\n",
        "${}^1$ Timit is usually evaluated using the phoneme error rate (PER), but by far the most common metric in ASR is the word error rate (WER). To keep this notebook as general as possible we decided to evaluate the model using WER."
      ]
    },
    {
      "cell_type": "markdown",
      "metadata": {
        "id": "0mW-C1Nt-j7k"
      },
      "source": [
        "## Prepare Data, Tokenizer, Feature Extractor"
      ]
    },
    {
      "cell_type": "markdown",
      "metadata": {
        "id": "BeBosnY9BH3e"
      },
      "source": [
        "ASR models transcribe speech to text, which means that we both need a feature extractor that processes the speech signal to the model's input format, *e.g.* a feature vector, and a tokenizer that processes the model's output format to text. \n",
        "\n",
        "In 🤗 Transformers, the Wav2Vec2 model is thus accompanied by both a tokenizer, called [Wav2Vec2CTCTokenizer](https://huggingface.co/transformers/master/model_doc/wav2vec2.html#wav2vec2ctctokenizer), and a feature extractor, called [Wav2Vec2FeatureExtractor](https://huggingface.co/transformers/master/model_doc/wav2vec2.html#wav2vec2featureextractor).\n",
        "\n",
        "Let's start by creating the tokenizer responsible for decoding the model's predictions."
      ]
    },
    {
      "cell_type": "markdown",
      "metadata": {
        "id": "sEXEWEJGQPqD"
      },
      "source": [
        "### Create Wav2Vec2CTCTokenizer"
      ]
    },
    {
      "cell_type": "markdown",
      "metadata": {
        "id": "tWmMikuNEKl_"
      },
      "source": [
        "The [pretrained Wav2Vec2 checkpoint]( ) maps the speech signal to a sequence of context representations as illustrated in the figure above. A fine-tuned Wav2Vec2 checkpoint needs to map this sequence of context representations to its corresponding transcription so that a linear layer has to be added on top of the transformer block (shown in yellow). This linear layer is used to classifies each context representation to a token class analogous how, *e.g.*, after pretraining a linear layer is added on top of BERT's embeddings for further classification - *cf.* with *\"BERT\"* section of this [blog post](https://huggingface.co/blog/warm-starting-encoder-decoder).\n",
        "\n",
        "The output size of this layer corresponds to the number of tokens in the vocabulary, which does **not** depend on Wav2Vec2's pretraining task, but only on the labeled dataset used for fine-tuning. So in the first step, we will take a look at Timit and define a vocabulary based on the dataset's transcriptions."
      ]
    },
    {
      "cell_type": "markdown",
      "metadata": {
        "id": "bee4g9rpLxll"
      },
      "source": [
        "Let's start by loading the dataset and taking a look at its structure."
      ]
    },
    {
      "cell_type": "code",
      "execution_count": null,
      "metadata": {
        "colab": {
          "base_uri": "https://localhost:8080/",
          "height": 200,
          "referenced_widgets": [
            "641b8e763936490899317492bb415372",
            "c9046b4344c442169cdcebcc4c778b47",
            "bbd66c8e10bf41eea2c33b42ff4ceead",
            "f667fef46c634de5b5a097f54fc22300",
            "aaa3b27d59494ca9b67e09bf753b64a3",
            "4f9ef59840df442081bcd1d03ef0971f",
            "22d647e6f3084572b7f564d196df3ec4",
            "f02e0e0b8b1d4b17ae03b4f823dffbde",
            "7706a0459e8c4c05ae18b80cceac1702",
            "96ba9740f87d43929a975d60dbd422b4",
            "15389cec9c3a4d79b976f44ccdaa188b",
            "92ef6ffa0a334aa9af85f4cba73c18ec",
            "61c99b8d354c4c4f9fd79cce746d2636",
            "9964e16f1b374db89a7959fca8f9aa91",
            "946409355b3540509900ddececde0c28",
            "f0d4bbcfb27e4bbbb995aa73d09290fb",
            "17fa8bf4d1054af68f39e9b4c0646511",
            "282da4f9d64b47ae8b419eab69413b6e",
            "6748157b802442d0b0bad99390c6a692",
            "cdc466203c8b416f93b37cc3d8372d15",
            "689f5aaa526542cb8026e5994161ea44",
            "e6de319c9f8a4f6bb7a168fcbdbd98aa",
            "8546de21944b423bb399bb9f5df31b57",
            "b3ec9f52f2924ecd869a0d82700ac0cd",
            "a6bf4d3e0bd5460dbab9098f1283ba9f",
            "9b03b4cc46134b8aa184a6169d3cfe74",
            "dffcf012c89c4d49bb49c995a97721bb",
            "a3f2ec5baca046049944c09635c3776a",
            "913fc529cb344d57b0d37f4a58642d87",
            "72e30b437b6d42d890baa0edbdcb5d24",
            "0619b14f745744bd9edcd55ca5579664",
            "cba490029048459887d19757d7a4a1fc",
            "6075e17dc0d342cfadc3fe2b8dc48c1b",
            "96efac9d7f1649bfa335b562f04e885e",
            "976b99607e40477c910e429eae9f46af",
            "ad27589e903a4c15a4b74d9018c64c4b",
            "a1452540a7e0487c8a953d01d6096174",
            "0da3e01474b44e218ce319f176540a45",
            "0d253ec137814d3faa384f9f00e004db",
            "7b4a3601d5434b94a4e5b2392d2a7867",
            "2ace5dac0a2e4cd09e06411c1aa63bd9",
            "a9e1d77501a342d89f19a93a34916b4e",
            "cd8f2935ad484123a0efd0a6566b4511",
            "ad381eb53d62405bbc450ea76ec8c7e6",
            "9d1daf4252114eadb5694e0386611d6c",
            "5227b99db82e4c33845b5bf38d855708",
            "db3df709295644fba2f5bec8cae17a95",
            "a70f4a1782b34863a2adc56cb7db4f25",
            "d63e1d53acc94ba2951c457ca426b731",
            "b13cf1926b8d45bf8a0ea9aa236bbcf7",
            "4f40829704e448a18e666f21adf4370e",
            "9e687d2e6ac0465a96721bdd2e92ad01",
            "b5f238c8be4c437c94b977018a9bcf7b",
            "ad2d43b5f935408281c2ed85f722e506",
            "c604125686a74a2484ef039e663f26b0",
            "c1a25e4e1d164f1da935107594ad9915",
            "19ee1bb548274e9ab381fab5c8633c55",
            "dd21571d9c324b05b3cd035da66bb60a",
            "3a6a8144555645288925447a71d3d703",
            "3de4d2a300424244932971da14dd7197",
            "a01be10d07dc4b1bb1bbe674acc88463",
            "5e11fa5a80594a40a3a5d305788bf879",
            "dfe26282832746b1b0d194d91b2724c0",
            "c4d78efee2a24700a7fc678513178422",
            "c217e0f7d88d41d8a27b533bd8bc509e",
            "f039bc22569241888c0db353cca6ab80"
          ]
        },
        "id": "2MMXcWFFgCXU",
        "outputId": "bc5280ad-7d86-4d4b-f6e6-4c48c37533e9"
      },
      "outputs": [
        {
          "output_type": "display_data",
          "data": {
            "text/plain": [
              "Downloading:   0%|          | 0.00/2.40k [00:00<?, ?B/s]"
            ],
            "application/vnd.jupyter.widget-view+json": {
              "version_major": 2,
              "version_minor": 0,
              "model_id": "641b8e763936490899317492bb415372"
            }
          },
          "metadata": {}
        },
        {
          "output_type": "display_data",
          "data": {
            "text/plain": [
              "Downloading:   0%|          | 0.00/1.06k [00:00<?, ?B/s]"
            ],
            "application/vnd.jupyter.widget-view+json": {
              "version_major": 2,
              "version_minor": 0,
              "model_id": "92ef6ffa0a334aa9af85f4cba73c18ec"
            }
          },
          "metadata": {}
        },
        {
          "output_type": "stream",
          "name": "stdout",
          "text": [
            "Downloading and preparing dataset timit_asr/clean (download: 828.75 MiB, generated: 7.90 MiB, post-processed: Unknown size, total: 836.65 MiB) to /root/.cache/huggingface/datasets/timit_asr/clean/2.0.1/b11b576ddcccbcefa7c9f0c4e6c2a43756f3033adffe0fb686aa61043d0450ad...\n"
          ]
        },
        {
          "output_type": "display_data",
          "data": {
            "text/plain": [
              "Downloading:   0%|          | 0.00/869M [00:00<?, ?B/s]"
            ],
            "application/vnd.jupyter.widget-view+json": {
              "version_major": 2,
              "version_minor": 0,
              "model_id": "8546de21944b423bb399bb9f5df31b57"
            }
          },
          "metadata": {}
        },
        {
          "output_type": "display_data",
          "data": {
            "text/plain": [
              "0 examples [00:00, ? examples/s]"
            ],
            "application/vnd.jupyter.widget-view+json": {
              "version_major": 2,
              "version_minor": 0,
              "model_id": "96efac9d7f1649bfa335b562f04e885e"
            }
          },
          "metadata": {}
        },
        {
          "output_type": "display_data",
          "data": {
            "text/plain": [
              "0 examples [00:00, ? examples/s]"
            ],
            "application/vnd.jupyter.widget-view+json": {
              "version_major": 2,
              "version_minor": 0,
              "model_id": "9d1daf4252114eadb5694e0386611d6c"
            }
          },
          "metadata": {}
        },
        {
          "output_type": "stream",
          "name": "stdout",
          "text": [
            "Dataset timit_asr downloaded and prepared to /root/.cache/huggingface/datasets/timit_asr/clean/2.0.1/b11b576ddcccbcefa7c9f0c4e6c2a43756f3033adffe0fb686aa61043d0450ad. Subsequent calls will reuse this data.\n"
          ]
        },
        {
          "output_type": "display_data",
          "data": {
            "text/plain": [
              "  0%|          | 0/2 [00:00<?, ?it/s]"
            ],
            "application/vnd.jupyter.widget-view+json": {
              "version_major": 2,
              "version_minor": 0,
              "model_id": "c1a25e4e1d164f1da935107594ad9915"
            }
          },
          "metadata": {}
        }
      ],
      "source": [
        "from datasets import load_dataset, load_metric\n",
        "\n",
        "timit = load_dataset(\"timit_asr\")"
      ]
    },
    {
      "cell_type": "code",
      "execution_count": null,
      "metadata": {
        "colab": {
          "base_uri": "https://localhost:8080/"
        },
        "id": "QbIM-L0xdvf4",
        "outputId": "d72eb062-b8d5-4c88-e2d1-613e520bce7c"
      },
      "outputs": [
        {
          "output_type": "execute_result",
          "data": {
            "text/plain": [
              "DatasetDict({\n",
              "    train: Dataset({\n",
              "        features: ['file', 'audio', 'text', 'phonetic_detail', 'word_detail', 'dialect_region', 'sentence_type', 'speaker_id', 'id'],\n",
              "        num_rows: 4620\n",
              "    })\n",
              "    test: Dataset({\n",
              "        features: ['file', 'audio', 'text', 'phonetic_detail', 'word_detail', 'dialect_region', 'sentence_type', 'speaker_id', 'id'],\n",
              "        num_rows: 1680\n",
              "    })\n",
              "})"
            ]
          },
          "metadata": {},
          "execution_count": 7
        }
      ],
      "source": [
        "timit"
      ]
    },
    {
      "cell_type": "markdown",
      "metadata": {
        "id": "ri5y5N_HMANq"
      },
      "source": [
        "Many ASR datasets only provide the target text, `'text'` for each audio `'audio'` and file `'file'`. Timit actually provides much more information about each audio file, such as the `'phonetic_detail'`, etc., which is why many researchers choose to evaluate their models on phoneme classification instead of speech recognition when working with Timit. However, we want to keep the notebook as general as possible, so that we will only consider the transcribed text for fine-tuning.\n",
        "\n"
      ]
    },
    {
      "cell_type": "code",
      "execution_count": null,
      "metadata": {
        "id": "kbyq6lDgQc2a"
      },
      "outputs": [],
      "source": [
        "timit = timit.remove_columns([\"phonetic_detail\", \"word_detail\", \"dialect_region\", \"id\", \"sentence_type\", \"speaker_id\"])"
      ]
    },
    {
      "cell_type": "markdown",
      "metadata": {
        "id": "Go9Hq4e4NDT9"
      },
      "source": [
        "Let's write a short function to display some random samples of the dataset and run it a couple of times to get a feeling for the transcriptions."
      ]
    },
    {
      "cell_type": "code",
      "execution_count": null,
      "metadata": {
        "id": "72737oog2F6U"
      },
      "outputs": [],
      "source": [
        "from datasets import ClassLabel\n",
        "import random\n",
        "import pandas as pd\n",
        "from IPython.display import display, HTML\n",
        "\n",
        "def show_random_elements(dataset, num_examples=10):\n",
        "    assert num_examples <= len(dataset), \"Can't pick more elements than there are in the dataset.\"\n",
        "    picks = []\n",
        "    for _ in range(num_examples):\n",
        "        pick = random.randint(0, len(dataset)-1)\n",
        "        while pick in picks:\n",
        "            pick = random.randint(0, len(dataset)-1)\n",
        "        picks.append(pick)\n",
        "    \n",
        "    df = pd.DataFrame(dataset[picks])\n",
        "    display(HTML(df.to_html()))"
      ]
    },
    {
      "cell_type": "code",
      "execution_count": null,
      "metadata": {
        "colab": {
          "base_uri": "https://localhost:8080/",
          "height": 363
        },
        "id": "K_JUmf3G3b9S",
        "outputId": "ba9c77e9-9dcd-46af-93b6-9ebd442f775b"
      },
      "outputs": [
        {
          "output_type": "display_data",
          "data": {
            "text/plain": [
              "<IPython.core.display.HTML object>"
            ],
            "text/html": [
              "<table border=\"1\" class=\"dataframe\">\n",
              "  <thead>\n",
              "    <tr style=\"text-align: right;\">\n",
              "      <th></th>\n",
              "      <th>text</th>\n",
              "    </tr>\n",
              "  </thead>\n",
              "  <tbody>\n",
              "    <tr>\n",
              "      <th>0</th>\n",
              "      <td>They all like long hot showers.</td>\n",
              "    </tr>\n",
              "    <tr>\n",
              "      <th>1</th>\n",
              "      <td>The sculptor looked at him, bugeyed and amazed, angry.</td>\n",
              "    </tr>\n",
              "    <tr>\n",
              "      <th>2</th>\n",
              "      <td>Would you please confirm government policy regarding waste removal?</td>\n",
              "    </tr>\n",
              "    <tr>\n",
              "      <th>3</th>\n",
              "      <td>She had your dark suit in greasy wash water all year.</td>\n",
              "    </tr>\n",
              "    <tr>\n",
              "      <th>4</th>\n",
              "      <td>Each stag surely finds a big fawn.</td>\n",
              "    </tr>\n",
              "    <tr>\n",
              "      <th>5</th>\n",
              "      <td>Snakes are ugly, he said again.</td>\n",
              "    </tr>\n",
              "    <tr>\n",
              "      <th>6</th>\n",
              "      <td>Valley Lodge yearly celebrates the first calf born.</td>\n",
              "    </tr>\n",
              "    <tr>\n",
              "      <th>7</th>\n",
              "      <td>The two artists exchanged autographs.</td>\n",
              "    </tr>\n",
              "    <tr>\n",
              "      <th>8</th>\n",
              "      <td>Clapping spurs to the bronc, he set off at a sharp canter, with growing alarm.</td>\n",
              "    </tr>\n",
              "    <tr>\n",
              "      <th>9</th>\n",
              "      <td>Masquerade parties tax one's imagination.</td>\n",
              "    </tr>\n",
              "  </tbody>\n",
              "</table>"
            ]
          },
          "metadata": {}
        }
      ],
      "source": [
        "show_random_elements(timit[\"train\"].remove_columns([\"audio\", \"file\"]), num_examples=10)"
      ]
    },
    {
      "cell_type": "markdown",
      "metadata": {
        "id": "fowcOllGNNju"
      },
      "source": [
        "Alright! The transcriptions look very clean and the language seems to correspond more to written text than dialogue. This makes sense taking into account that [Timit](https://huggingface.co/datasets/timit_asr) is a read speech corpus."
      ]
    },
    {
      "cell_type": "markdown",
      "metadata": {
        "id": "vq7OR50LN49m"
      },
      "source": [
        "We can see that the transcriptions contain some special characters, such as `,.?!;:`. Without a language model, it is much harder to classify speech chunks to such special characters because they don't really correspond to a characteristic sound unit. *E.g.*, the letter `\"s\"` has a more or less clear sound, whereas the special character `\".\"` does not.\n",
        "Also in order to understand the meaning of a speech signal, it is usually not necessary to include special characters in the transcription.\n",
        "\n",
        "In addition, we normalize the text to only have lower case letters and append a word separator token at the end."
      ]
    },
    {
      "cell_type": "code",
      "execution_count": null,
      "metadata": {
        "id": "svKzVJ_hQGK6"
      },
      "outputs": [],
      "source": [
        "import re\n",
        "chars_to_ignore_regex = '[\\,\\?\\.\\!\\-\\;\\:\\\"]'\n",
        "\n",
        "def remove_special_characters(batch):\n",
        "    batch[\"text\"] = re.sub(chars_to_ignore_regex, '', batch[\"text\"]).lower() + \" \"\n",
        "    return batch"
      ]
    },
    {
      "cell_type": "code",
      "execution_count": null,
      "metadata": {
        "colab": {
          "base_uri": "https://localhost:8080/",
          "height": 81,
          "referenced_widgets": [
            "3e97e9be369a4ab1aba97bcd3f503fd9",
            "0ace776517d84976ba13e3461b606cad",
            "7fb8cd6265eb488bb5a42195fbc12e52",
            "11714b87693b4f458fe2256e9f115f0d",
            "d6d8350daef7420a8f8edeceec32ee26",
            "c9cef08162c4410fbdd7de6acb35572f",
            "995bbdf8648348c68b4c1f6ebec9b4a3",
            "80baa43351824c1a8ab0a5cba1952c2b",
            "72b95580ac2046b8bfaa6693db000bee",
            "2db80deca8d74be5ab1bd0638b056e38",
            "119e58fd9d364db1b1f5e363a7b76e06",
            "61a5736252a64840989a86410035a7de",
            "c11fe5939cde4d7f86b0dd5464f26515",
            "f832fd72b60c4814b982c1c69791e7a1",
            "7195e111ddcd45f3a120a50c5726ccb7",
            "9eb46b82f4074f2a9213cf535f3797fd",
            "937c19d2676c444da818c7f0efa7e077",
            "e3b565e1c9c547c9a06fdfaec8a2cd3d",
            "c8620bf90d474d02bef60f7d56f9ccce",
            "6422974f1bc84a29b8e3c97be9b3513b",
            "67a948b0a285431bb24921350b2950d5",
            "b687affa5e8641a1aa6b9977bc38df28"
          ]
        },
        "id": "XIHocAuTQbBR",
        "outputId": "1d078f8f-420a-49a7-9558-e0ecc9c12f25"
      },
      "outputs": [
        {
          "output_type": "display_data",
          "data": {
            "text/plain": [
              "0ex [00:00, ?ex/s]"
            ],
            "application/vnd.jupyter.widget-view+json": {
              "version_major": 2,
              "version_minor": 0,
              "model_id": "3e97e9be369a4ab1aba97bcd3f503fd9"
            }
          },
          "metadata": {}
        },
        {
          "output_type": "display_data",
          "data": {
            "text/plain": [
              "0ex [00:00, ?ex/s]"
            ],
            "application/vnd.jupyter.widget-view+json": {
              "version_major": 2,
              "version_minor": 0,
              "model_id": "61a5736252a64840989a86410035a7de"
            }
          },
          "metadata": {}
        }
      ],
      "source": [
        "timit = timit.map(remove_special_characters)"
      ]
    },
    {
      "cell_type": "code",
      "execution_count": null,
      "metadata": {
        "colab": {
          "base_uri": "https://localhost:8080/",
          "height": 363
        },
        "id": "RBDRAAYxRE6n",
        "outputId": "b00c5df7-1a4b-4cee-fb26-dc46f3b41ab7"
      },
      "outputs": [
        {
          "output_type": "display_data",
          "data": {
            "text/plain": [
              "<IPython.core.display.HTML object>"
            ],
            "text/html": [
              "<table border=\"1\" class=\"dataframe\">\n",
              "  <thead>\n",
              "    <tr style=\"text-align: right;\">\n",
              "      <th></th>\n",
              "      <th>text</th>\n",
              "    </tr>\n",
              "  </thead>\n",
              "  <tbody>\n",
              "    <tr>\n",
              "      <th>0</th>\n",
              "      <td>she had your dark suit in greasy wash water all year</td>\n",
              "    </tr>\n",
              "    <tr>\n",
              "      <th>1</th>\n",
              "      <td>the local drugstore was charged with illegally dispensing tranquilizers</td>\n",
              "    </tr>\n",
              "    <tr>\n",
              "      <th>2</th>\n",
              "      <td>she had your dark suit in greasy wash water all year</td>\n",
              "    </tr>\n",
              "    <tr>\n",
              "      <th>3</th>\n",
              "      <td>this is our singular goal</td>\n",
              "    </tr>\n",
              "    <tr>\n",
              "      <th>4</th>\n",
              "      <td>she had your dark suit in greasy wash water all year</td>\n",
              "    </tr>\n",
              "    <tr>\n",
              "      <th>5</th>\n",
              "      <td>the cow wandered from the farmland and became lost</td>\n",
              "    </tr>\n",
              "    <tr>\n",
              "      <th>6</th>\n",
              "      <td>she had your dark suit in greasy wash water all year</td>\n",
              "    </tr>\n",
              "    <tr>\n",
              "      <th>7</th>\n",
              "      <td>soak up local color</td>\n",
              "    </tr>\n",
              "    <tr>\n",
              "      <th>8</th>\n",
              "      <td>she had your dark suit in greasy wash water all year</td>\n",
              "    </tr>\n",
              "    <tr>\n",
              "      <th>9</th>\n",
              "      <td>be careful not to plow over the flower beds</td>\n",
              "    </tr>\n",
              "  </tbody>\n",
              "</table>"
            ]
          },
          "metadata": {}
        }
      ],
      "source": [
        "show_random_elements(timit[\"train\"].remove_columns([\"audio\", \"file\"]))"
      ]
    },
    {
      "cell_type": "markdown",
      "metadata": {
        "id": "jwfaptH5RJwA"
      },
      "source": [
        "Good! This looks better. We have removed most special characters from transcriptions and normalized them to lower-case only.\n",
        "\n",
        "In CTC, it is common to classify speech chunks into letters, so we will do the same here. \n",
        "Let's extract all distinct letters of the training and test data and build our vocabulary from this set of letters.\n",
        "\n",
        "We write a mapping function that concatenates all transcriptions into one long transcription and then transforms the string into a set of chars. \n",
        "It is important to pass the argument `batched=True` to the `map(...)` function so that the mapping function has access to all transcriptions at once."
      ]
    },
    {
      "cell_type": "code",
      "execution_count": null,
      "metadata": {
        "id": "LwCshNbbeRZR"
      },
      "outputs": [],
      "source": [
        "def extract_all_chars(batch):\n",
        "  all_text = \" \".join(batch[\"text\"])\n",
        "  vocab = list(set(all_text))\n",
        "  return {\"vocab\": [vocab], \"all_text\": [all_text]}"
      ]
    },
    {
      "cell_type": "code",
      "execution_count": null,
      "metadata": {
        "colab": {
          "base_uri": "https://localhost:8080/",
          "height": 81,
          "referenced_widgets": [
            "2e74dd573b84455cac0e85ecf4925b58",
            "f812a1a0890a481c9dee2bffd94012a9",
            "727c7818eb214df6b2c51a3eb62d0ddc",
            "7c8e9fa959cc4c2380aa65f24ef92257",
            "bf456e8aecc94c72841ca418a3957146",
            "d8db7b80156d472c8ff3ae98b3811374",
            "7a3e78a726c04205968e4c8119fd2add",
            "a08f4c4ad87d4c82a969a947e796f8c9",
            "74ccf762ece24e7fb5eb8004b3ac8102",
            "7b20c1a24b3143c4b5faf1118d2804c5",
            "03a0075ec40a435e99c00104180b6a31",
            "eb3144e2b6ea40e6a9d2826fe334f8ba",
            "d8421b85167e4369bef715da00bea5b2",
            "c4e59e9d0cf04f958390c6dc2a5bdca4",
            "813c116bcd4d4bc9be131fa57b879112",
            "82ba91adde5c4ed39ae5d3c9860ba92e",
            "419a20cf53cc45aa84cd81fef935b48c",
            "f339c76681844908bcc340a63b77f0ed",
            "08fd9ba17909461cb67c148dff84fc46",
            "714a79dba33b476a8215325b61f0cd3f",
            "3e0f0a6f5e6d4ce8b5b76769ac64d72c",
            "dfa7fe6dc3bb4e3483abfb33b80c6a9d"
          ]
        },
        "id": "_m6uUjjcfbjH",
        "outputId": "2f56e027-8124-47bf-a1da-5b719334382d"
      },
      "outputs": [
        {
          "output_type": "display_data",
          "data": {
            "text/plain": [
              "  0%|          | 0/1 [00:00<?, ?ba/s]"
            ],
            "application/vnd.jupyter.widget-view+json": {
              "version_major": 2,
              "version_minor": 0,
              "model_id": "2e74dd573b84455cac0e85ecf4925b58"
            }
          },
          "metadata": {}
        },
        {
          "output_type": "display_data",
          "data": {
            "text/plain": [
              "  0%|          | 0/1 [00:00<?, ?ba/s]"
            ],
            "application/vnd.jupyter.widget-view+json": {
              "version_major": 2,
              "version_minor": 0,
              "model_id": "eb3144e2b6ea40e6a9d2826fe334f8ba"
            }
          },
          "metadata": {}
        }
      ],
      "source": [
        "vocabs = timit.map(extract_all_chars, batched=True, batch_size=-1, keep_in_memory=True, remove_columns=timit.column_names[\"train\"])"
      ]
    },
    {
      "cell_type": "markdown",
      "metadata": {
        "id": "7oVgE8RZSJNP"
      },
      "source": [
        "Now, we create the union of all distinct letters in the training dataset and test dataset and convert the resulting list into an enumerated dictionary."
      ]
    },
    {
      "cell_type": "code",
      "execution_count": null,
      "metadata": {
        "id": "aQfneNsmlJI0"
      },
      "outputs": [],
      "source": [
        "vocab_list = list(set(vocabs[\"train\"][\"vocab\"][0]) | set(vocabs[\"test\"][\"vocab\"][0]))"
      ]
    },
    {
      "cell_type": "code",
      "execution_count": null,
      "metadata": {
        "colab": {
          "base_uri": "https://localhost:8080/"
        },
        "id": "_0kRndSvqaKk",
        "outputId": "8234fca4-9da6-47b0-d6f2-e808c5ce48f5"
      },
      "outputs": [
        {
          "output_type": "execute_result",
          "data": {
            "text/plain": [
              "{' ': 11,\n",
              " \"'\": 4,\n",
              " 'a': 3,\n",
              " 'b': 0,\n",
              " 'c': 20,\n",
              " 'd': 24,\n",
              " 'e': 9,\n",
              " 'f': 8,\n",
              " 'g': 15,\n",
              " 'h': 25,\n",
              " 'i': 17,\n",
              " 'j': 5,\n",
              " 'k': 18,\n",
              " 'l': 22,\n",
              " 'm': 10,\n",
              " 'n': 12,\n",
              " 'o': 19,\n",
              " 'p': 14,\n",
              " 'q': 2,\n",
              " 'r': 6,\n",
              " 's': 27,\n",
              " 't': 13,\n",
              " 'u': 23,\n",
              " 'v': 7,\n",
              " 'w': 1,\n",
              " 'x': 26,\n",
              " 'y': 21,\n",
              " 'z': 16}"
            ]
          },
          "metadata": {},
          "execution_count": 17
        }
      ],
      "source": [
        "vocab_dict = {v: k for k, v in enumerate(vocab_list)}\n",
        "vocab_dict"
      ]
    },
    {
      "cell_type": "markdown",
      "metadata": {
        "id": "JOSzbvs9SXT1"
      },
      "source": [
        "Cool, we see that all letters of the alphabet occur in the dataset (which is not really surprising) and we also extracted the special characters `\" \"` and `'`. Note that we did not exclude those special characters because: \n",
        "\n",
        "- The model has to learn to predict when a word finished or else the model prediction would always be a sequence of chars which would make it impossible to separate words from each other.\n",
        "- In English, we need to keep the `'` character to differentiate between words, *e.g.*, `\"it's\"` and `\"its\"` which have very different meanings."
      ]
    },
    {
      "cell_type": "markdown",
      "metadata": {
        "id": "b1fBRCn-TRaO"
      },
      "source": [
        "To make it clearer that `\" \"` has its own token class, we give it a more visible character `|`. In addition, we also add an \"unknown\" token so that the model can later deal with characters not encountered in Timit's training set. \n",
        "\n",
        "Finally, we also add a padding token that corresponds to CTC's \"*blank token*\". The \"blank token\" is a core component of the CTC algorithm. For more information, please take a look at the \"Alignment\" section [here](https://distill.pub/2017/ctc/)."
      ]
    },
    {
      "cell_type": "code",
      "execution_count": null,
      "metadata": {
        "id": "npbIbBoLgaFX"
      },
      "outputs": [],
      "source": [
        "vocab_dict[\"|\"] = vocab_dict[\" \"]\n",
        "del vocab_dict[\" \"]"
      ]
    },
    {
      "cell_type": "code",
      "execution_count": null,
      "metadata": {
        "colab": {
          "base_uri": "https://localhost:8080/"
        },
        "id": "znF0bNunsjbl",
        "outputId": "64e550cc-70f8-4fda-f3b5-a65f5952965f"
      },
      "outputs": [
        {
          "output_type": "execute_result",
          "data": {
            "text/plain": [
              "30"
            ]
          },
          "metadata": {},
          "execution_count": 19
        }
      ],
      "source": [
        "vocab_dict[\"[UNK]\"] = len(vocab_dict)\n",
        "vocab_dict[\"[PAD]\"] = len(vocab_dict)\n",
        "len(vocab_dict)"
      ]
    },
    {
      "cell_type": "markdown",
      "metadata": {
        "id": "SFPGfet8U5sL"
      },
      "source": [
        "Cool, now our vocabulary is complete and consists of 30 tokens, which means that the linear layer that we will add on top of the pretrained Wav2Vec2 checkpoint will have an output dimension of 30."
      ]
    },
    {
      "cell_type": "markdown",
      "metadata": {
        "id": "1CujRgBNVRaD"
      },
      "source": [
        "Let's now save the vocabulary as a json file."
      ]
    },
    {
      "cell_type": "code",
      "execution_count": null,
      "metadata": {
        "id": "ehyUoh9vk191"
      },
      "outputs": [],
      "source": [
        "import json\n",
        "with open('vocab.json', 'w') as vocab_file:\n",
        "    json.dump(vocab_dict, vocab_file)"
      ]
    },
    {
      "cell_type": "markdown",
      "metadata": {
        "id": "SHJDaKlIVVim"
      },
      "source": [
        "In a final step, we use the json file to instantiate an object of the `Wav2Vec2CTCTokenizer` class."
      ]
    },
    {
      "cell_type": "code",
      "execution_count": null,
      "metadata": {
        "id": "xriFGEWQkO4M"
      },
      "outputs": [],
      "source": [
        "from transformers import Wav2Vec2CTCTokenizer\n",
        "\n",
        "tokenizer = Wav2Vec2CTCTokenizer(\"./vocab.json\", unk_token=\"[UNK]\", pad_token=\"[PAD]\", word_delimiter_token=\"|\")"
      ]
    },
    {
      "cell_type": "markdown",
      "metadata": {
        "id": "P6L2EVWwIazG"
      },
      "source": [
        "If one wants to re-use the just created tokenizer with the fine-tuned model of this notebook, it is strongly advised to upload the `tokenizer` to the [🤗 Hub](https://huggingface.co/). Let's call the repo to which we will upload the files\n",
        "`\"wav2vec2-base-timit-demo-colab\"`:"
      ]
    },
    {
      "cell_type": "code",
      "execution_count": null,
      "metadata": {
        "id": "1mbffBdxIl0M"
      },
      "outputs": [],
      "source": [
        "repo_name = \"wav2vec2-base-timit-demo-google-colab\""
      ]
    },
    {
      "cell_type": "markdown",
      "metadata": {
        "id": "pmpG2ftFIu3B"
      },
      "source": [
        "and upload the tokenizer to the [🤗 Hub](https://huggingface.co/)."
      ]
    },
    {
      "cell_type": "code",
      "execution_count": null,
      "metadata": {
        "colab": {
          "base_uri": "https://localhost:8080/",
          "height": 229
        },
        "id": "ScBMUz8jIxJi",
        "outputId": "588736ac-09b1-4ce1-9f25-2af3a0bd6a14"
      },
      "outputs": [
        {
          "output_type": "stream",
          "name": "stderr",
          "text": [
            "/usr/local/lib/python3.7/dist-packages/huggingface_hub/utils/_deprecation.py:43: FutureWarning: Pass token='wav2vec2-base-timit-demo-google-colab' as keyword args. From version 0.7 passing these as positional arguments will result in an error\n",
            "  FutureWarning,\n",
            "/usr/local/lib/python3.7/dist-packages/huggingface_hub/hf_api.py:676: FutureWarning: `create_repo` now takes `token` as an optional positional argument. Be sure to adapt your code!\n",
            "  FutureWarning,\n",
            "Cloning https://huggingface.co/iqbalc/wav2vec2-base-timit-demo-google-colab into local empty directory.\n",
            "remote: Enforcing permissions...        \n",
            "remote: Allowed refs: all        \n",
            "To https://huggingface.co/iqbalc/wav2vec2-base-timit-demo-google-colab\n",
            "   20dbc62..686e3f4  main -> main\n",
            "\n"
          ]
        },
        {
          "output_type": "execute_result",
          "data": {
            "text/plain": [
              "'https://huggingface.co/iqbalc/wav2vec2-base-timit-demo-google-colab/commit/686e3f4748fe4a143c444f156c0802262a3613e9'"
            ],
            "application/vnd.google.colaboratory.intrinsic+json": {
              "type": "string"
            }
          },
          "metadata": {},
          "execution_count": 23
        }
      ],
      "source": [
        "tokenizer.push_to_hub(repo_name)"
      ]
    },
    {
      "cell_type": "markdown",
      "metadata": {
        "id": "KvL12DrNV4cx"
      },
      "source": [
        "Great, you can see the just created repository under `https://huggingface.co/<your-username>/wav2vec2-base-timit-demo-colab`"
      ]
    },
    {
      "cell_type": "markdown",
      "metadata": {
        "id": "mYcIiR2FQ96i"
      },
      "source": [
        "### Create Wav2Vec2 Feature Extractor"
      ]
    },
    {
      "cell_type": "markdown",
      "metadata": {
        "id": "Y6mDEyW719rx"
      },
      "source": [
        "Speech is a continuous signal and to be treated by computers, it first has to be discretized, which is usually called **sampling**. The sampling rate hereby plays an important role in that it defines how many data points of the speech signal are measured per second. Therefore, sampling with a higher sampling rate results in a better approximation of the *real* speech signal but also necessitates more values per second.\n",
        "\n",
        "A pretrained checkpoint expects its input data to have been sampled more or less from the same distribution as the data it was trained on. The same speech signals sampled at two different rates have a very different distribution, *e.g.*, doubling the sampling rate results in data points being twice as long. Thus, \n",
        "before fine-tuning a pretrained checkpoint of an ASR model, it is crucial to verify that the sampling rate of the data that was used to pretrain the model matches the sampling rate of the dataset used to fine-tune the model.\n",
        "\n",
        "Wav2Vec2 was pretrained on the audio data of [LibriSpeech](https://huggingface.co/datasets/librispeech_asr) and LibriVox which both were sampling with 16kHz. Our fine-tuning dataset, [Timit](hhtps://huggingface.co/datasets/timit_asr), was luckily also sampled with 16kHz. If the fine-tuning dataset would have been sampled with a rate lower or higher than 16kHz, we first would have had to up or downsample the speech signal to match the sampling rate of the data used for pretraining. \n",
        "\n"
      ]
    },
    {
      "cell_type": "markdown",
      "metadata": {
        "id": "KuUbPW7oV-B5"
      },
      "source": [
        "A Wav2Vec2 feature extractor object requires the following parameters to be instantiated:\n",
        "\n",
        "- `feature_size`: Speech models take a sequence of feature vectors as an input. While the length of this sequence obviously varies, the feature size should not. In the case of Wav2Vec2, the feature size is 1 because the model was trained on the raw speech signal ${}^2$.\n",
        "- `sampling_rate`: The sampling rate at which the model is trained on.\n",
        "- `padding_value`: For batched inference, shorter inputs need to be padded with a specific value\n",
        "- `do_normalize`: Whether the input should be *zero-mean-unit-variance* normalized or not. Usually, speech models perform better when normalizing the input\n",
        "- `return_attention_mask`: Whether the model should make use of an `attention_mask` for batched inference. In general, models should **always** make use of the `attention_mask` to mask padded tokens. However, due to a very specific design choice of `Wav2Vec2`'s \"base\" checkpoint, better results are achieved when using no `attention_mask`. This is **not** recommended for other speech models. For more information, one can take a look at [this](https://github.com/pytorch/fairseq/issues/3227) issue. **Important** If you want to use this notebook to fine-tune [large-lv60](https://huggingface.co/facebook/wav2vec2-large-lv60), this parameter should be set to `True`."
      ]
    },
    {
      "cell_type": "code",
      "execution_count": null,
      "metadata": {
        "id": "kAR0-2KLkopp"
      },
      "outputs": [],
      "source": [
        "from transformers import Wav2Vec2FeatureExtractor\n",
        "\n",
        "feature_extractor = Wav2Vec2FeatureExtractor(feature_size=1, sampling_rate=16000, padding_value=0.0, do_normalize=True, return_attention_mask=False)"
      ]
    },
    {
      "cell_type": "markdown",
      "metadata": {
        "id": "qUETetgqYC3W"
      },
      "source": [
        "Great, Wav2Vec2's feature extraction pipeline is thereby fully defined!\n",
        "\n",
        "To make the usage of Wav2Vec2 as user-friendly as possible, the feature extractor and tokenizer are *wrapped* into a single `Wav2Vec2Processor` class so that one only needs a `model` and `processor` object."
      ]
    },
    {
      "cell_type": "code",
      "execution_count": null,
      "metadata": {
        "id": "KYZtoW-tlZgl"
      },
      "outputs": [],
      "source": [
        "from transformers import Wav2Vec2Processor\n",
        "\n",
        "processor = Wav2Vec2Processor(feature_extractor=feature_extractor, tokenizer=tokenizer)"
      ]
    },
    {
      "cell_type": "markdown",
      "metadata": {
        "id": "DrKnYuvDIoOO"
      },
      "source": [
        "Next, we can prepare the dataset."
      ]
    },
    {
      "cell_type": "markdown",
      "metadata": {
        "id": "YFmShnl7RE35"
      },
      "source": [
        "### Preprocess Data\n",
        "\n",
        "So far, we have not looked at the actual values of the speech signal but just the transcription. In addition to `'text'`, our datasets include two more column names `'file'` and `'audio'`. `'file'` states the absolute path of the audio file. Let's take a look."
      ]
    },
    {
      "cell_type": "code",
      "execution_count": null,
      "metadata": {
        "colab": {
          "base_uri": "https://localhost:8080/",
          "height": 53
        },
        "id": "TTCS7W6XJ9BG",
        "outputId": "011b0faa-f7bf-411a-8eda-ca0d802b1af5"
      },
      "outputs": [
        {
          "output_type": "execute_result",
          "data": {
            "text/plain": [
              "'/root/.cache/huggingface/datasets/downloads/extracted/404950a46da14eac65eb4e2a8317b1372fb3971d980d91d5d5b221275b1fd7e0/data/TRAIN/DR4/MMDM0/SI681.WAV'"
            ],
            "application/vnd.google.colaboratory.intrinsic+json": {
              "type": "string"
            }
          },
          "metadata": {},
          "execution_count": 26
        }
      ],
      "source": [
        "timit[\"train\"][0][\"file\"]"
      ]
    },
    {
      "cell_type": "markdown",
      "metadata": {
        "id": "BwxprOw4Nzrl"
      },
      "source": [
        "`Wav2Vec2` expects the input in the format of a 1-dimensional array of 16 kHz. This means that the audio file has to be loaded and resampled.\n",
        "\n",
        " Thankfully, `datasets` does this automatically when calling the column `audio`. Let try it out. "
      ]
    },
    {
      "cell_type": "code",
      "execution_count": null,
      "metadata": {
        "colab": {
          "base_uri": "https://localhost:8080/"
        },
        "id": "mk9QHuSsN7lf",
        "outputId": "1a04106f-8f18-4a9c-8032-559156685878"
      },
      "outputs": [
        {
          "output_type": "execute_result",
          "data": {
            "text/plain": [
              "{'array': array([-2.1362305e-04,  6.1035156e-05,  3.0517578e-05, ...,\n",
              "        -3.0517578e-05, -9.1552734e-05, -6.1035156e-05], dtype=float32),\n",
              " 'path': '/root/.cache/huggingface/datasets/downloads/extracted/404950a46da14eac65eb4e2a8317b1372fb3971d980d91d5d5b221275b1fd7e0/data/TRAIN/DR4/MMDM0/SI681.WAV',\n",
              " 'sampling_rate': 16000}"
            ]
          },
          "metadata": {},
          "execution_count": 27
        }
      ],
      "source": [
        "timit[\"train\"][0][\"audio\"]"
      ]
    },
    {
      "cell_type": "markdown",
      "metadata": {
        "id": "wSBIGEiaKHMn"
      },
      "source": [
        "We can see that the audio file has automatically been loaded. This is thanks to the new [`\"Audio\"` feature](https://huggingface.co/docs/datasets/package_reference/main_classes.html?highlight=audio#datasets.Audio) introduced in `datasets == 4.13.3`, which loads and resamples audio files on-the-fly upon calling.\n",
        "\n",
        "The sampling rate is set to 16kHz which is what `Wav2Vec2` expects as an input."
      ]
    },
    {
      "cell_type": "markdown",
      "metadata": {
        "id": "SOckzFd4Mbzq"
      },
      "source": [
        "Great, let's listen to a couple of audio files to better understand the dataset and verify that the audio was correctly loaded. \n",
        "\n",
        "**Note**: *You can click the following cell a couple of times to listen to different speech samples.*"
      ]
    },
    {
      "cell_type": "code",
      "execution_count": null,
      "metadata": {
        "colab": {
          "base_uri": "https://localhost:8080/",
          "height": 93
        },
        "id": "dueM6U7Ev0OA",
        "outputId": "eeccee1f-9a1e-49b7-f1fd-053237841d13"
      },
      "outputs": [
        {
          "output_type": "stream",
          "name": "stdout",
          "text": [
            "a precision transit is set up so that it is lined with respect to true north \n"
          ]
        },
        {
          "output_type": "execute_result",
          "data": {
            "text/plain": [
              "<IPython.lib.display.Audio object>"
            ],
            "text/html": [
              "\n",
              "                <audio controls=\"controls\" autoplay=\"autoplay\">\n",
              "                    <source src=\"data:audio/wav;base64,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\" type=\"audio/wav\" />\n",
              "                    Your browser does not support the audio element.\n",
              "                </audio>\n",
              "              "
            ]
          },
          "metadata": {},
          "execution_count": 28
        }
      ],
      "source": [
        "import IPython.display as ipd\n",
        "import numpy as np\n",
        "import random\n",
        "\n",
        "rand_int = random.randint(0, len(timit[\"train\"]))\n",
        "\n",
        "print(timit[\"train\"][rand_int][\"text\"])\n",
        "ipd.Audio(data=np.asarray(timit[\"train\"][rand_int][\"audio\"][\"array\"]), autoplay=True, rate=16000)"
      ]
    },
    {
      "cell_type": "markdown",
      "metadata": {
        "id": "1MaL9J2dNVtG"
      },
      "source": [
        "It can be heard, that the speakers change along with their speaking rate, accent, etc. Overall, the recordings sound relatively clear though, which is to be expected from a read speech corpus.\n",
        "\n",
        "Let's do a final check that the data is correctly prepared, by printing the shape of the speech input, its transcription, and the corresponding sampling rate.\n",
        "\n",
        "**Note**: *You can click the following cell a couple of times to verify multiple samples.*"
      ]
    },
    {
      "cell_type": "code",
      "execution_count": null,
      "metadata": {
        "colab": {
          "base_uri": "https://localhost:8080/"
        },
        "id": "1Po2g7YPuRTx",
        "outputId": "fe792654-e006-40a5-a5ec-4eea2ae3399b"
      },
      "outputs": [
        {
          "output_type": "stream",
          "name": "stdout",
          "text": [
            "Target text: gently place jim's foam sculpture in the box \n",
            "Input array shape: (48640,)\n",
            "Sampling rate: 16000\n"
          ]
        }
      ],
      "source": [
        "rand_int = random.randint(0, len(timit[\"train\"]))\n",
        "\n",
        "print(\"Target text:\", timit[\"train\"][rand_int][\"text\"])\n",
        "print(\"Input array shape:\", np.asarray(timit[\"train\"][rand_int][\"audio\"][\"array\"]).shape)\n",
        "print(\"Sampling rate:\", timit[\"train\"][rand_int][\"audio\"][\"sampling_rate\"])"
      ]
    },
    {
      "cell_type": "markdown",
      "metadata": {
        "id": "M9teZcSwOBJ4"
      },
      "source": [
        "Good! Everything looks fine - the data is a 1-dimensional array, the sampling rate always corresponds to 16kHz, and the target text is normalized."
      ]
    },
    {
      "cell_type": "markdown",
      "metadata": {
        "id": "k3Pbn5WvOYZF"
      },
      "source": [
        "Finally, we can process the dataset to the format expected by the model for training. We will make use of the `map(...)` function.\n",
        "\n",
        "First, we load and resample the audio data, simply by calling `batch[\"audio\"]`.\n",
        "Second, we extract the `input_values` from the loaded audio file. In our case, the `Wav2Vec2Processor` only normalizes the data. For other speech models, however, this step can include more complex feature extraction, such as [Log-Mel feature extraction](https://en.wikipedia.org/wiki/Mel-frequency_cepstrum).\n",
        "Third, we encode the transcriptions to label ids.\n",
        "\n",
        "**Note**: This mapping function is a good example of how the `Wav2Vec2Processor` class should be used. In \"normal\" context, calling `processor(...)` is redirected to `Wav2Vec2FeatureExtractor`'s call method. When wrapping the processor into the `as_target_processor` context, however, the same method is redirected to `Wav2Vec2CTCTokenizer`'s call method.\n",
        "For more information please check the [docs](https://huggingface.co/transformers/master/model_doc/wav2vec2.html#transformers.Wav2Vec2Processor.__call__)."
      ]
    },
    {
      "cell_type": "code",
      "execution_count": null,
      "metadata": {
        "id": "eJY7I0XAwe9p"
      },
      "outputs": [],
      "source": [
        "def prepare_dataset(batch):\n",
        "    audio = batch[\"audio\"]\n",
        "\n",
        "    # batched output is \"un-batched\" to ensure mapping is correct\n",
        "    batch[\"input_values\"] = processor(audio[\"array\"], sampling_rate=audio[\"sampling_rate\"]).input_values[0]\n",
        "    batch[\"input_length\"] = len(batch[\"input_values\"])\n",
        "    \n",
        "    with processor.as_target_processor():\n",
        "        batch[\"labels\"] = processor(batch[\"text\"]).input_ids\n",
        "    return batch"
      ]
    },
    {
      "cell_type": "markdown",
      "metadata": {
        "id": "hVMZhH4-nP8-"
      },
      "source": [
        "Let's apply the data preparation function to all examples."
      ]
    },
    {
      "cell_type": "code",
      "execution_count": null,
      "metadata": {
        "id": "-np9xYK-wl8q"
      },
      "outputs": [],
      "source": [
        "timit = timit.map(prepare_dataset, remove_columns=timit.column_names[\"train\"], num_proc=4)"
      ]
    },
    {
      "cell_type": "markdown",
      "metadata": {
        "id": "p_MuJSH8nTuQ"
      },
      "source": [
        "**Note**: Currently `datasets` make use of [`torchaudio`](https://pytorch.org/audio/stable/index.html) and [`librosa`](https://librosa.org/doc/latest/index.html) for audio loading and resampling. If you wish to implement your own costumized data loading/sampling, feel free to just make use of the `\"path\"` column instead and disregard the `\"audio\"` column."
      ]
    },
    {
      "cell_type": "markdown",
      "metadata": {
        "id": "M4J0bU1WsvAg"
      },
      "source": [
        "Long input sequences require a lot of memory. Since `Wav2Vec2` is based on `self-attention` the memory requirement scales quadratically with the input length for long input sequences (*cf.* with [this](https://www.reddit.com/r/MachineLearning/comments/genjvb/d_why_is_the_maximum_input_sequence_length_of/) reddit post). For this demo, let's filter all sequences that are longer than 4 seconds out of the training dataset."
      ]
    },
    {
      "cell_type": "code",
      "execution_count": null,
      "metadata": {
        "colab": {
          "base_uri": "https://localhost:8080/",
          "height": 49,
          "referenced_widgets": [
            "7835c801e07f480393fa5540c383ffa4",
            "ca3e5afb3b9d469e8a67a9116b7f19d7",
            "885981ff0ed743328dddd581af1651f4",
            "035d39a7c10c478fbd7d6bb72056a585",
            "3ea05d14530e420198ef783041e20f1a",
            "cbad8fff8df347808a14edd38301f2bc",
            "728d07b23fae42bab6264a25da68d613",
            "f15d2014692e4c229a96956f8d0bd9e9",
            "7bcc3da237504ea3a281ad688584f109",
            "0b86279337ce424b8cda9753ba75fe86",
            "376b53fdac544b8a97961e8ed1255abb"
          ]
        },
        "id": "nqGobEPUvG3v",
        "outputId": "9aa48a66-10fa-4663-91aa-b2638ddd6736"
      },
      "outputs": [
        {
          "output_type": "display_data",
          "data": {
            "text/plain": [
              "  0%|          | 0/5 [00:00<?, ?ba/s]"
            ],
            "application/vnd.jupyter.widget-view+json": {
              "version_major": 2,
              "version_minor": 0,
              "model_id": "7835c801e07f480393fa5540c383ffa4"
            }
          },
          "metadata": {}
        }
      ],
      "source": [
        "max_input_length_in_sec = 4.0\n",
        "timit[\"train\"] = timit[\"train\"].filter(lambda x: x < max_input_length_in_sec * processor.feature_extractor.sampling_rate, input_columns=[\"input_length\"])"
      ]
    },
    {
      "cell_type": "markdown",
      "metadata": {
        "id": "25Genil2v_Br"
      },
      "source": [
        "Awesome, now we are ready to start training!"
      ]
    },
    {
      "cell_type": "markdown",
      "metadata": {
        "id": "gYlQkKVoRUos"
      },
      "source": [
        "## Training & Evaluation\n",
        "\n",
        "The data is processed so that we are ready to start setting up the training pipeline. We will make use of 🤗's [Trainer](https://huggingface.co/transformers/master/main_classes/trainer.html?highlight=trainer) for which we essentially need to do the following:\n",
        "\n",
        "- Define a data collator. In contrast to most NLP models, Wav2Vec2 has a much larger input length than output length. *E.g.*, a sample of input length 50000 has an output length of no more than 100. Given the large input sizes, it is much more efficient to pad the training batches dynamically meaning that all training samples should only be padded to the longest sample in their batch and not the overall longest sample. Therefore, fine-tuning Wav2Vec2 requires a special padding data collator, which we will define below\n",
        "\n",
        "- Evaluation metric. During training, the model should be evaluated on the word error rate. We should define a `compute_metrics` function accordingly\n",
        "\n",
        "- Load a pretrained checkpoint. We need to load a pretrained checkpoint and configure it correctly for training.\n",
        "\n",
        "- Define the training configuration.\n",
        "\n",
        "After having fine-tuned the model, we will correctly evaluate it on the test data and verify that it has indeed learned to correctly transcribe speech."
      ]
    },
    {
      "cell_type": "markdown",
      "metadata": {
        "id": "Slk403unUS91"
      },
      "source": [
        "### Set-up Trainer\n",
        "\n",
        "Let's start by defining the data collator. The code for the data collator was copied from [this example](https://github.com/huggingface/transformers/blob/9a06b6b11bdfc42eea08fa91d0c737d1863c99e3/examples/research_projects/wav2vec2/run_asr.py#L81).\n",
        "\n",
        "Without going into too many details, in contrast to the common data collators, this data collator treats the `input_values` and `labels` differently and thus applies to separate padding functions on them (again making use of Wav2Vec2's context manager). This is necessary because in speech input and output are of different modalities meaning that they should not be treated by the same padding function.\n",
        "Analogous to the common data collators, the padding tokens in the labels with `-100` so that those tokens are **not** taken into account when computing the loss."
      ]
    },
    {
      "cell_type": "code",
      "execution_count": null,
      "metadata": {
        "id": "tborvC9hx88e"
      },
      "outputs": [],
      "source": [
        "import torch\n",
        "\n",
        "from dataclasses import dataclass, field\n",
        "from typing import Any, Dict, List, Optional, Union\n",
        "\n",
        "@dataclass\n",
        "class DataCollatorCTCWithPadding:\n",
        "    \"\"\"\n",
        "    Data collator that will dynamically pad the inputs received.\n",
        "    Args:\n",
        "        processor (:class:`~transformers.Wav2Vec2Processor`)\n",
        "            The processor used for proccessing the data.\n",
        "        padding (:obj:`bool`, :obj:`str` or :class:`~transformers.tokenization_utils_base.PaddingStrategy`, `optional`, defaults to :obj:`True`):\n",
        "            Select a strategy to pad the returned sequences (according to the model's padding side and padding index)\n",
        "            among:\n",
        "            * :obj:`True` or :obj:`'longest'`: Pad to the longest sequence in the batch (or no padding if only a single\n",
        "              sequence if provided).\n",
        "            * :obj:`'max_length'`: Pad to a maximum length specified with the argument :obj:`max_length` or to the\n",
        "              maximum acceptable input length for the model if that argument is not provided.\n",
        "            * :obj:`False` or :obj:`'do_not_pad'` (default): No padding (i.e., can output a batch with sequences of\n",
        "              different lengths).\n",
        "    \"\"\"\n",
        "\n",
        "    processor: Wav2Vec2Processor\n",
        "    padding: Union[bool, str] = True\n",
        "\n",
        "    def __call__(self, features: List[Dict[str, Union[List[int], torch.Tensor]]]) -> Dict[str, torch.Tensor]:\n",
        "        # split inputs and labels since they have to be of different lenghts and need\n",
        "        # different padding methods\n",
        "        input_features = [{\"input_values\": feature[\"input_values\"]} for feature in features]\n",
        "        label_features = [{\"input_ids\": feature[\"labels\"]} for feature in features]\n",
        "\n",
        "        batch = self.processor.pad(\n",
        "            input_features,\n",
        "            padding=self.padding,\n",
        "            return_tensors=\"pt\",\n",
        "        )\n",
        "        with self.processor.as_target_processor():\n",
        "            labels_batch = self.processor.pad(\n",
        "                label_features,\n",
        "                padding=self.padding,\n",
        "                return_tensors=\"pt\",\n",
        "            )\n",
        "\n",
        "        # replace padding with -100 to ignore loss correctly\n",
        "        labels = labels_batch[\"input_ids\"].masked_fill(labels_batch.attention_mask.ne(1), -100)\n",
        "\n",
        "        batch[\"labels\"] = labels\n",
        "\n",
        "        return batch"
      ]
    },
    {
      "cell_type": "code",
      "execution_count": null,
      "metadata": {
        "id": "lbQf5GuZyQ4_"
      },
      "outputs": [],
      "source": [
        "data_collator = DataCollatorCTCWithPadding(processor=processor, padding=True)"
      ]
    },
    {
      "cell_type": "markdown",
      "metadata": {
        "id": "xO-Zdj-5cxXp"
      },
      "source": [
        "Next, the evaluation metric is defined. As mentioned earlier, the \n",
        "predominant metric in ASR is the word error rate (WER), hence we will use it in this notebook as well."
      ]
    },
    {
      "cell_type": "code",
      "execution_count": null,
      "metadata": {
        "colab": {
          "base_uri": "https://localhost:8080/",
          "height": 49,
          "referenced_widgets": [
            "aa2b1bde05c54d40a8819583b6048c2f",
            "a0c6c0a049324681ba3294ea95e4aa5e",
            "3aee46f7cf3043278b6a835a54689a14",
            "f91abac6a3944dadb16a5f2efbaf7fc4",
            "1c05c6ea754a48ccb37d163946b2790d",
            "ae3d52536b9841ecba0563f3f4875027",
            "cb1c42719d9445488a0e3237d1317f26",
            "df60f3c724fc4f03affb717e9262a7f7",
            "1a8af51742864e29bbe0bdb8c7016460",
            "83b636edfad94b18976cbccc8bd5067d",
            "74242b72635744a7b35867da8e79a901"
          ]
        },
        "id": "9Xsux2gmyXso",
        "outputId": "3dbf27c1-267e-4f16-b244-4f0ac26b7656"
      },
      "outputs": [
        {
          "output_type": "display_data",
          "data": {
            "text/plain": [
              "Downloading:   0%|          | 0.00/1.90k [00:00<?, ?B/s]"
            ],
            "application/vnd.jupyter.widget-view+json": {
              "version_major": 2,
              "version_minor": 0,
              "model_id": "aa2b1bde05c54d40a8819583b6048c2f"
            }
          },
          "metadata": {}
        }
      ],
      "source": [
        "wer_metric = load_metric(\"wer\")"
      ]
    },
    {
      "cell_type": "markdown",
      "metadata": {
        "id": "E1qZU5p-deqB"
      },
      "source": [
        "The model will return a sequence of logit vectors:\n",
        "$\\mathbf{y}_1, \\ldots, \\mathbf{y}_m$ with $\\mathbf{y}_1 = f_{\\theta}(x_1, \\ldots, x_n)[0]$ and $n >> m$.\n",
        "\n",
        "A logit vector $\\mathbf{y}_1$ contains the log-odds for each word in the vocabulary we defined earlier, thus $\\text{len}(\\mathbf{y}_i) =$ `config.vocab_size`. We are interested in the most likely prediction of the model and thus take the `argmax(...)` of the logits. Also, we transform the encoded labels back to the original string by replacing `-100` with the `pad_token_id` and decoding the ids while making sure that consecutive tokens are **not** grouped to the same token in CTC style ${}^1$."
      ]
    },
    {
      "cell_type": "code",
      "execution_count": null,
      "metadata": {
        "id": "1XZ-kjweyTy_"
      },
      "outputs": [],
      "source": [
        "def compute_metrics(pred):\n",
        "    pred_logits = pred.predictions\n",
        "    pred_ids = np.argmax(pred_logits, axis=-1)\n",
        "\n",
        "    pred.label_ids[pred.label_ids == -100] = processor.tokenizer.pad_token_id\n",
        "\n",
        "    pred_str = processor.batch_decode(pred_ids)\n",
        "    # we do not want to group tokens when computing the metrics\n",
        "    label_str = processor.batch_decode(pred.label_ids, group_tokens=False)\n",
        "\n",
        "    wer = wer_metric.compute(predictions=pred_str, references=label_str)\n",
        "\n",
        "    return {\"wer\": wer}"
      ]
    },
    {
      "cell_type": "markdown",
      "metadata": {
        "id": "Xmgrx4bRwLIH"
      },
      "source": [
        "Now, we can load the pretrained `Wav2Vec2` checkpoint. The tokenizer's `pad_token_id` must be to define the model's `pad_token_id` or in the case of `Wav2Vec2ForCTC` also CTC's *blank token* ${}^2$. To save GPU memory, we enable PyTorch's [gradient checkpointing](https://pytorch.org/docs/stable/checkpoint.html) and also set the loss reduction to \"*mean*\"."
      ]
    },
    {
      "cell_type": "code",
      "execution_count": null,
      "metadata": {
        "colab": {
          "base_uri": "https://localhost:8080/",
          "height": 222,
          "referenced_widgets": [
            "1d66175f801c4873bb93d99c539379ed",
            "328c2c101684436e9c8804da95a28b48",
            "ce43e94d92a4411a8805d433f3856ee9",
            "2804fac750eb42b495aebe6901e479a5",
            "a6e5193c23aa4db1ae2b06b4a3dcaa5c",
            "664ff6b81c2b4698946799a62e052052",
            "c16b770ca85f494daa3fe30b45eecf45",
            "62f1417acef34f1fafa6a9fc7192495f",
            "f28a31dfdc044d328b56db1b889da2df",
            "f6a785adf3704ee9a8c489bedd09b333",
            "3924ef4cf6694bf0b94fe7e6105f2deb",
            "a2dabedd456b4d50aecb8127ae545dfb",
            "dedc3159a4104f9090aa5dbe38a6f196",
            "70abb8252cba418b9f9f8301be700fac",
            "e5e02ea69f974cec84d092ab7e0ea278",
            "f33f90ef52454d729f5be951fea506f9",
            "c30b7037a5744010860534e2babc52f3",
            "e5ad95f109b34a3ea97b7ffb934d7b94",
            "48e944307a724d7fa66d4e8fecb04828",
            "48208e69773d4a2f8f5d789dcd0d4a27",
            "3c9779e6e8af42fba36eb21fe49cbf86",
            "861bf7c99aba45369e95c87a1a00e567"
          ]
        },
        "id": "e7cqAWIayn6w",
        "outputId": "cc21b9f4-f1f8-40b8-b65e-589c996afaf8"
      },
      "outputs": [
        {
          "output_type": "display_data",
          "data": {
            "text/plain": [
              "Downloading:   0%|          | 0.00/1.80k [00:00<?, ?B/s]"
            ],
            "application/vnd.jupyter.widget-view+json": {
              "version_major": 2,
              "version_minor": 0,
              "model_id": "1d66175f801c4873bb93d99c539379ed"
            }
          },
          "metadata": {}
        },
        {
          "output_type": "stream",
          "name": "stderr",
          "text": [
            "/usr/local/lib/python3.7/dist-packages/transformers/configuration_utils.py:357: UserWarning: Passing `gradient_checkpointing` to a config initialization is deprecated and will be removed in v5 Transformers. Using `model.gradient_checkpointing_enable()` instead, or if you are using the `Trainer` API, pass `gradient_checkpointing=True` in your `TrainingArguments`.\n",
            "  \"Passing `gradient_checkpointing` to a config initialization is deprecated and will be removed in v5 \"\n"
          ]
        },
        {
          "output_type": "display_data",
          "data": {
            "text/plain": [
              "Downloading:   0%|          | 0.00/363M [00:00<?, ?B/s]"
            ],
            "application/vnd.jupyter.widget-view+json": {
              "version_major": 2,
              "version_minor": 0,
              "model_id": "a2dabedd456b4d50aecb8127ae545dfb"
            }
          },
          "metadata": {}
        },
        {
          "output_type": "stream",
          "name": "stderr",
          "text": [
            "Some weights of the model checkpoint at facebook/wav2vec2-base were not used when initializing Wav2Vec2ForCTC: ['project_hid.weight', 'project_q.bias', 'quantizer.weight_proj.bias', 'project_hid.bias', 'project_q.weight', 'quantizer.weight_proj.weight', 'quantizer.codevectors']\n",
            "- This IS expected if you are initializing Wav2Vec2ForCTC from the checkpoint of a model trained on another task or with another architecture (e.g. initializing a BertForSequenceClassification model from a BertForPreTraining model).\n",
            "- This IS NOT expected if you are initializing Wav2Vec2ForCTC from the checkpoint of a model that you expect to be exactly identical (initializing a BertForSequenceClassification model from a BertForSequenceClassification model).\n",
            "Some weights of Wav2Vec2ForCTC were not initialized from the model checkpoint at facebook/wav2vec2-base and are newly initialized: ['lm_head.bias', 'lm_head.weight']\n",
            "You should probably TRAIN this model on a down-stream task to be able to use it for predictions and inference.\n"
          ]
        }
      ],
      "source": [
        "from transformers import Wav2Vec2ForCTC\n",
        "\n",
        "model = Wav2Vec2ForCTC.from_pretrained(\n",
        "    \"facebook/wav2vec2-base\",\n",
        "    ctc_loss_reduction=\"mean\", \n",
        "    pad_token_id=processor.tokenizer.pad_token_id,\n",
        ")"
      ]
    },
    {
      "cell_type": "markdown",
      "metadata": {
        "id": "1DwR3XLSzGDD"
      },
      "source": [
        "The first component of Wav2Vec2 consists of a stack of CNN layers that are used to extract acoustically meaningful - but contextually independent - features from the raw speech signal. This part of the model has already been sufficiently trained during pretrainind and as stated in the [paper](https://arxiv.org/abs/2006.11477) does not need to be fine-tuned anymore. \n",
        "Thus, we can set the `requires_grad` to `False` for all parameters of the *feature extraction* part."
      ]
    },
    {
      "cell_type": "code",
      "execution_count": null,
      "metadata": {
        "id": "Et_NUAZjWppc"
      },
      "outputs": [],
      "source": [
        "model.freeze_feature_encoder()"
      ]
    },
    {
      "cell_type": "markdown",
      "metadata": {
        "id": "lD4aGhQM0K-D"
      },
      "source": [
        "In a final step, we define all parameters related to training. \n",
        "To give more explanation on some of the parameters:\n",
        "- `group_by_length` makes training more efficient by grouping training samples of similar input length into one batch. This can significantly speed up training time by heavily reducing the overall number of useless padding tokens that are passed through the model\n",
        "- `learning_rate` and `weight_decay` were heuristically tuned until fine-tuning has become stable. Note that those parameters strongly depend on the Timit dataset and might be suboptimal for other speech datasets.\n",
        "\n",
        "For more explanations on other parameters, one can take a look at the [docs](https://huggingface.co/transformers/master/main_classes/trainer.html?highlight=trainer#trainingarguments).\n",
        "\n",
        "During training, a checkpoint will be uploaded asynchronously to the hub every 400 training steps. It allows you to also play around with the demo widget even while your model is still training.\n",
        "\n",
        "**Note**: If one does not want to upload the model checkpoints to the hub, simply set `push_to_hub=False`."
      ]
    },
    {
      "cell_type": "code",
      "execution_count": null,
      "metadata": {
        "id": "KbeKSV7uzGPP",
        "colab": {
          "base_uri": "https://localhost:8080/",
          "height": 397
        },
        "outputId": "727290b3-acb7-403b-a910-f8a041d17931"
      },
      "outputs": [
        {
          "output_type": "error",
          "ename": "ValueError",
          "evalue": "ignored",
          "traceback": [
            "\u001b[0;31m---------------------------------------------------------------------------\u001b[0m",
            "\u001b[0;31mValueError\u001b[0m                                Traceback (most recent call last)",
            "\u001b[0;32m<ipython-input-39-7dbd4accac7d>\u001b[0m in \u001b[0;36m<module>\u001b[0;34m()\u001b[0m\n\u001b[1;32m     15\u001b[0m   \u001b[0mweight_decay\u001b[0m\u001b[0;34m=\u001b[0m\u001b[0;36m0.005\u001b[0m\u001b[0;34m,\u001b[0m\u001b[0;34m\u001b[0m\u001b[0;34m\u001b[0m\u001b[0m\n\u001b[1;32m     16\u001b[0m   \u001b[0mwarmup_steps\u001b[0m\u001b[0;34m=\u001b[0m\u001b[0;36m1000\u001b[0m\u001b[0;34m,\u001b[0m\u001b[0;34m\u001b[0m\u001b[0;34m\u001b[0m\u001b[0m\n\u001b[0;32m---> 17\u001b[0;31m   \u001b[0msave_total_limit\u001b[0m\u001b[0;34m=\u001b[0m\u001b[0;36m2\u001b[0m\u001b[0;34m,\u001b[0m\u001b[0;34m\u001b[0m\u001b[0;34m\u001b[0m\u001b[0m\n\u001b[0m\u001b[1;32m     18\u001b[0m )\n",
            "\u001b[0;32m/usr/local/lib/python3.7/dist-packages/transformers/training_args.py\u001b[0m in \u001b[0;36m__init__\u001b[0;34m(self, output_dir, overwrite_output_dir, do_train, do_eval, do_predict, evaluation_strategy, prediction_loss_only, per_device_train_batch_size, per_device_eval_batch_size, per_gpu_train_batch_size, per_gpu_eval_batch_size, gradient_accumulation_steps, eval_accumulation_steps, learning_rate, weight_decay, adam_beta1, adam_beta2, adam_epsilon, max_grad_norm, num_train_epochs, max_steps, lr_scheduler_type, warmup_ratio, warmup_steps, log_level, log_level_replica, log_on_each_node, logging_dir, logging_strategy, logging_first_step, logging_steps, logging_nan_inf_filter, save_strategy, save_steps, save_total_limit, save_on_each_node, no_cuda, seed, bf16, fp16, fp16_opt_level, half_precision_backend, bf16_full_eval, fp16_full_eval, tf32, local_rank, xpu_backend, tpu_num_cores, tpu_metrics_debug, debug, dataloader_drop_last, eval_steps, dataloader_num_workers, past_index, run_name, disable_tqdm, remove_unused_columns, label_names, load_best_model_at_end, metric_for_best_model, greater_is_better, ignore_data_skip, sharded_ddp, deepspeed, label_smoothing_factor, optim, adafactor, group_by_length, length_column_name, report_to, ddp_find_unused_parameters, ddp_bucket_cap_mb, dataloader_pin_memory, skip_memory_metrics, use_legacy_prediction_loop, push_to_hub, resume_from_checkpoint, hub_model_id, hub_strategy, hub_token, gradient_checkpointing, fp16_backend, push_to_hub_model_id, p...\n",
            "\u001b[0;32m/usr/local/lib/python3.7/dist-packages/transformers/training_args.py\u001b[0m in \u001b[0;36m__post_init__\u001b[0;34m(self)\u001b[0m\n\u001b[1;32m    854\u001b[0m         ):\n\u001b[1;32m    855\u001b[0m             raise ValueError(\n\u001b[0;32m--> 856\u001b[0;31m                 \u001b[0;34m\"Mixed precision training with AMP or APEX (`--fp16` or `--bf16`) and half precision evaluation (`--fp16_full_eval` or `--bf16_full_eval`) can only be used on CUDA devices.\"\u001b[0m\u001b[0;34m\u001b[0m\u001b[0;34m\u001b[0m\u001b[0m\n\u001b[0m\u001b[1;32m    857\u001b[0m             )\n\u001b[1;32m    858\u001b[0m \u001b[0;34m\u001b[0m\u001b[0m\n",
            "\u001b[0;31mValueError\u001b[0m: Mixed precision training with AMP or APEX (`--fp16` or `--bf16`) and half precision evaluation (`--fp16_full_eval` or `--bf16_full_eval`) can only be used on CUDA devices."
          ]
        }
      ],
      "source": [
        "from transformers import TrainingArguments\n",
        "\n",
        "training_args = TrainingArguments(\n",
        "  output_dir=repo_name,\n",
        "  group_by_length=True,\n",
        "  per_device_train_batch_size=8,\n",
        "  evaluation_strategy=\"steps\",\n",
        "  num_train_epochs=30,\n",
        "  fp16=True,\n",
        "  gradient_checkpointing=True,\n",
        "  save_steps=500,\n",
        "  eval_steps=500,\n",
        "  logging_steps=500,\n",
        "  learning_rate=1e-4,\n",
        "  weight_decay=0.005,\n",
        "  warmup_steps=1000,\n",
        "  save_total_limit=2,\n",
        ")"
      ]
    },
    {
      "cell_type": "markdown",
      "metadata": {
        "id": "OsW-WZcL1ZtN"
      },
      "source": [
        "Now, all instances can be passed to Trainer and we are ready to start training!"
      ]
    },
    {
      "cell_type": "code",
      "execution_count": null,
      "metadata": {
        "colab": {
          "base_uri": "https://localhost:8080/"
        },
        "id": "rY7vBmFCPFgC",
        "outputId": "1ed5dea9-1802-45fc-c136-c6937d4ebb93"
      },
      "outputs": [
        {
          "name": "stderr",
          "output_type": "stream",
          "text": [
            "Using amp half precision backend\n"
          ]
        }
      ],
      "source": [
        "from transformers import Trainer\n",
        "\n",
        "trainer = Trainer(\n",
        "    model=model,\n",
        "    data_collator=data_collator,\n",
        "    args=training_args,\n",
        "    compute_metrics=compute_metrics,\n",
        "    train_dataset=timit[\"train\"],\n",
        "    eval_dataset=timit[\"test\"],\n",
        "    tokenizer=processor.feature_extractor,\n",
        ")"
      ]
    },
    {
      "cell_type": "markdown",
      "metadata": {
        "id": "UoXBx1JAA0DX"
      },
      "source": [
        "\n",
        "\n",
        "---\n",
        "\n",
        "${}^1$ To allow models to become independent of the speaker rate, in CTC, consecutive tokens that are identical are simply grouped as a single token. However, the encoded labels should not be grouped when decoding since they don't correspond to the predicted tokens of the model, which is why the `group_tokens=False` parameter has to be passed. If we wouldn't pass this parameter a word like `\"hello\"` would incorrectly be encoded, and decoded as `\"helo\"`.\n",
        "\n",
        "${}^2$ The blank token allows the model to predict a word, such as `\"hello\"` by forcing it to insert the blank token between the two l's. A CTC-conform prediction of `\"hello\"` of our model would be `[PAD] [PAD] \"h\" \"e\" \"e\" \"l\" \"l\" [PAD] \"l\" \"o\" \"o\" [PAD]`."
      ]
    },
    {
      "cell_type": "markdown",
      "metadata": {
        "id": "rpvZHM1xReIW"
      },
      "source": [
        "### Training"
      ]
    },
    {
      "cell_type": "markdown",
      "metadata": {
        "id": "j-3oKSzZ1hGq"
      },
      "source": [
        "Training will take between 90 and 270 minutes depending on the GPU allocated to this notebook. While the trained model yields satisfying results on *Timit*'s test data, it is by no means an optimally fine-tuned model. The purpose of this notebook is to demonstrate how Wav2Vec2's [base](https://huggingface.co/facebook/wav2vec2-base), [large](https://huggingface.co/facebook/wav2vec2-large), and [large-lv60](https://huggingface.co/facebook/wav2vec2-large-lv60) checkpoints can be fine-tuned on any English dataset.\n",
        "\n",
        "In case you want to use this google colab to fine-tune your model, you should make sure that your training doesn't stop due to inactivity. A simple hack to prevent this is to paste the following code into the console of this tab (*right mouse click -> inspect -> Console tab and insert code*)."
      ]
    },
    {
      "cell_type": "markdown",
      "metadata": {
        "id": "VYYAvgkW4P0m"
      },
      "source": [
        "```javascript\n",
        "function ConnectButton(){\n",
        "    console.log(\"Connect pushed\"); \n",
        "    document.querySelector(\"#top-toolbar > colab-connect-button\").shadowRoot.querySelector(\"#connect\").click() \n",
        "}\n",
        "setInterval(ConnectButton,60000);\n",
        "```"
      ]
    },
    {
      "cell_type": "markdown",
      "metadata": {
        "id": "PmY6yqd1zvzU"
      },
      "source": [
        "Depending on what GPU was allocated to your google colab it might be possible that you are seeing an `\"out-of-memory\"` error here. In this case, it's probably best to reduce `per_device_train_batch_size` to 16 or even less and eventually make use of [`gradient_accumulation`](https://huggingface.co/transformers/master/main_classes/trainer.html#trainingarguments)."
      ]
    },
    {
      "cell_type": "code",
      "execution_count": null,
      "metadata": {
        "colab": {
          "background_save": true,
          "base_uri": "https://localhost:8080/",
          "height": 1000
        },
        "id": "_UEjJqGsQw24",
        "outputId": "5b4e8269-6b25-4f2b-91fb-75fc517ca476"
      },
      "outputs": [
        {
          "name": "stderr",
          "output_type": "stream",
          "text": [
            "The following columns in the training set  don't have a corresponding argument in `Wav2Vec2ForCTC.forward` and have been ignored: input_length. If input_length are not expected by `Wav2Vec2ForCTC.forward`,  you can safely ignore this message.\n",
            "/usr/local/lib/python3.7/dist-packages/transformers/optimization.py:309: FutureWarning: This implementation of AdamW is deprecated and will be removed in a future version. Use the PyTorch implementation torch.optim.AdamW instead, or set `no_deprecation_warning=True` to disable this warning\n",
            "  FutureWarning,\n",
            "***** Running training *****\n",
            "  Num examples = 3978\n",
            "  Num Epochs = 30\n",
            "  Instantaneous batch size per device = 8\n",
            "  Total train batch size (w. parallel, distributed & accumulation) = 8\n",
            "  Gradient Accumulation steps = 1\n",
            "  Total optimization steps = 14940\n"
          ]
        },
        {
          "data": {
            "text/html": [
              "\n",
              "    <div>\n",
              "      \n",
              "      <progress value='5902' max='14940' style='width:300px; height:20px; vertical-align: middle;'></progress>\n",
              "      [ 5902/14940 4:09:16 < 6:21:52, 0.39 it/s, Epoch 11.85/30]\n",
              "    </div>\n",
              "    <table border=\"1\" class=\"dataframe\">\n",
              "  <thead>\n",
              " <tr style=\"text-align: left;\">\n",
              "      <th>Step</th>\n",
              "      <th>Training Loss</th>\n",
              "      <th>Validation Loss</th>\n",
              "      <th>Wer</th>\n",
              "    </tr>\n",
              "  </thead>\n",
              "  <tbody>\n",
              "    <tr>\n",
              "      <td>500</td>\n",
              "      <td>3.431600</td>\n",
              "      <td>1.575671</td>\n",
              "      <td>1.034112</td>\n",
              "    </tr>\n",
              "    <tr>\n",
              "      <td>1000</td>\n",
              "      <td>0.822800</td>\n",
              "      <td>0.502561</td>\n",
              "      <td>0.505203</td>\n",
              "    </tr>\n",
              "    <tr>\n",
              "      <td>1500</td>\n",
              "      <td>0.410000</td>\n",
              "      <td>0.418459</td>\n",
              "      <td>0.445938</td>\n",
              "    </tr>\n",
              "    <tr>\n",
              "      <td>2000</td>\n",
              "      <td>0.284300</td>\n",
              "      <td>0.414527</td>\n",
              "      <td>0.416718</td>\n",
              "    </tr>\n",
              "    <tr>\n",
              "      <td>2500</td>\n",
              "      <td>0.216900</td>\n",
              "      <td>0.385132</td>\n",
              "      <td>0.395838</td>\n",
              "    </tr>\n",
              "    <tr>\n",
              "      <td>3000</td>\n",
              "      <td>0.183500</td>\n",
              "      <td>0.418221</td>\n",
              "      <td>0.379436</td>\n",
              "    </tr>\n",
              "    <tr>\n",
              "      <td>3500</td>\n",
              "      <td>0.157100</td>\n",
              "      <td>0.423637</td>\n",
              "      <td>0.379298</td>\n",
              "    </tr>\n",
              "    <tr>\n",
              "      <td>4000</td>\n",
              "      <td>0.140000</td>\n",
              "      <td>0.444151</td>\n",
              "      <td>0.380470</td>\n",
              "    </tr>\n",
              "    <tr>\n",
              "      <td>4500</td>\n",
              "      <td>0.123200</td>\n",
              "      <td>0.456132</td>\n",
              "      <td>0.370202</td>\n",
              "    </tr>\n",
              "    <tr>\n",
              "      <td>5000</td>\n",
              "      <td>0.108000</td>\n",
              "      <td>0.426741</td>\n",
              "      <td>0.366618</td>\n",
              "    </tr>\n",
              "    <tr>\n",
              "      <td>5500</td>\n",
              "      <td>0.099600</td>\n",
              "      <td>0.476690</td>\n",
              "      <td>0.370202</td>\n",
              "    </tr>\n",
              "  </tbody>\n",
              "</table><p>"
            ],
            "text/plain": [
              "<IPython.core.display.HTML object>"
            ]
          },
          "metadata": {},
          "output_type": "display_data"
        },
        {
          "name": "stderr",
          "output_type": "stream",
          "text": [
            "The following columns in the evaluation set  don't have a corresponding argument in `Wav2Vec2ForCTC.forward` and have been ignored: input_length. If input_length are not expected by `Wav2Vec2ForCTC.forward`,  you can safely ignore this message.\n",
            "***** Running Evaluation *****\n",
            "  Num examples = 1680\n",
            "  Batch size = 8\n",
            "Saving model checkpoint to wav2vec2-base-timit-demo-google-colab/checkpoint-500\n",
            "Configuration saved in wav2vec2-base-timit-demo-google-colab/checkpoint-500/config.json\n",
            "Model weights saved in wav2vec2-base-timit-demo-google-colab/checkpoint-500/pytorch_model.bin\n",
            "Feature extractor saved in wav2vec2-base-timit-demo-google-colab/checkpoint-500/preprocessor_config.json\n",
            "The following columns in the evaluation set  don't have a corresponding argument in `Wav2Vec2ForCTC.forward` and have been ignored: input_length. If input_length are not expected by `Wav2Vec2ForCTC.forward`,  you can safely ignore this message.\n",
            "***** Running Evaluation *****\n",
            "  Num examples = 1680\n",
            "  Batch size = 8\n",
            "Saving model checkpoint to wav2vec2-base-timit-demo-google-colab/checkpoint-1000\n",
            "Configuration saved in wav2vec2-base-timit-demo-google-colab/checkpoint-1000/config.json\n",
            "Model weights saved in wav2vec2-base-timit-demo-google-colab/checkpoint-1000/pytorch_model.bin\n",
            "Feature extractor saved in wav2vec2-base-timit-demo-google-colab/checkpoint-1000/preprocessor_config.json\n",
            "The following columns in the evaluation set  don't have a corresponding argument in `Wav2Vec2ForCTC.forward` and have been ignored: input_length. If input_length are not expected by `Wav2Vec2ForCTC.forward`,  you can safely ignore this message.\n",
            "***** Running Evaluation *****\n",
            "  Num examples = 1680\n",
            "  Batch size = 8\n",
            "Saving model checkpoint to wav2vec2-base-timit-demo-google-colab/checkpoint-1500\n",
            "Configuration saved in wav2vec2-base-timit-demo-google-colab/checkpoint-1500/config.json\n",
            "Model weights saved in wav2vec2-base-timit-demo-google-colab/checkpoint-1500/pytorch_model.bin\n",
            "Feature extractor saved in wav2vec2-base-timit-demo-google-colab/checkpoint-1500/preprocessor_config.json\n",
            "Deleting older checkpoint [wav2vec2-base-timit-demo-google-colab/checkpoint-500] due to args.save_total_limit\n",
            "The following columns in the evaluation set  don't have a corresponding argument in `Wav2Vec2ForCTC.forward` and have been ignored: input_length. If input_length are not expected by `Wav2Vec2ForCTC.forward`,  you can safely ignore this message.\n",
            "***** Running Evaluation *****\n",
            "  Num examples = 1680\n",
            "  Batch size = 8\n",
            "Saving model checkpoint to wav2vec2-base-timit-demo-google-colab/checkpoint-2000\n",
            "Configuration saved in wav2vec2-base-timit-demo-google-colab/checkpoint-2000/config.json\n",
            "Model weights saved in wav2vec2-base-timit-demo-google-colab/checkpoint-2000/pytorch_model.bin\n",
            "Feature extractor saved in wav2vec2-base-timit-demo-google-colab/checkpoint-2000/preprocessor_config.json\n",
            "Deleting older checkpoint [wav2vec2-base-timit-demo-google-colab/checkpoint-1000] due to args.save_total_limit\n",
            "The following columns in the evaluation set  don't have a corresponding argument in `Wav2Vec2ForCTC.forward` and have been ignored: input_length. If input_length are not expected by `Wav2Vec2ForCTC.forward`,  you can safely ignore this message.\n",
            "***** Running Evaluation *****\n",
            "  Num examples = 1680\n",
            "  Batch size = 8\n",
            "Saving model checkpoint to wav2vec2-base-timit-demo-google-colab/checkpoint-2500\n",
            "Configuration saved in wav2vec2-base-timit-demo-google-colab/checkpoint-2500/config.json\n",
            "Model weights saved in wav2vec2-base-timit-demo-google-colab/checkpoint-2500/pytorch_model.bin\n",
            "Feature extractor saved in wav2vec2-base-timit-demo-google-colab/checkpoint-2500/preprocessor_config.json\n",
            "Deleting older checkpoint [wav2vec2-base-timit-demo-google-colab/checkpoint-1500] due to args.save_total_limit\n",
            "The following columns in the evaluation set  don't have a corresponding argument in `Wav2Vec2ForCTC.forward` and have been ignored: input_length. If input_length are not expected by `Wav2Vec2ForCTC.forward`,  you can safely ignore this message.\n",
            "***** Running Evaluation *****\n",
            "  Num examples = 1680\n",
            "  Batch size = 8\n",
            "Saving model checkpoint to wav2vec2-base-timit-demo-google-colab/checkpoint-3000\n",
            "Configuration saved in wav2vec2-base-timit-demo-google-colab/checkpoint-3000/config.json\n",
            "Model weights saved in wav2vec2-base-timit-demo-google-colab/checkpoint-3000/pytorch_model.bin\n",
            "Feature extractor saved in wav2vec2-base-timit-demo-google-colab/checkpoint-3000/preprocessor_config.json\n",
            "Deleting older checkpoint [wav2vec2-base-timit-demo-google-colab/checkpoint-2000] due to args.save_total_limit\n",
            "The following columns in the evaluation set  don't have a corresponding argument in `Wav2Vec2ForCTC.forward` and have been ignored: input_length. If input_length are not expected by `Wav2Vec2ForCTC.forward`,  you can safely ignore this message.\n",
            "***** Running Evaluation *****\n",
            "  Num examples = 1680\n",
            "  Batch size = 8\n",
            "Saving model checkpoint to wav2vec2-base-timit-demo-google-colab/checkpoint-3500\n",
            "Configuration saved in wav2vec2-base-timit-demo-google-colab/checkpoint-3500/config.json\n",
            "Model weights saved in wav2vec2-base-timit-demo-google-colab/checkpoint-3500/pytorch_model.bin\n",
            "Feature extractor saved in wav2vec2-base-timit-demo-google-colab/checkpoint-3500/preprocessor_config.json\n",
            "Deleting older checkpoint [wav2vec2-base-timit-demo-google-colab/checkpoint-2500] due to args.save_total_limit\n",
            "The following columns in the evaluation set  don't have a corresponding argument in `Wav2Vec2ForCTC.forward` and have been ignored: input_length. If input_length are not expected by `Wav2Vec2ForCTC.forward`,  you can safely ignore this message.\n",
            "***** Running Evaluation *****\n",
            "  Num examples = 1680\n",
            "  Batch size = 8\n",
            "Saving model checkpoint to wav2vec2-base-timit-demo-google-colab/checkpoint-4000\n",
            "Configuration saved in wav2vec2-base-timit-demo-google-colab/checkpoint-4000/config.json\n",
            "Model weights saved in wav2vec2-base-timit-demo-google-colab/checkpoint-4000/pytorch_model.bin\n",
            "Feature extractor saved in wav2vec2-base-timit-demo-google-colab/checkpoint-4000/preprocessor_config.json\n",
            "Deleting older checkpoint [wav2vec2-base-timit-demo-google-colab/checkpoint-3000] due to args.save_total_limit\n",
            "The following columns in the evaluation set  don't have a corresponding argument in `Wav2Vec2ForCTC.forward` and have been ignored: input_length. If input_length are not expected by `Wav2Vec2ForCTC.forward`,  you can safely ignore this message.\n",
            "***** Running Evaluation *****\n",
            "  Num examples = 1680\n",
            "  Batch size = 8\n",
            "Saving model checkpoint to wav2vec2-base-timit-demo-google-colab/checkpoint-4500\n",
            "Configuration saved in wav2vec2-base-timit-demo-google-colab/checkpoint-4500/config.json\n",
            "Model weights saved in wav2vec2-base-timit-demo-google-colab/checkpoint-4500/pytorch_model.bin\n",
            "Feature extractor saved in wav2vec2-base-timit-demo-google-colab/checkpoint-4500/preprocessor_config.json\n",
            "Deleting older checkpoint [wav2vec2-base-timit-demo-google-colab/checkpoint-3500] due to args.save_total_limit\n",
            "The following columns in the evaluation set  don't have a corresponding argument in `Wav2Vec2ForCTC.forward` and have been ignored: input_length. If input_length are not expected by `Wav2Vec2ForCTC.forward`,  you can safely ignore this message.\n",
            "***** Running Evaluation *****\n",
            "  Num examples = 1680\n",
            "  Batch size = 8\n",
            "Saving model checkpoint to wav2vec2-base-timit-demo-google-colab/checkpoint-5000\n",
            "Configuration saved in wav2vec2-base-timit-demo-google-colab/checkpoint-5000/config.json\n",
            "Model weights saved in wav2vec2-base-timit-demo-google-colab/checkpoint-5000/pytorch_model.bin\n",
            "Feature extractor saved in wav2vec2-base-timit-demo-google-colab/checkpoint-5000/preprocessor_config.json\n",
            "Deleting older checkpoint [wav2vec2-base-timit-demo-google-colab/checkpoint-4000] due to args.save_total_limit\n",
            "The following columns in the evaluation set  don't have a corresponding argument in `Wav2Vec2ForCTC.forward` and have been ignored: input_length. If input_length are not expected by `Wav2Vec2ForCTC.forward`,  you can safely ignore this message.\n",
            "***** Running Evaluation *****\n",
            "  Num examples = 1680\n",
            "  Batch size = 8\n",
            "Saving model checkpoint to wav2vec2-base-timit-demo-google-colab/checkpoint-5500\n",
            "Configuration saved in wav2vec2-base-timit-demo-google-colab/checkpoint-5500/config.json\n",
            "Model weights saved in wav2vec2-base-timit-demo-google-colab/checkpoint-5500/pytorch_model.bin\n",
            "Feature extractor saved in wav2vec2-base-timit-demo-google-colab/checkpoint-5500/preprocessor_config.json\n",
            "Deleting older checkpoint [wav2vec2-base-timit-demo-google-colab/checkpoint-4500] due to args.save_total_limit\n"
          ]
        }
      ],
      "source": [
        "trainer.train()"
      ]
    },
    {
      "cell_type": "markdown",
      "metadata": {
        "id": "UCyp-v3n4Zlt"
      },
      "source": [
        "The final WER should be around 0.3 which is reasonable given that state-of-the-art phoneme error rates (PER) are just below 0.1 (see [leaderboard](https://paperswithcode.com/sota/speech-recognition-on-timit)) and that WER is usually worse than PER.\n",
        "\n",
        "You can now upload the result of the training to the Hub, just execute this instruction:"
      ]
    },
    {
      "cell_type": "code",
      "execution_count": null,
      "metadata": {
        "colab": {
          "base_uri": "https://localhost:8080/",
          "height": 497,
          "referenced_widgets": [
            "a7725ad7a1774178bba1b39b48bee36b",
            "acc6c975316f4fc9af3f449ccaf71646",
            "2b48e3c58b284b32ae51a3c3afb13d85",
            "7748d6bd4e224b3f836a06b321e72de0",
            "b29aab47d701449181b8d8c715b09657",
            "5cb2c62e3d6f426f8c17eec2fe6e23ae",
            "f44a8453ba314ddbb153e1278eb59eec",
            "6ba56300bd3240629256a72060f36fde",
            "d8f4c2ce266a4a9284572af28ad9ad1c",
            "4cdbe067372b4c32bc782f966aea7f42",
            "afe17562ac7948edab0233eb3804d9cb",
            "00a02ff8b284413f853da9d7c41afedd",
            "73b586087e9447e688c97318bf6eba11",
            "6ba8f8fde3fc4050a304df11cc1d2c7c",
            "0ceb294ca03a4bf2ae5586ffbbb6f0fc",
            "ffa2bd3495f54f1c81f15ebf50fd4fee",
            "e53ec4e8ee3d44bb8b3bdcf323335c8a",
            "ceef78fab0024c578976ad6c589c0d7f",
            "35a9027e670146f3a25db0d06035fd1b",
            "0cd65792216b4decaf24961bb33802d0",
            "968f456d45ab4f25aeaf57b0c0ddc190",
            "92ae2ab85efc40fa89da650ccbe85e21",
            "e1a34af59be04546808279b6e673c498",
            "91a9bd637428473192d5ec47ba137268",
            "f11e33bc060746758ad638204b71955c",
            "ef69985b8f7c4662912a11a377e99b59",
            "9721f00cdfc942e8ab8a4faf8080ef2d",
            "196c66080f944a61a537a0ddd9905248",
            "e7d54319900548208c3852623ebc3dcf",
            "adbd04cd03624b66a8c725f9a89647b6",
            "200b5fada23d45ff947953003d052605",
            "8c89f99cd7b9408eafbfbf8e0c56d39c",
            "a40561b6f013481ba77fa137ab43b1c2",
            "63ee5e2413434249bd47a8d662ec0da6",
            "d10215d60b9f471ab681a948ad143159",
            "bcb33e49c5ab412eb5b8cd823cf06706",
            "f23b78d30ff040f481b5584a83083b39",
            "fe39df4b5e9d41f6a0233bafb4522dd4",
            "6cac8e9fcefd4353a76244f89ff459e1",
            "4f70c2c356074adf9aa7c1fb6b20f8e3",
            "4cc884973b734098a135619736b5f599",
            "fd72ea27c82843ceb5fdb74886fc5b44",
            "28b1ff0d507e40fb84e4083537207de4",
            "bf2896c4b25147f0a303c748fa2b0cd9"
          ]
        },
        "id": "JYGQYBhHNsvj",
        "outputId": "c60381d7-a4ec-4cfe-ec0b-0b16af963c3d"
      },
      "outputs": [
        {
          "name": "stderr",
          "output_type": "stream",
          "text": [
            "/content/wav2vec2-base-timit-demo-google-colab is already a clone of https://huggingface.co/patrickvonplaten/wav2vec2-base-timit-demo-google-colab. Make sure you pull the latest changes with `repo.git_pull()`.\n",
            "Saving model checkpoint to wav2vec2-base-timit-demo-google-colab\n",
            "Configuration saved in wav2vec2-base-timit-demo-google-colab/config.json\n",
            "Model weights saved in wav2vec2-base-timit-demo-google-colab/pytorch_model.bin\n",
            "Feature extractor saved in wav2vec2-base-timit-demo-google-colab/preprocessor_config.json\n"
          ]
        },
        {
          "data": {
            "application/vnd.jupyter.widget-view+json": {
              "model_id": "a7725ad7a1774178bba1b39b48bee36b",
              "version_major": 2,
              "version_minor": 0
            },
            "text/plain": [
              "Upload file pytorch_model.bin:   0%|          | 3.34k/360M [00:00<?, ?B/s]"
            ]
          },
          "metadata": {},
          "output_type": "display_data"
        },
        {
          "data": {
            "application/vnd.jupyter.widget-view+json": {
              "model_id": "00a02ff8b284413f853da9d7c41afedd",
              "version_major": 2,
              "version_minor": 0
            },
            "text/plain": [
              "Upload file runs/May10_11-02-51_d58de38fbf77/1652180636.6085317/events.out.tfevents.1652180636.d58de38fbf77.96…"
            ]
          },
          "metadata": {},
          "output_type": "display_data"
        },
        {
          "data": {
            "application/vnd.jupyter.widget-view+json": {
              "model_id": "e1a34af59be04546808279b6e673c498",
              "version_major": 2,
              "version_minor": 0
            },
            "text/plain": [
              "Upload file training_args.bin: 100%|##########| 2.98k/2.98k [00:00<?, ?B/s]"
            ]
          },
          "metadata": {},
          "output_type": "display_data"
        },
        {
          "data": {
            "application/vnd.jupyter.widget-view+json": {
              "model_id": "63ee5e2413434249bd47a8d662ec0da6",
              "version_major": 2,
              "version_minor": 0
            },
            "text/plain": [
              "Upload file runs/May10_11-02-51_d58de38fbf77/events.out.tfevents.1652180636.d58de38fbf77.96.2:  18%|#7        …"
            ]
          },
          "metadata": {},
          "output_type": "display_data"
        },
        {
          "name": "stderr",
          "output_type": "stream",
          "text": [
            "remote: Enforcing permissions...        \n",
            "remote: Allowed refs: all        \n",
            "To https://huggingface.co/patrickvonplaten/wav2vec2-base-timit-demo-google-colab\n",
            "   293755a..629f0ba  main -> main\n",
            "\n",
            "Dropping the following result as it does not have all the necessary fields:\n",
            "{}\n",
            "remote: Enforcing permissions...        \n",
            "remote: Allowed refs: all        \n",
            "To https://huggingface.co/patrickvonplaten/wav2vec2-base-timit-demo-google-colab\n",
            "   629f0ba..38b281e  main -> main\n",
            "\n"
          ]
        },
        {
          "data": {
            "application/vnd.google.colaboratory.intrinsic+json": {
              "type": "string"
            },
            "text/plain": [
              "'https://huggingface.co/patrickvonplaten/wav2vec2-base-timit-demo-google-colab/commit/629f0ba808bdecd2134e2d91110e86e4d7d7647c'"
            ]
          },
          "execution_count": 86,
          "metadata": {},
          "output_type": "execute_result"
        }
      ],
      "source": [
        "trainer.push_to_hub()"
      ]
    },
    {
      "cell_type": "markdown",
      "metadata": {
        "id": "djzwS5WeNu16"
      },
      "source": [
        "You can now share this model with all your friends, family, favorite pets: they can all load it with the identifier \"your-username/the-name-you-picked\" so for instance:"
      ]
    },
    {
      "cell_type": "markdown",
      "metadata": {
        "id": "Adm0LngNNxq7"
      },
      "source": [
        "```python\n",
        "from transformers import AutoModelForCTC, Wav2Vec2Processor\n",
        "\n",
        "model = AutoModelForCTC.from_pretrained(\"patrickvonplaten/wav2vec2-base-timit-demo-google-colab\")\n",
        "processor = Wav2Vec2Processor.from_pretrained(\"patrickvonplaten/wav2vec2-base-timit-demo-google-colab\")\n",
        "```"
      ]
    },
    {
      "cell_type": "markdown",
      "metadata": {
        "id": "nD4XP5IHncsY"
      },
      "source": [
        "### Evaluate\n",
        "\n",
        "In the final part, we run our model on some of the validation data to get a feeling for how well it works.\n",
        "\n",
        "Let's load the `processor` and `model`."
      ]
    },
    {
      "cell_type": "code",
      "execution_count": null,
      "metadata": {
        "colab": {
          "base_uri": "https://localhost:8080/",
          "height": 718,
          "referenced_widgets": [
            "524b5795780746f5966c06b878cc0fbc",
            "8eb41fee8e1c452a9d69a07a266d871a",
            "f22febfc3bbe48058be84b2a20e906f5",
            "ab51fefefa1b464a9a780b80c6f0c020",
            "88fd1cb973f8485b97caa19b7801c3d3",
            "3234edc4a75e4658acd19feef174e88f",
            "6bfe6219ad934146a4d680e38ed19879",
            "63e9fc689ea54fbfa7226cc9918977cb",
            "dc034b4bf9e34963ab79f391c55d44ac",
            "6b3288ffeef34c2a925d2554c7c4f521",
            "116e45bbe2d640d18d6a47309692dc20",
            "66d5a397b26e4d66a97bc3b3159e96bd",
            "041870fd5bac43b394956252364a16c4",
            "26f6574d99724fb29159071dda6039b5",
            "55d0bfd5c746402f89e6b86a7ca37b3a",
            "b69bad861f014c20b4cb470c73b1fe37",
            "940e030ce7ae40d68136ddf1a1a67736",
            "c80bdd3bae794c08b81c950a33ff9ba0",
            "7b0c8bc5bb66433384aeb47bf99001ae",
            "6b03d462bd0f4fbeab0df76bbb881621",
            "be78bdab8638431e80c087a0fe9a7a8f",
            "d44a1f0b3216469fb1ac597951f9471a",
            "a0e897961bb049438847879cf082adf3",
            "820ac3ce474346728b80a609d47848ee",
            "045273b88fa04afba97bf7ba6027f164",
            "4847949da7b64782895b4fca8b432ec8",
            "427b99cf8b964a59bbbf0b4d04504906",
            "f652ea3e007c42669e445a7247bb0430",
            "527bf8b3612b4da89479424c5b66681e",
            "708ff309676040119bccd6f21d1684f6",
            "6a8694b9181f4828ba3ef4ff828fd1c3",
            "90dbfe5bab604315b329a6a8fcf131b1",
            "b1a51bfb07774b7bac783d1c4d5a680c",
            "6ca0c9b3d250425b9597de9baa6bd77b",
            "b7d46c7f5da646eba0ed9e38fed6b4ee",
            "7291673613bb43848bec1abee7447078",
            "5c49d625a7f742f1a64820bc6f749f3a",
            "a6a5bcb980df41d1b3e7b581701eae16",
            "6412d390b2ce416fae910d689c3f6e70",
            "255c276a050446ed9df81f8eeb7c1178",
            "ddd975596c234b0eacc40ef18ef40778",
            "a5fd824b8eb64bb7b8d83354961927e6",
            "17e3d063396848548af91c55c8f8e282",
            "a3b48bc669674ff2a0bcce75a50e81eb"
          ]
        },
        "id": "-rg0USDCnbo6",
        "outputId": "ddfac637-7c6d-4df1-a07a-4f1278fff182"
      },
      "outputs": [
        {
          "name": "stderr",
          "output_type": "stream",
          "text": [
            "https://huggingface.co/patrickvonplaten/wav2vec2-base-timit-demo-google-colab/resolve/main/preprocessor_config.json not found in cache or force_download set to True, downloading to /root/.cache/huggingface/transformers/tmpjyd34ogd\n"
          ]
        },
        {
          "data": {
            "application/vnd.jupyter.widget-view+json": {
              "model_id": "524b5795780746f5966c06b878cc0fbc",
              "version_major": 2,
              "version_minor": 0
            },
            "text/plain": [
              "Downloading:   0%|          | 0.00/215 [00:00<?, ?B/s]"
            ]
          },
          "metadata": {},
          "output_type": "display_data"
        },
        {
          "name": "stderr",
          "output_type": "stream",
          "text": [
            "storing https://huggingface.co/patrickvonplaten/wav2vec2-base-timit-demo-google-colab/resolve/main/preprocessor_config.json in cache at /root/.cache/huggingface/transformers/17fa07f6e2f88edf24c71037bed1b7cf0cf9acfef7d3353afb589689627542c1.0e3e6656f99a6f7b9eddd943463eb7f34363640fce9e87b047ebd50d4b112b50\n",
            "creating metadata file for /root/.cache/huggingface/transformers/17fa07f6e2f88edf24c71037bed1b7cf0cf9acfef7d3353afb589689627542c1.0e3e6656f99a6f7b9eddd943463eb7f34363640fce9e87b047ebd50d4b112b50\n",
            "loading feature extractor configuration file https://huggingface.co/patrickvonplaten/wav2vec2-base-timit-demo-google-colab/resolve/main/preprocessor_config.json from cache at /root/.cache/huggingface/transformers/17fa07f6e2f88edf24c71037bed1b7cf0cf9acfef7d3353afb589689627542c1.0e3e6656f99a6f7b9eddd943463eb7f34363640fce9e87b047ebd50d4b112b50\n",
            "Feature extractor Wav2Vec2FeatureExtractor {\n",
            "  \"do_normalize\": true,\n",
            "  \"feature_extractor_type\": \"Wav2Vec2FeatureExtractor\",\n",
            "  \"feature_size\": 1,\n",
            "  \"padding_side\": \"right\",\n",
            "  \"padding_value\": 0.0,\n",
            "  \"return_attention_mask\": false,\n",
            "  \"sampling_rate\": 16000\n",
            "}\n",
            "\n",
            "https://huggingface.co/patrickvonplaten/wav2vec2-base-timit-demo-google-colab/resolve/main/tokenizer_config.json not found in cache or force_download set to True, downloading to /root/.cache/huggingface/transformers/tmpcsym765z\n"
          ]
        },
        {
          "data": {
            "application/vnd.jupyter.widget-view+json": {
              "model_id": "66d5a397b26e4d66a97bc3b3159e96bd",
              "version_major": 2,
              "version_minor": 0
            },
            "text/plain": [
              "Downloading:   0%|          | 0.00/217 [00:00<?, ?B/s]"
            ]
          },
          "metadata": {},
          "output_type": "display_data"
        },
        {
          "name": "stderr",
          "output_type": "stream",
          "text": [
            "storing https://huggingface.co/patrickvonplaten/wav2vec2-base-timit-demo-google-colab/resolve/main/tokenizer_config.json in cache at /root/.cache/huggingface/transformers/7bf2e07c1c7ed7e3d055d87aa6bd33c75e6883d98029ae3744fed6bea9e35095.59710b1a6a5501d31e746b6e464f5c44de3e55a58f80634196025936683a68a9\n",
            "creating metadata file for /root/.cache/huggingface/transformers/7bf2e07c1c7ed7e3d055d87aa6bd33c75e6883d98029ae3744fed6bea9e35095.59710b1a6a5501d31e746b6e464f5c44de3e55a58f80634196025936683a68a9\n",
            "https://huggingface.co/patrickvonplaten/wav2vec2-base-timit-demo-google-colab/resolve/main/vocab.json not found in cache or force_download set to True, downloading to /root/.cache/huggingface/transformers/tmpptj3is25\n"
          ]
        },
        {
          "data": {
            "application/vnd.jupyter.widget-view+json": {
              "model_id": "a0e897961bb049438847879cf082adf3",
              "version_major": 2,
              "version_minor": 0
            },
            "text/plain": [
              "Downloading:   0%|          | 0.00/268 [00:00<?, ?B/s]"
            ]
          },
          "metadata": {},
          "output_type": "display_data"
        },
        {
          "name": "stderr",
          "output_type": "stream",
          "text": [
            "storing https://huggingface.co/patrickvonplaten/wav2vec2-base-timit-demo-google-colab/resolve/main/vocab.json in cache at /root/.cache/huggingface/transformers/f739813380b0880ba302557f0f990f0f64e8efe81fcc91a4fce08206a91ee215.c44a036121683e19f1a033a1765d4344364cb4633a6cbf5cf51b153f2388abb1\n",
            "creating metadata file for /root/.cache/huggingface/transformers/f739813380b0880ba302557f0f990f0f64e8efe81fcc91a4fce08206a91ee215.c44a036121683e19f1a033a1765d4344364cb4633a6cbf5cf51b153f2388abb1\n",
            "https://huggingface.co/patrickvonplaten/wav2vec2-base-timit-demo-google-colab/resolve/main/special_tokens_map.json not found in cache or force_download set to True, downloading to /root/.cache/huggingface/transformers/tmpckp9vkh1\n"
          ]
        },
        {
          "data": {
            "application/vnd.jupyter.widget-view+json": {
              "model_id": "6ca0c9b3d250425b9597de9baa6bd77b",
              "version_major": 2,
              "version_minor": 0
            },
            "text/plain": [
              "Downloading:   0%|          | 0.00/85.0 [00:00<?, ?B/s]"
            ]
          },
          "metadata": {},
          "output_type": "display_data"
        },
        {
          "name": "stderr",
          "output_type": "stream",
          "text": [
            "storing https://huggingface.co/patrickvonplaten/wav2vec2-base-timit-demo-google-colab/resolve/main/special_tokens_map.json in cache at /root/.cache/huggingface/transformers/c239f3738252f8d8e83d9813ea82866aeec476c467a008db86229f4edc6490b0.a21d51735cf8667bcd610f057e88548d5d6a381401f6b4501a8bc6c1a9dc8498\n",
            "creating metadata file for /root/.cache/huggingface/transformers/c239f3738252f8d8e83d9813ea82866aeec476c467a008db86229f4edc6490b0.a21d51735cf8667bcd610f057e88548d5d6a381401f6b4501a8bc6c1a9dc8498\n",
            "loading file https://huggingface.co/patrickvonplaten/wav2vec2-base-timit-demo-google-colab/resolve/main/vocab.json from cache at /root/.cache/huggingface/transformers/f739813380b0880ba302557f0f990f0f64e8efe81fcc91a4fce08206a91ee215.c44a036121683e19f1a033a1765d4344364cb4633a6cbf5cf51b153f2388abb1\n",
            "loading file https://huggingface.co/patrickvonplaten/wav2vec2-base-timit-demo-google-colab/resolve/main/tokenizer_config.json from cache at /root/.cache/huggingface/transformers/7bf2e07c1c7ed7e3d055d87aa6bd33c75e6883d98029ae3744fed6bea9e35095.59710b1a6a5501d31e746b6e464f5c44de3e55a58f80634196025936683a68a9\n",
            "loading file https://huggingface.co/patrickvonplaten/wav2vec2-base-timit-demo-google-colab/resolve/main/added_tokens.json from cache at None\n",
            "loading file https://huggingface.co/patrickvonplaten/wav2vec2-base-timit-demo-google-colab/resolve/main/special_tokens_map.json from cache at /root/.cache/huggingface/transformers/c239f3738252f8d8e83d9813ea82866aeec476c467a008db86229f4edc6490b0.a21d51735cf8667bcd610f057e88548d5d6a381401f6b4501a8bc6c1a9dc8498\n",
            "Adding <s> to the vocabulary\n",
            "Adding </s> to the vocabulary\n",
            "Special tokens have been added in the vocabulary, make sure the associated word embeddings are fine-tuned or trained.\n"
          ]
        }
      ],
      "source": [
        "processor = Wav2Vec2Processor.from_pretrained(\"patrickvonplaten/wav2vec2-base-timit-demo-google-colab\")"
      ]
    },
    {
      "cell_type": "code",
      "execution_count": null,
      "metadata": {
        "colab": {
          "base_uri": "https://localhost:8080/"
        },
        "id": "sSpFW3pDn23P",
        "outputId": "dd9ac831-3620-4b87-98b6-c85a57150a15"
      },
      "outputs": [
        {
          "name": "stderr",
          "output_type": "stream",
          "text": [
            "loading configuration file https://huggingface.co/patrickvonplaten/wav2vec2-base-timit-demo-google-colab/resolve/main/config.json from cache at /root/.cache/huggingface/transformers/7606a293c66b1cba6bb9a342dcffe3831dc19a120cfeeb9e57cdf6ffb9630f3f.3202909be16e9c482257d0c4d35b4f4c2558cea585027c729eed803ba4bf0d8e\n",
            "Model config Wav2Vec2Config {\n",
            "  \"_name_or_path\": \"facebook/wav2vec2-base\",\n",
            "  \"activation_dropout\": 0.0,\n",
            "  \"adapter_kernel_size\": 3,\n",
            "  \"adapter_stride\": 2,\n",
            "  \"add_adapter\": false,\n",
            "  \"apply_spec_augment\": true,\n",
            "  \"architectures\": [\n",
            "    \"Wav2Vec2ForCTC\"\n",
            "  ],\n",
            "  \"attention_dropout\": 0.1,\n",
            "  \"bos_token_id\": 1,\n",
            "  \"classifier_proj_size\": 256,\n",
            "  \"codevector_dim\": 256,\n",
            "  \"contrastive_logits_temperature\": 0.1,\n",
            "  \"conv_bias\": false,\n",
            "  \"conv_dim\": [\n",
            "    512,\n",
            "    512,\n",
            "    512,\n",
            "    512,\n",
            "    512,\n",
            "    512,\n",
            "    512\n",
            "  ],\n",
            "  \"conv_kernel\": [\n",
            "    10,\n",
            "    3,\n",
            "    3,\n",
            "    3,\n",
            "    3,\n",
            "    2,\n",
            "    2\n",
            "  ],\n",
            "  \"conv_stride\": [\n",
            "    5,\n",
            "    2,\n",
            "    2,\n",
            "    2,\n",
            "    2,\n",
            "    2,\n",
            "    2\n",
            "  ],\n",
            "  \"ctc_loss_reduction\": \"mean\",\n",
            "  \"ctc_zero_infinity\": false,\n",
            "  \"diversity_loss_weight\": 0.1,\n",
            "  \"do_stable_layer_norm\": false,\n",
            "  \"eos_token_id\": 2,\n",
            "  \"feat_extract_activation\": \"gelu\",\n",
            "  \"feat_extract_norm\": \"group\",\n",
            "  \"feat_proj_dropout\": 0.1,\n",
            "  \"feat_quantizer_dropout\": 0.0,\n",
            "  \"final_dropout\": 0.0,\n",
            "  \"freeze_feat_extract_train\": true,\n",
            "  \"hidden_act\": \"gelu\",\n",
            "  \"hidden_dropout\": 0.1,\n",
            "  \"hidden_size\": 768,\n",
            "  \"initializer_range\": 0.02,\n",
            "  \"intermediate_size\": 3072,\n",
            "  \"layer_norm_eps\": 1e-05,\n",
            "  \"layerdrop\": 0.0,\n",
            "  \"mask_channel_length\": 10,\n",
            "  \"mask_channel_min_space\": 1,\n",
            "  \"mask_channel_other\": 0.0,\n",
            "  \"mask_channel_prob\": 0.0,\n",
            "  \"mask_channel_selection\": \"static\",\n",
            "  \"mask_feature_length\": 10,\n",
            "  \"mask_feature_min_masks\": 0,\n",
            "  \"mask_feature_prob\": 0.0,\n",
            "  \"mask_time_length\": 10,\n",
            "  \"mask_time_min_masks\": 2,\n",
            "  \"mask_time_min_space\": 1,\n",
            "  \"mask_time_other\": 0.0,\n",
            "  \"mask_time_prob\": 0.05,\n",
            "  \"mask_time_selection\": \"static\",\n",
            "  \"model_type\": \"wav2vec2\",\n",
            "  \"no_mask_channel_overlap\": false,\n",
            "  \"no_mask_time_overlap\": false,\n",
            "  \"num_adapter_layers\": 3,\n",
            "  \"num_attention_heads\": 12,\n",
            "  \"num_codevector_groups\": 2,\n",
            "  \"num_codevectors_per_group\": 320,\n",
            "  \"num_conv_pos_embedding_groups\": 16,\n",
            "  \"num_conv_pos_embeddings\": 128,\n",
            "  \"num_feat_extract_layers\": 7,\n",
            "  \"num_hidden_layers\": 12,\n",
            "  \"num_negatives\": 100,\n",
            "  \"output_hidden_size\": 768,\n",
            "  \"pad_token_id\": 29,\n",
            "  \"proj_codevector_dim\": 256,\n",
            "  \"tdnn_dilation\": [\n",
            "    1,\n",
            "    2,\n",
            "    3,\n",
            "    1,\n",
            "    1\n",
            "  ],\n",
            "  \"tdnn_dim\": [\n",
            "    512,\n",
            "    512,\n",
            "    512,\n",
            "    512,\n",
            "    1500\n",
            "  ],\n",
            "  \"tdnn_kernel\": [\n",
            "    5,\n",
            "    3,\n",
            "    3,\n",
            "    1,\n",
            "    1\n",
            "  ],\n",
            "  \"torch_dtype\": \"float32\",\n",
            "  \"transformers_version\": \"4.17.0\",\n",
            "  \"use_weighted_layer_sum\": false,\n",
            "  \"vocab_size\": 32,\n",
            "  \"xvector_output_dim\": 512\n",
            "}\n",
            "\n",
            "loading weights file https://huggingface.co/patrickvonplaten/wav2vec2-base-timit-demo-google-colab/resolve/main/pytorch_model.bin from cache at /root/.cache/huggingface/transformers/666767bce47a87d50dfd1ceac759d5dc9db6eac8d185ae8f9a7dd388687c28c5.20bdf845b9896c1d0a213f03187b544f2a12b23d751b88c7b49a95d00bd946e1\n",
            "All model checkpoint weights were used when initializing Wav2Vec2ForCTC.\n",
            "\n",
            "All the weights of Wav2Vec2ForCTC were initialized from the model checkpoint at patrickvonplaten/wav2vec2-base-timit-demo-google-colab.\n",
            "If your task is similar to the task the model of the checkpoint was trained on, you can already use Wav2Vec2ForCTC for predictions without further training.\n"
          ]
        }
      ],
      "source": [
        "model = Wav2Vec2ForCTC.from_pretrained(\"patrickvonplaten/wav2vec2-base-timit-demo-google-colab\").cuda()"
      ]
    },
    {
      "cell_type": "markdown",
      "metadata": {
        "id": "TUuZpB0v5jn_"
      },
      "source": [
        "Now, we will make use of the `map(...)` function to predict the transcription of every test sample and to save the prediction in the dataset itself. We will call the resulting dictionary `\"results\"`. \n",
        "\n",
        "**Note**: we evaluate the test data set with `batch_size=1` on purpose due to this [issue](https://github.com/pytorch/fairseq/issues/3227). Since padded inputs don't yield the exact same output as non-padded inputs, a better WER can be achieved by not padding the input at all."
      ]
    },
    {
      "cell_type": "code",
      "execution_count": null,
      "metadata": {
        "id": "40naJl53n7jT"
      },
      "outputs": [],
      "source": [
        "def map_to_result(batch):\n",
        "  with torch.no_grad():\n",
        "    input_values = torch.tensor(batch[\"input_values\"], device=\"cuda\").unsqueeze(0)\n",
        "    logits = model(input_values).logits\n",
        "\n",
        "  pred_ids = torch.argmax(logits, dim=-1)\n",
        "  batch[\"pred_str\"] = processor.batch_decode(pred_ids)[0]\n",
        "  batch[\"text\"] = processor.decode(batch[\"labels\"], group_tokens=False)\n",
        "  \n",
        "  return batch"
      ]
    },
    {
      "cell_type": "code",
      "execution_count": null,
      "metadata": {
        "colab": {
          "base_uri": "https://localhost:8080/",
          "height": 48,
          "referenced_widgets": [
            "8fbdb230253a4152be95bf6229049f09",
            "857f0c099d8549e98991a93c791db4c1",
            "16561789e2b9417a80ddcb6ef9d8676a",
            "050c9d6bfd1e4b6ebe67401183a8d397",
            "5874591082f944ff9b32202a1edbfd60",
            "8c968b160d3d4fbb998840734f9f07e4",
            "d2fd7c9e56b1419f9d23a10c260a7c7d",
            "4a03fb6d945f4102bc4f7192195d810d",
            "8ab2466b187047fbbe4d8b72455b1108",
            "89472d79793e4db9afa6845fb016c8ad",
            "f5e79b8c3a634eae8a555f18b9dc9bd6"
          ]
        },
        "id": "uPqH7gZqrGPi",
        "outputId": "1eb633f5-c487-4cd1-8be6-aac4af385a2e"
      },
      "outputs": [
        {
          "data": {
            "application/vnd.jupyter.widget-view+json": {
              "model_id": "8fbdb230253a4152be95bf6229049f09",
              "version_major": 2,
              "version_minor": 0
            },
            "text/plain": [
              "0ex [00:00, ?ex/s]"
            ]
          },
          "metadata": {},
          "output_type": "display_data"
        }
      ],
      "source": [
        "results = timit[\"test\"].map(map_to_result, remove_columns=timit[\"test\"].column_names)"
      ]
    },
    {
      "cell_type": "markdown",
      "metadata": {
        "id": "-mqpdB8R6rty"
      },
      "source": [
        "Let's compute the overall WER now."
      ]
    },
    {
      "cell_type": "code",
      "execution_count": null,
      "metadata": {
        "colab": {
          "base_uri": "https://localhost:8080/"
        },
        "id": "PmqAb4Isx8OK",
        "outputId": "d70180e0-77e4-458b-daff-61df307f500c"
      },
      "outputs": [
        {
          "name": "stdout",
          "output_type": "stream",
          "text": [
            "Test WER: 0.218\n"
          ]
        }
      ],
      "source": [
        "print(\"Test WER: {:.3f}\".format(wer_metric.compute(predictions=results[\"pred_str\"], references=results[\"text\"])))"
      ]
    },
    {
      "cell_type": "markdown",
      "metadata": {
        "id": "6Va94d8Y7Q98"
      },
      "source": [
        "21.8% WER - not bad! Our demo model would have probably made it on the official [leaderboard](https://paperswithcode.com/sota/speech-recognition-on-timit).\n",
        "\n",
        "Let's take a look at some predictions to see what errors are made by the model."
      ]
    },
    {
      "cell_type": "code",
      "execution_count": null,
      "metadata": {
        "colab": {
          "base_uri": "https://localhost:8080/",
          "height": 363
        },
        "id": "odNDiFVRy53w",
        "outputId": "cb787bc7-5346-449e-e314-202df442185a"
      },
      "outputs": [
        {
          "data": {
            "text/html": [
              "<table border=\"1\" class=\"dataframe\">\n",
              "  <thead>\n",
              "    <tr style=\"text-align: right;\">\n",
              "      <th></th>\n",
              "      <th>pred_str</th>\n",
              "      <th>text</th>\n",
              "    </tr>\n",
              "  </thead>\n",
              "  <tbody>\n",
              "    <tr>\n",
              "      <th>0</th>\n",
              "      <td>aim to balenge your employ you benefits package</td>\n",
              "      <td>aim to balance your employee benefit package</td>\n",
              "    </tr>\n",
              "    <tr>\n",
              "      <th>1</th>\n",
              "      <td>the fog prevented them from ariving on tom</td>\n",
              "      <td>the fog prevented them from arriving on time</td>\n",
              "    </tr>\n",
              "    <tr>\n",
              "      <th>2</th>\n",
              "      <td>young children should avoid exposure to contageous diseases</td>\n",
              "      <td>young children should avoid exposure to contagious diseases</td>\n",
              "    </tr>\n",
              "    <tr>\n",
              "      <th>3</th>\n",
              "      <td>art official intelligence is for real</td>\n",
              "      <td>artificial intelligence is for real</td>\n",
              "    </tr>\n",
              "    <tr>\n",
              "      <th>4</th>\n",
              "      <td>theire propes were two step latters a chair and a pame fen</td>\n",
              "      <td>their props were two stepladders a chair and a palm fan</td>\n",
              "    </tr>\n",
              "    <tr>\n",
              "      <th>5</th>\n",
              "      <td>if people were more generous there would be no need for wealfar</td>\n",
              "      <td>if people were more generous there would be no need for welfare</td>\n",
              "    </tr>\n",
              "    <tr>\n",
              "      <th>6</th>\n",
              "      <td>the fish began to leep frantically on the surface of the smalleaku</td>\n",
              "      <td>the fish began to leap frantically on the surface of the small lake</td>\n",
              "    </tr>\n",
              "    <tr>\n",
              "      <th>7</th>\n",
              "      <td>her rite hand aques whenever the baramatric presuer changes</td>\n",
              "      <td>her right hand aches whenever the barometric pressure changes</td>\n",
              "    </tr>\n",
              "    <tr>\n",
              "      <th>8</th>\n",
              "      <td>only lawyers loved milunears</td>\n",
              "      <td>only lawyers love millionaires</td>\n",
              "    </tr>\n",
              "    <tr>\n",
              "      <th>9</th>\n",
              "      <td>the nearest synnegu may not be within walk in distance</td>\n",
              "      <td>the nearest synagogue may not be within walking distance</td>\n",
              "    </tr>\n",
              "  </tbody>\n",
              "</table>"
            ],
            "text/plain": [
              "<IPython.core.display.HTML object>"
            ]
          },
          "metadata": {},
          "output_type": "display_data"
        }
      ],
      "source": [
        "show_random_elements(results)"
      ]
    },
    {
      "cell_type": "markdown",
      "metadata": {
        "id": "5HFCujhd9n4N"
      },
      "source": [
        "It becomes clear that the predicted transcriptions are acoustically very similar to the target transcriptions, but often contain spelling or grammatical errors. This shouldn't be very surprising though given that we purely rely on Wav2Vec2 without making use of a language model."
      ]
    },
    {
      "cell_type": "markdown",
      "metadata": {
        "id": "a3ydKvUl9FTK"
      },
      "source": [
        "Finally, to better understand how CTC works, it is worth taking a deeper look at the exact output of the model. Let's run the first test sample through the model, take the predicted ids and convert them to their corresponding tokens."
      ]
    },
    {
      "cell_type": "code",
      "execution_count": null,
      "metadata": {
        "colab": {
          "base_uri": "https://localhost:8080/",
          "height": 73
        },
        "id": "AqaM45t87uM4",
        "outputId": "2d181121-2184-48dc-a337-bb33194fd68b"
      },
      "outputs": [
        {
          "data": {
            "application/vnd.google.colaboratory.intrinsic+json": {
              "type": "string"
            },
            "text/plain": [
              "'[PAD] [PAD] [PAD] [PAD] [PAD] t t h h e | | | b [PAD] [PAD] [PAD] u u n n g g [PAD] [PAD] l l l l [PAD] o o o | | w w a a s s | | [PAD] [PAD] [PAD] p l l [PAD] e s s s s [PAD] n n t t [PAD] l l l y y | | [PAD] s s s i i t t t [PAD] u u u u u [PAD] [PAD] [PAD] [PAD] a a t t [PAD] e e d d | | [PAD] n n e e a a r | | t t h e e | | s s h h [PAD] [PAD] [PAD] [PAD] o o r r r r | [PAD] [PAD] [PAD] [PAD] [PAD] [PAD] [PAD] [PAD] [PAD]'"
            ]
          },
          "execution_count": 98,
          "metadata": {},
          "output_type": "execute_result"
        }
      ],
      "source": [
        "model.to(\"cuda\")\n",
        "\n",
        "with torch.no_grad():\n",
        "  logits = model(torch.tensor(timit[\"test\"][:1][\"input_values\"], device=\"cuda\")).logits\n",
        "\n",
        "pred_ids = torch.argmax(logits, dim=-1)\n",
        "\n",
        "# convert ids to tokens\n",
        "\" \".join(processor.tokenizer.convert_ids_to_tokens(pred_ids[0].tolist()))"
      ]
    },
    {
      "cell_type": "markdown",
      "metadata": {
        "id": "tdO8E28g-n5C"
      },
      "source": [
        "The output should make it a bit clearer how CTC works in practice. The model is to some extent invariant to speaking rate since it has learned to either just repeat the same token in case the speech chunk to be classified still corresponds to the same token. This makes CTC a very powerful algorithm for speech recognition since the speech file's transcription is often very much independent of its length.\n",
        "\n",
        "I again advise the reader to take a look at [this](https://distill.pub/2017/ctc) very nice blog post to better understand CTC."
      ]
    }
  ],
  "metadata": {
    "accelerator": "TPU",
    "colab": {
      "collapsed_sections": [],
      "machine_shape": "hm",
      "name": "1. Fine-tuning Wav2Vec2 for English ASR",
      "provenance": [],
      "toc_visible": true,
      "include_colab_link": true
    },
    "kernelspec": {
      "display_name": "Python 3",
      "name": "python3"
    },
    "widgets": {
      "application/vnd.jupyter.widget-state+json": {
        "00a02ff8b284413f853da9d7c41afedd": {
          "model_module": "@jupyter-widgets/controls",
          "model_module_version": "1.5.0",
          "model_name": "HBoxModel",
          "state": {
            "_dom_classes": [],
            "_model_module": "@jupyter-widgets/controls",
            "_model_module_version": "1.5.0",
            "_model_name": "HBoxModel",
            "_view_count": null,
            "_view_module": "@jupyter-widgets/controls",
            "_view_module_version": "1.5.0",
            "_view_name": "HBoxView",
            "box_style": "",
            "children": [
              "IPY_MODEL_73b586087e9447e688c97318bf6eba11",
              "IPY_MODEL_6ba8f8fde3fc4050a304df11cc1d2c7c",
              "IPY_MODEL_0ceb294ca03a4bf2ae5586ffbbb6f0fc"
            ],
            "layout": "IPY_MODEL_ffa2bd3495f54f1c81f15ebf50fd4fee"
          }
        },
        "041870fd5bac43b394956252364a16c4": {
          "model_module": "@jupyter-widgets/controls",
          "model_module_version": "1.5.0",
          "model_name": "HTMLModel",
          "state": {
            "_dom_classes": [],
            "_model_module": "@jupyter-widgets/controls",
            "_model_module_version": "1.5.0",
            "_model_name": "HTMLModel",
            "_view_count": null,
            "_view_module": "@jupyter-widgets/controls",
            "_view_module_version": "1.5.0",
            "_view_name": "HTMLView",
            "description": "",
            "description_tooltip": null,
            "layout": "IPY_MODEL_940e030ce7ae40d68136ddf1a1a67736",
            "placeholder": "​",
            "style": "IPY_MODEL_c80bdd3bae794c08b81c950a33ff9ba0",
            "value": "Downloading: 100%"
          }
        },
        "045273b88fa04afba97bf7ba6027f164": {
          "model_module": "@jupyter-widgets/controls",
          "model_module_version": "1.5.0",
          "model_name": "FloatProgressModel",
          "state": {
            "_dom_classes": [],
            "_model_module": "@jupyter-widgets/controls",
            "_model_module_version": "1.5.0",
            "_model_name": "FloatProgressModel",
            "_view_count": null,
            "_view_module": "@jupyter-widgets/controls",
            "_view_module_version": "1.5.0",
            "_view_name": "ProgressView",
            "bar_style": "success",
            "description": "",
            "description_tooltip": null,
            "layout": "IPY_MODEL_708ff309676040119bccd6f21d1684f6",
            "max": 268,
            "min": 0,
            "orientation": "horizontal",
            "style": "IPY_MODEL_6a8694b9181f4828ba3ef4ff828fd1c3",
            "value": 268
          }
        },
        "050c9d6bfd1e4b6ebe67401183a8d397": {
          "model_module": "@jupyter-widgets/controls",
          "model_module_version": "1.5.0",
          "model_name": "HTMLModel",
          "state": {
            "_dom_classes": [],
            "_model_module": "@jupyter-widgets/controls",
            "_model_module_version": "1.5.0",
            "_model_name": "HTMLModel",
            "_view_count": null,
            "_view_module": "@jupyter-widgets/controls",
            "_view_module_version": "1.5.0",
            "_view_name": "HTMLView",
            "description": "",
            "description_tooltip": null,
            "layout": "IPY_MODEL_89472d79793e4db9afa6845fb016c8ad",
            "placeholder": "​",
            "style": "IPY_MODEL_f5e79b8c3a634eae8a555f18b9dc9bd6",
            "value": " 1680/? [00:55&lt;00:00, 30.41ex/s]"
          }
        },
        "0cd65792216b4decaf24961bb33802d0": {
          "model_module": "@jupyter-widgets/controls",
          "model_module_version": "1.5.0",
          "model_name": "ProgressStyleModel",
          "state": {
            "_model_module": "@jupyter-widgets/controls",
            "_model_module_version": "1.5.0",
            "_model_name": "ProgressStyleModel",
            "_view_count": null,
            "_view_module": "@jupyter-widgets/base",
            "_view_module_version": "1.2.0",
            "_view_name": "StyleView",
            "bar_color": null,
            "description_width": ""
          }
        },
        "0ceb294ca03a4bf2ae5586ffbbb6f0fc": {
          "model_module": "@jupyter-widgets/controls",
          "model_module_version": "1.5.0",
          "model_name": "HTMLModel",
          "state": {
            "_dom_classes": [],
            "_model_module": "@jupyter-widgets/controls",
            "_model_module_version": "1.5.0",
            "_model_name": "HTMLModel",
            "_view_count": null,
            "_view_module": "@jupyter-widgets/controls",
            "_view_module_version": "1.5.0",
            "_view_name": "HTMLView",
            "description": "",
            "description_tooltip": null,
            "layout": "IPY_MODEL_968f456d45ab4f25aeaf57b0c0ddc190",
            "placeholder": "​",
            "style": "IPY_MODEL_92ae2ab85efc40fa89da650ccbe85e21",
            "value": " 4.71k/4.71k [05:26&lt;00:00, 13.9kB/s]"
          }
        },
        "116e45bbe2d640d18d6a47309692dc20": {
          "model_module": "@jupyter-widgets/controls",
          "model_module_version": "1.5.0",
          "model_name": "DescriptionStyleModel",
          "state": {
            "_model_module": "@jupyter-widgets/controls",
            "_model_module_version": "1.5.0",
            "_model_name": "DescriptionStyleModel",
            "_view_count": null,
            "_view_module": "@jupyter-widgets/base",
            "_view_module_version": "1.2.0",
            "_view_name": "StyleView",
            "description_width": ""
          }
        },
        "16561789e2b9417a80ddcb6ef9d8676a": {
          "model_module": "@jupyter-widgets/controls",
          "model_module_version": "1.5.0",
          "model_name": "FloatProgressModel",
          "state": {
            "_dom_classes": [],
            "_model_module": "@jupyter-widgets/controls",
            "_model_module_version": "1.5.0",
            "_model_name": "FloatProgressModel",
            "_view_count": null,
            "_view_module": "@jupyter-widgets/controls",
            "_view_module_version": "1.5.0",
            "_view_name": "ProgressView",
            "bar_style": "success",
            "description": "",
            "description_tooltip": null,
            "layout": "IPY_MODEL_4a03fb6d945f4102bc4f7192195d810d",
            "max": 1,
            "min": 0,
            "orientation": "horizontal",
            "style": "IPY_MODEL_8ab2466b187047fbbe4d8b72455b1108",
            "value": 1
          }
        },
        "17e3d063396848548af91c55c8f8e282": {
          "model_module": "@jupyter-widgets/base",
          "model_module_version": "1.2.0",
          "model_name": "LayoutModel",
          "state": {
            "_model_module": "@jupyter-widgets/base",
            "_model_module_version": "1.2.0",
            "_model_name": "LayoutModel",
            "_view_count": null,
            "_view_module": "@jupyter-widgets/base",
            "_view_module_version": "1.2.0",
            "_view_name": "LayoutView",
            "align_content": null,
            "align_items": null,
            "align_self": null,
            "border": null,
            "bottom": null,
            "display": null,
            "flex": null,
            "flex_flow": null,
            "grid_area": null,
            "grid_auto_columns": null,
            "grid_auto_flow": null,
            "grid_auto_rows": null,
            "grid_column": null,
            "grid_gap": null,
            "grid_row": null,
            "grid_template_areas": null,
            "grid_template_columns": null,
            "grid_template_rows": null,
            "height": null,
            "justify_content": null,
            "justify_items": null,
            "left": null,
            "margin": null,
            "max_height": null,
            "max_width": null,
            "min_height": null,
            "min_width": null,
            "object_fit": null,
            "object_position": null,
            "order": null,
            "overflow": null,
            "overflow_x": null,
            "overflow_y": null,
            "padding": null,
            "right": null,
            "top": null,
            "visibility": null,
            "width": null
          }
        },
        "196c66080f944a61a537a0ddd9905248": {
          "model_module": "@jupyter-widgets/base",
          "model_module_version": "1.2.0",
          "model_name": "LayoutModel",
          "state": {
            "_model_module": "@jupyter-widgets/base",
            "_model_module_version": "1.2.0",
            "_model_name": "LayoutModel",
            "_view_count": null,
            "_view_module": "@jupyter-widgets/base",
            "_view_module_version": "1.2.0",
            "_view_name": "LayoutView",
            "align_content": null,
            "align_items": null,
            "align_self": null,
            "border": null,
            "bottom": null,
            "display": null,
            "flex": null,
            "flex_flow": null,
            "grid_area": null,
            "grid_auto_columns": null,
            "grid_auto_flow": null,
            "grid_auto_rows": null,
            "grid_column": null,
            "grid_gap": null,
            "grid_row": null,
            "grid_template_areas": null,
            "grid_template_columns": null,
            "grid_template_rows": null,
            "height": null,
            "justify_content": null,
            "justify_items": null,
            "left": null,
            "margin": null,
            "max_height": null,
            "max_width": null,
            "min_height": null,
            "min_width": null,
            "object_fit": null,
            "object_position": null,
            "order": null,
            "overflow": null,
            "overflow_x": null,
            "overflow_y": null,
            "padding": null,
            "right": null,
            "top": null,
            "visibility": null,
            "width": null
          }
        },
        "200b5fada23d45ff947953003d052605": {
          "model_module": "@jupyter-widgets/controls",
          "model_module_version": "1.5.0",
          "model_name": "ProgressStyleModel",
          "state": {
            "_model_module": "@jupyter-widgets/controls",
            "_model_module_version": "1.5.0",
            "_model_name": "ProgressStyleModel",
            "_view_count": null,
            "_view_module": "@jupyter-widgets/base",
            "_view_module_version": "1.2.0",
            "_view_name": "StyleView",
            "bar_color": null,
            "description_width": ""
          }
        },
        "255c276a050446ed9df81f8eeb7c1178": {
          "model_module": "@jupyter-widgets/controls",
          "model_module_version": "1.5.0",
          "model_name": "DescriptionStyleModel",
          "state": {
            "_model_module": "@jupyter-widgets/controls",
            "_model_module_version": "1.5.0",
            "_model_name": "DescriptionStyleModel",
            "_view_count": null,
            "_view_module": "@jupyter-widgets/base",
            "_view_module_version": "1.2.0",
            "_view_name": "StyleView",
            "description_width": ""
          }
        },
        "26f6574d99724fb29159071dda6039b5": {
          "model_module": "@jupyter-widgets/controls",
          "model_module_version": "1.5.0",
          "model_name": "FloatProgressModel",
          "state": {
            "_dom_classes": [],
            "_model_module": "@jupyter-widgets/controls",
            "_model_module_version": "1.5.0",
            "_model_name": "FloatProgressModel",
            "_view_count": null,
            "_view_module": "@jupyter-widgets/controls",
            "_view_module_version": "1.5.0",
            "_view_name": "ProgressView",
            "bar_style": "success",
            "description": "",
            "description_tooltip": null,
            "layout": "IPY_MODEL_7b0c8bc5bb66433384aeb47bf99001ae",
            "max": 217,
            "min": 0,
            "orientation": "horizontal",
            "style": "IPY_MODEL_6b03d462bd0f4fbeab0df76bbb881621",
            "value": 217
          }
        },
        "28b1ff0d507e40fb84e4083537207de4": {
          "model_module": "@jupyter-widgets/base",
          "model_module_version": "1.2.0",
          "model_name": "LayoutModel",
          "state": {
            "_model_module": "@jupyter-widgets/base",
            "_model_module_version": "1.2.0",
            "_model_name": "LayoutModel",
            "_view_count": null,
            "_view_module": "@jupyter-widgets/base",
            "_view_module_version": "1.2.0",
            "_view_name": "LayoutView",
            "align_content": null,
            "align_items": null,
            "align_self": null,
            "border": null,
            "bottom": null,
            "display": null,
            "flex": null,
            "flex_flow": null,
            "grid_area": null,
            "grid_auto_columns": null,
            "grid_auto_flow": null,
            "grid_auto_rows": null,
            "grid_column": null,
            "grid_gap": null,
            "grid_row": null,
            "grid_template_areas": null,
            "grid_template_columns": null,
            "grid_template_rows": null,
            "height": null,
            "justify_content": null,
            "justify_items": null,
            "left": null,
            "margin": null,
            "max_height": null,
            "max_width": null,
            "min_height": null,
            "min_width": null,
            "object_fit": null,
            "object_position": null,
            "order": null,
            "overflow": null,
            "overflow_x": null,
            "overflow_y": null,
            "padding": null,
            "right": null,
            "top": null,
            "visibility": null,
            "width": null
          }
        },
        "2b48e3c58b284b32ae51a3c3afb13d85": {
          "model_module": "@jupyter-widgets/controls",
          "model_module_version": "1.5.0",
          "model_name": "FloatProgressModel",
          "state": {
            "_dom_classes": [],
            "_model_module": "@jupyter-widgets/controls",
            "_model_module_version": "1.5.0",
            "_model_name": "FloatProgressModel",
            "_view_count": null,
            "_view_module": "@jupyter-widgets/controls",
            "_view_module_version": "1.5.0",
            "_view_name": "ProgressView",
            "bar_style": "success",
            "description": "",
            "description_tooltip": null,
            "layout": "IPY_MODEL_6ba56300bd3240629256a72060f36fde",
            "max": 377671575,
            "min": 0,
            "orientation": "horizontal",
            "style": "IPY_MODEL_d8f4c2ce266a4a9284572af28ad9ad1c",
            "value": 377671575
          }
        },
        "3234edc4a75e4658acd19feef174e88f": {
          "model_module": "@jupyter-widgets/base",
          "model_module_version": "1.2.0",
          "model_name": "LayoutModel",
          "state": {
            "_model_module": "@jupyter-widgets/base",
            "_model_module_version": "1.2.0",
            "_model_name": "LayoutModel",
            "_view_count": null,
            "_view_module": "@jupyter-widgets/base",
            "_view_module_version": "1.2.0",
            "_view_name": "LayoutView",
            "align_content": null,
            "align_items": null,
            "align_self": null,
            "border": null,
            "bottom": null,
            "display": null,
            "flex": null,
            "flex_flow": null,
            "grid_area": null,
            "grid_auto_columns": null,
            "grid_auto_flow": null,
            "grid_auto_rows": null,
            "grid_column": null,
            "grid_gap": null,
            "grid_row": null,
            "grid_template_areas": null,
            "grid_template_columns": null,
            "grid_template_rows": null,
            "height": null,
            "justify_content": null,
            "justify_items": null,
            "left": null,
            "margin": null,
            "max_height": null,
            "max_width": null,
            "min_height": null,
            "min_width": null,
            "object_fit": null,
            "object_position": null,
            "order": null,
            "overflow": null,
            "overflow_x": null,
            "overflow_y": null,
            "padding": null,
            "right": null,
            "top": null,
            "visibility": null,
            "width": null
          }
        },
        "35a9027e670146f3a25db0d06035fd1b": {
          "model_module": "@jupyter-widgets/base",
          "model_module_version": "1.2.0",
          "model_name": "LayoutModel",
          "state": {
            "_model_module": "@jupyter-widgets/base",
            "_model_module_version": "1.2.0",
            "_model_name": "LayoutModel",
            "_view_count": null,
            "_view_module": "@jupyter-widgets/base",
            "_view_module_version": "1.2.0",
            "_view_name": "LayoutView",
            "align_content": null,
            "align_items": null,
            "align_self": null,
            "border": null,
            "bottom": null,
            "display": null,
            "flex": null,
            "flex_flow": null,
            "grid_area": null,
            "grid_auto_columns": null,
            "grid_auto_flow": null,
            "grid_auto_rows": null,
            "grid_column": null,
            "grid_gap": null,
            "grid_row": null,
            "grid_template_areas": null,
            "grid_template_columns": null,
            "grid_template_rows": null,
            "height": null,
            "justify_content": null,
            "justify_items": null,
            "left": null,
            "margin": null,
            "max_height": null,
            "max_width": null,
            "min_height": null,
            "min_width": null,
            "object_fit": null,
            "object_position": null,
            "order": null,
            "overflow": null,
            "overflow_x": null,
            "overflow_y": null,
            "padding": null,
            "right": null,
            "top": null,
            "visibility": null,
            "width": null
          }
        },
        "427b99cf8b964a59bbbf0b4d04504906": {
          "model_module": "@jupyter-widgets/base",
          "model_module_version": "1.2.0",
          "model_name": "LayoutModel",
          "state": {
            "_model_module": "@jupyter-widgets/base",
            "_model_module_version": "1.2.0",
            "_model_name": "LayoutModel",
            "_view_count": null,
            "_view_module": "@jupyter-widgets/base",
            "_view_module_version": "1.2.0",
            "_view_name": "LayoutView",
            "align_content": null,
            "align_items": null,
            "align_self": null,
            "border": null,
            "bottom": null,
            "display": null,
            "flex": null,
            "flex_flow": null,
            "grid_area": null,
            "grid_auto_columns": null,
            "grid_auto_flow": null,
            "grid_auto_rows": null,
            "grid_column": null,
            "grid_gap": null,
            "grid_row": null,
            "grid_template_areas": null,
            "grid_template_columns": null,
            "grid_template_rows": null,
            "height": null,
            "justify_content": null,
            "justify_items": null,
            "left": null,
            "margin": null,
            "max_height": null,
            "max_width": null,
            "min_height": null,
            "min_width": null,
            "object_fit": null,
            "object_position": null,
            "order": null,
            "overflow": null,
            "overflow_x": null,
            "overflow_y": null,
            "padding": null,
            "right": null,
            "top": null,
            "visibility": null,
            "width": null
          }
        },
        "4847949da7b64782895b4fca8b432ec8": {
          "model_module": "@jupyter-widgets/controls",
          "model_module_version": "1.5.0",
          "model_name": "HTMLModel",
          "state": {
            "_dom_classes": [],
            "_model_module": "@jupyter-widgets/controls",
            "_model_module_version": "1.5.0",
            "_model_name": "HTMLModel",
            "_view_count": null,
            "_view_module": "@jupyter-widgets/controls",
            "_view_module_version": "1.5.0",
            "_view_name": "HTMLView",
            "description": "",
            "description_tooltip": null,
            "layout": "IPY_MODEL_90dbfe5bab604315b329a6a8fcf131b1",
            "placeholder": "​",
            "style": "IPY_MODEL_b1a51bfb07774b7bac783d1c4d5a680c",
            "value": " 268/268 [00:00&lt;00:00, 11.2kB/s]"
          }
        },
        "4a03fb6d945f4102bc4f7192195d810d": {
          "model_module": "@jupyter-widgets/base",
          "model_module_version": "1.2.0",
          "model_name": "LayoutModel",
          "state": {
            "_model_module": "@jupyter-widgets/base",
            "_model_module_version": "1.2.0",
            "_model_name": "LayoutModel",
            "_view_count": null,
            "_view_module": "@jupyter-widgets/base",
            "_view_module_version": "1.2.0",
            "_view_name": "LayoutView",
            "align_content": null,
            "align_items": null,
            "align_self": null,
            "border": null,
            "bottom": null,
            "display": null,
            "flex": null,
            "flex_flow": null,
            "grid_area": null,
            "grid_auto_columns": null,
            "grid_auto_flow": null,
            "grid_auto_rows": null,
            "grid_column": null,
            "grid_gap": null,
            "grid_row": null,
            "grid_template_areas": null,
            "grid_template_columns": null,
            "grid_template_rows": null,
            "height": null,
            "justify_content": null,
            "justify_items": null,
            "left": null,
            "margin": null,
            "max_height": null,
            "max_width": null,
            "min_height": null,
            "min_width": null,
            "object_fit": null,
            "object_position": null,
            "order": null,
            "overflow": null,
            "overflow_x": null,
            "overflow_y": null,
            "padding": null,
            "right": null,
            "top": null,
            "visibility": null,
            "width": "20px"
          }
        },
        "4cc884973b734098a135619736b5f599": {
          "model_module": "@jupyter-widgets/base",
          "model_module_version": "1.2.0",
          "model_name": "LayoutModel",
          "state": {
            "_model_module": "@jupyter-widgets/base",
            "_model_module_version": "1.2.0",
            "_model_name": "LayoutModel",
            "_view_count": null,
            "_view_module": "@jupyter-widgets/base",
            "_view_module_version": "1.2.0",
            "_view_name": "LayoutView",
            "align_content": null,
            "align_items": null,
            "align_self": null,
            "border": null,
            "bottom": null,
            "display": null,
            "flex": null,
            "flex_flow": null,
            "grid_area": null,
            "grid_auto_columns": null,
            "grid_auto_flow": null,
            "grid_auto_rows": null,
            "grid_column": null,
            "grid_gap": null,
            "grid_row": null,
            "grid_template_areas": null,
            "grid_template_columns": null,
            "grid_template_rows": null,
            "height": null,
            "justify_content": null,
            "justify_items": null,
            "left": null,
            "margin": null,
            "max_height": null,
            "max_width": null,
            "min_height": null,
            "min_width": null,
            "object_fit": null,
            "object_position": null,
            "order": null,
            "overflow": null,
            "overflow_x": null,
            "overflow_y": null,
            "padding": null,
            "right": null,
            "top": null,
            "visibility": null,
            "width": null
          }
        },
        "4cdbe067372b4c32bc782f966aea7f42": {
          "model_module": "@jupyter-widgets/base",
          "model_module_version": "1.2.0",
          "model_name": "LayoutModel",
          "state": {
            "_model_module": "@jupyter-widgets/base",
            "_model_module_version": "1.2.0",
            "_model_name": "LayoutModel",
            "_view_count": null,
            "_view_module": "@jupyter-widgets/base",
            "_view_module_version": "1.2.0",
            "_view_name": "LayoutView",
            "align_content": null,
            "align_items": null,
            "align_self": null,
            "border": null,
            "bottom": null,
            "display": null,
            "flex": null,
            "flex_flow": null,
            "grid_area": null,
            "grid_auto_columns": null,
            "grid_auto_flow": null,
            "grid_auto_rows": null,
            "grid_column": null,
            "grid_gap": null,
            "grid_row": null,
            "grid_template_areas": null,
            "grid_template_columns": null,
            "grid_template_rows": null,
            "height": null,
            "justify_content": null,
            "justify_items": null,
            "left": null,
            "margin": null,
            "max_height": null,
            "max_width": null,
            "min_height": null,
            "min_width": null,
            "object_fit": null,
            "object_position": null,
            "order": null,
            "overflow": null,
            "overflow_x": null,
            "overflow_y": null,
            "padding": null,
            "right": null,
            "top": null,
            "visibility": null,
            "width": null
          }
        },
        "4f70c2c356074adf9aa7c1fb6b20f8e3": {
          "model_module": "@jupyter-widgets/controls",
          "model_module_version": "1.5.0",
          "model_name": "DescriptionStyleModel",
          "state": {
            "_model_module": "@jupyter-widgets/controls",
            "_model_module_version": "1.5.0",
            "_model_name": "DescriptionStyleModel",
            "_view_count": null,
            "_view_module": "@jupyter-widgets/base",
            "_view_module_version": "1.2.0",
            "_view_name": "StyleView",
            "description_width": ""
          }
        },
        "524b5795780746f5966c06b878cc0fbc": {
          "model_module": "@jupyter-widgets/controls",
          "model_module_version": "1.5.0",
          "model_name": "HBoxModel",
          "state": {
            "_dom_classes": [],
            "_model_module": "@jupyter-widgets/controls",
            "_model_module_version": "1.5.0",
            "_model_name": "HBoxModel",
            "_view_count": null,
            "_view_module": "@jupyter-widgets/controls",
            "_view_module_version": "1.5.0",
            "_view_name": "HBoxView",
            "box_style": "",
            "children": [
              "IPY_MODEL_8eb41fee8e1c452a9d69a07a266d871a",
              "IPY_MODEL_f22febfc3bbe48058be84b2a20e906f5",
              "IPY_MODEL_ab51fefefa1b464a9a780b80c6f0c020"
            ],
            "layout": "IPY_MODEL_88fd1cb973f8485b97caa19b7801c3d3"
          }
        },
        "527bf8b3612b4da89479424c5b66681e": {
          "model_module": "@jupyter-widgets/controls",
          "model_module_version": "1.5.0",
          "model_name": "DescriptionStyleModel",
          "state": {
            "_model_module": "@jupyter-widgets/controls",
            "_model_module_version": "1.5.0",
            "_model_name": "DescriptionStyleModel",
            "_view_count": null,
            "_view_module": "@jupyter-widgets/base",
            "_view_module_version": "1.2.0",
            "_view_name": "StyleView",
            "description_width": ""
          }
        },
        "55d0bfd5c746402f89e6b86a7ca37b3a": {
          "model_module": "@jupyter-widgets/controls",
          "model_module_version": "1.5.0",
          "model_name": "HTMLModel",
          "state": {
            "_dom_classes": [],
            "_model_module": "@jupyter-widgets/controls",
            "_model_module_version": "1.5.0",
            "_model_name": "HTMLModel",
            "_view_count": null,
            "_view_module": "@jupyter-widgets/controls",
            "_view_module_version": "1.5.0",
            "_view_name": "HTMLView",
            "description": "",
            "description_tooltip": null,
            "layout": "IPY_MODEL_be78bdab8638431e80c087a0fe9a7a8f",
            "placeholder": "​",
            "style": "IPY_MODEL_d44a1f0b3216469fb1ac597951f9471a",
            "value": " 217/217 [00:00&lt;00:00, 8.74kB/s]"
          }
        },
        "5874591082f944ff9b32202a1edbfd60": {
          "model_module": "@jupyter-widgets/base",
          "model_module_version": "1.2.0",
          "model_name": "LayoutModel",
          "state": {
            "_model_module": "@jupyter-widgets/base",
            "_model_module_version": "1.2.0",
            "_model_name": "LayoutModel",
            "_view_count": null,
            "_view_module": "@jupyter-widgets/base",
            "_view_module_version": "1.2.0",
            "_view_name": "LayoutView",
            "align_content": null,
            "align_items": null,
            "align_self": null,
            "border": null,
            "bottom": null,
            "display": null,
            "flex": null,
            "flex_flow": null,
            "grid_area": null,
            "grid_auto_columns": null,
            "grid_auto_flow": null,
            "grid_auto_rows": null,
            "grid_column": null,
            "grid_gap": null,
            "grid_row": null,
            "grid_template_areas": null,
            "grid_template_columns": null,
            "grid_template_rows": null,
            "height": null,
            "justify_content": null,
            "justify_items": null,
            "left": null,
            "margin": null,
            "max_height": null,
            "max_width": null,
            "min_height": null,
            "min_width": null,
            "object_fit": null,
            "object_position": null,
            "order": null,
            "overflow": null,
            "overflow_x": null,
            "overflow_y": null,
            "padding": null,
            "right": null,
            "top": null,
            "visibility": null,
            "width": null
          }
        },
        "5c49d625a7f742f1a64820bc6f749f3a": {
          "model_module": "@jupyter-widgets/controls",
          "model_module_version": "1.5.0",
          "model_name": "HTMLModel",
          "state": {
            "_dom_classes": [],
            "_model_module": "@jupyter-widgets/controls",
            "_model_module_version": "1.5.0",
            "_model_name": "HTMLModel",
            "_view_count": null,
            "_view_module": "@jupyter-widgets/controls",
            "_view_module_version": "1.5.0",
            "_view_name": "HTMLView",
            "description": "",
            "description_tooltip": null,
            "layout": "IPY_MODEL_17e3d063396848548af91c55c8f8e282",
            "placeholder": "​",
            "style": "IPY_MODEL_a3b48bc669674ff2a0bcce75a50e81eb",
            "value": " 85.0/85.0 [00:00&lt;00:00, 3.59kB/s]"
          }
        },
        "5cb2c62e3d6f426f8c17eec2fe6e23ae": {
          "model_module": "@jupyter-widgets/base",
          "model_module_version": "1.2.0",
          "model_name": "LayoutModel",
          "state": {
            "_model_module": "@jupyter-widgets/base",
            "_model_module_version": "1.2.0",
            "_model_name": "LayoutModel",
            "_view_count": null,
            "_view_module": "@jupyter-widgets/base",
            "_view_module_version": "1.2.0",
            "_view_name": "LayoutView",
            "align_content": null,
            "align_items": null,
            "align_self": null,
            "border": null,
            "bottom": null,
            "display": null,
            "flex": null,
            "flex_flow": null,
            "grid_area": null,
            "grid_auto_columns": null,
            "grid_auto_flow": null,
            "grid_auto_rows": null,
            "grid_column": null,
            "grid_gap": null,
            "grid_row": null,
            "grid_template_areas": null,
            "grid_template_columns": null,
            "grid_template_rows": null,
            "height": null,
            "justify_content": null,
            "justify_items": null,
            "left": null,
            "margin": null,
            "max_height": null,
            "max_width": null,
            "min_height": null,
            "min_width": null,
            "object_fit": null,
            "object_position": null,
            "order": null,
            "overflow": null,
            "overflow_x": null,
            "overflow_y": null,
            "padding": null,
            "right": null,
            "top": null,
            "visibility": null,
            "width": null
          }
        },
        "63e9fc689ea54fbfa7226cc9918977cb": {
          "model_module": "@jupyter-widgets/base",
          "model_module_version": "1.2.0",
          "model_name": "LayoutModel",
          "state": {
            "_model_module": "@jupyter-widgets/base",
            "_model_module_version": "1.2.0",
            "_model_name": "LayoutModel",
            "_view_count": null,
            "_view_module": "@jupyter-widgets/base",
            "_view_module_version": "1.2.0",
            "_view_name": "LayoutView",
            "align_content": null,
            "align_items": null,
            "align_self": null,
            "border": null,
            "bottom": null,
            "display": null,
            "flex": null,
            "flex_flow": null,
            "grid_area": null,
            "grid_auto_columns": null,
            "grid_auto_flow": null,
            "grid_auto_rows": null,
            "grid_column": null,
            "grid_gap": null,
            "grid_row": null,
            "grid_template_areas": null,
            "grid_template_columns": null,
            "grid_template_rows": null,
            "height": null,
            "justify_content": null,
            "justify_items": null,
            "left": null,
            "margin": null,
            "max_height": null,
            "max_width": null,
            "min_height": null,
            "min_width": null,
            "object_fit": null,
            "object_position": null,
            "order": null,
            "overflow": null,
            "overflow_x": null,
            "overflow_y": null,
            "padding": null,
            "right": null,
            "top": null,
            "visibility": null,
            "width": null
          }
        },
        "63ee5e2413434249bd47a8d662ec0da6": {
          "model_module": "@jupyter-widgets/controls",
          "model_module_version": "1.5.0",
          "model_name": "HBoxModel",
          "state": {
            "_dom_classes": [],
            "_model_module": "@jupyter-widgets/controls",
            "_model_module_version": "1.5.0",
            "_model_name": "HBoxModel",
            "_view_count": null,
            "_view_module": "@jupyter-widgets/controls",
            "_view_module_version": "1.5.0",
            "_view_name": "HBoxView",
            "box_style": "",
            "children": [
              "IPY_MODEL_d10215d60b9f471ab681a948ad143159",
              "IPY_MODEL_bcb33e49c5ab412eb5b8cd823cf06706",
              "IPY_MODEL_f23b78d30ff040f481b5584a83083b39"
            ],
            "layout": "IPY_MODEL_fe39df4b5e9d41f6a0233bafb4522dd4"
          }
        },
        "6412d390b2ce416fae910d689c3f6e70": {
          "model_module": "@jupyter-widgets/base",
          "model_module_version": "1.2.0",
          "model_name": "LayoutModel",
          "state": {
            "_model_module": "@jupyter-widgets/base",
            "_model_module_version": "1.2.0",
            "_model_name": "LayoutModel",
            "_view_count": null,
            "_view_module": "@jupyter-widgets/base",
            "_view_module_version": "1.2.0",
            "_view_name": "LayoutView",
            "align_content": null,
            "align_items": null,
            "align_self": null,
            "border": null,
            "bottom": null,
            "display": null,
            "flex": null,
            "flex_flow": null,
            "grid_area": null,
            "grid_auto_columns": null,
            "grid_auto_flow": null,
            "grid_auto_rows": null,
            "grid_column": null,
            "grid_gap": null,
            "grid_row": null,
            "grid_template_areas": null,
            "grid_template_columns": null,
            "grid_template_rows": null,
            "height": null,
            "justify_content": null,
            "justify_items": null,
            "left": null,
            "margin": null,
            "max_height": null,
            "max_width": null,
            "min_height": null,
            "min_width": null,
            "object_fit": null,
            "object_position": null,
            "order": null,
            "overflow": null,
            "overflow_x": null,
            "overflow_y": null,
            "padding": null,
            "right": null,
            "top": null,
            "visibility": null,
            "width": null
          }
        },
        "66d5a397b26e4d66a97bc3b3159e96bd": {
          "model_module": "@jupyter-widgets/controls",
          "model_module_version": "1.5.0",
          "model_name": "HBoxModel",
          "state": {
            "_dom_classes": [],
            "_model_module": "@jupyter-widgets/controls",
            "_model_module_version": "1.5.0",
            "_model_name": "HBoxModel",
            "_view_count": null,
            "_view_module": "@jupyter-widgets/controls",
            "_view_module_version": "1.5.0",
            "_view_name": "HBoxView",
            "box_style": "",
            "children": [
              "IPY_MODEL_041870fd5bac43b394956252364a16c4",
              "IPY_MODEL_26f6574d99724fb29159071dda6039b5",
              "IPY_MODEL_55d0bfd5c746402f89e6b86a7ca37b3a"
            ],
            "layout": "IPY_MODEL_b69bad861f014c20b4cb470c73b1fe37"
          }
        },
        "6a8694b9181f4828ba3ef4ff828fd1c3": {
          "model_module": "@jupyter-widgets/controls",
          "model_module_version": "1.5.0",
          "model_name": "ProgressStyleModel",
          "state": {
            "_model_module": "@jupyter-widgets/controls",
            "_model_module_version": "1.5.0",
            "_model_name": "ProgressStyleModel",
            "_view_count": null,
            "_view_module": "@jupyter-widgets/base",
            "_view_module_version": "1.2.0",
            "_view_name": "StyleView",
            "bar_color": null,
            "description_width": ""
          }
        },
        "6b03d462bd0f4fbeab0df76bbb881621": {
          "model_module": "@jupyter-widgets/controls",
          "model_module_version": "1.5.0",
          "model_name": "ProgressStyleModel",
          "state": {
            "_model_module": "@jupyter-widgets/controls",
            "_model_module_version": "1.5.0",
            "_model_name": "ProgressStyleModel",
            "_view_count": null,
            "_view_module": "@jupyter-widgets/base",
            "_view_module_version": "1.2.0",
            "_view_name": "StyleView",
            "bar_color": null,
            "description_width": ""
          }
        },
        "6b3288ffeef34c2a925d2554c7c4f521": {
          "model_module": "@jupyter-widgets/base",
          "model_module_version": "1.2.0",
          "model_name": "LayoutModel",
          "state": {
            "_model_module": "@jupyter-widgets/base",
            "_model_module_version": "1.2.0",
            "_model_name": "LayoutModel",
            "_view_count": null,
            "_view_module": "@jupyter-widgets/base",
            "_view_module_version": "1.2.0",
            "_view_name": "LayoutView",
            "align_content": null,
            "align_items": null,
            "align_self": null,
            "border": null,
            "bottom": null,
            "display": null,
            "flex": null,
            "flex_flow": null,
            "grid_area": null,
            "grid_auto_columns": null,
            "grid_auto_flow": null,
            "grid_auto_rows": null,
            "grid_column": null,
            "grid_gap": null,
            "grid_row": null,
            "grid_template_areas": null,
            "grid_template_columns": null,
            "grid_template_rows": null,
            "height": null,
            "justify_content": null,
            "justify_items": null,
            "left": null,
            "margin": null,
            "max_height": null,
            "max_width": null,
            "min_height": null,
            "min_width": null,
            "object_fit": null,
            "object_position": null,
            "order": null,
            "overflow": null,
            "overflow_x": null,
            "overflow_y": null,
            "padding": null,
            "right": null,
            "top": null,
            "visibility": null,
            "width": null
          }
        },
        "6ba56300bd3240629256a72060f36fde": {
          "model_module": "@jupyter-widgets/base",
          "model_module_version": "1.2.0",
          "model_name": "LayoutModel",
          "state": {
            "_model_module": "@jupyter-widgets/base",
            "_model_module_version": "1.2.0",
            "_model_name": "LayoutModel",
            "_view_count": null,
            "_view_module": "@jupyter-widgets/base",
            "_view_module_version": "1.2.0",
            "_view_name": "LayoutView",
            "align_content": null,
            "align_items": null,
            "align_self": null,
            "border": null,
            "bottom": null,
            "display": null,
            "flex": null,
            "flex_flow": null,
            "grid_area": null,
            "grid_auto_columns": null,
            "grid_auto_flow": null,
            "grid_auto_rows": null,
            "grid_column": null,
            "grid_gap": null,
            "grid_row": null,
            "grid_template_areas": null,
            "grid_template_columns": null,
            "grid_template_rows": null,
            "height": null,
            "justify_content": null,
            "justify_items": null,
            "left": null,
            "margin": null,
            "max_height": null,
            "max_width": null,
            "min_height": null,
            "min_width": null,
            "object_fit": null,
            "object_position": null,
            "order": null,
            "overflow": null,
            "overflow_x": null,
            "overflow_y": null,
            "padding": null,
            "right": null,
            "top": null,
            "visibility": null,
            "width": null
          }
        },
        "6ba8f8fde3fc4050a304df11cc1d2c7c": {
          "model_module": "@jupyter-widgets/controls",
          "model_module_version": "1.5.0",
          "model_name": "FloatProgressModel",
          "state": {
            "_dom_classes": [],
            "_model_module": "@jupyter-widgets/controls",
            "_model_module_version": "1.5.0",
            "_model_name": "FloatProgressModel",
            "_view_count": null,
            "_view_module": "@jupyter-widgets/controls",
            "_view_module_version": "1.5.0",
            "_view_name": "ProgressView",
            "bar_style": "success",
            "description": "",
            "description_tooltip": null,
            "layout": "IPY_MODEL_35a9027e670146f3a25db0d06035fd1b",
            "max": 4825,
            "min": 0,
            "orientation": "horizontal",
            "style": "IPY_MODEL_0cd65792216b4decaf24961bb33802d0",
            "value": 4825
          }
        },
        "6bfe6219ad934146a4d680e38ed19879": {
          "model_module": "@jupyter-widgets/controls",
          "model_module_version": "1.5.0",
          "model_name": "DescriptionStyleModel",
          "state": {
            "_model_module": "@jupyter-widgets/controls",
            "_model_module_version": "1.5.0",
            "_model_name": "DescriptionStyleModel",
            "_view_count": null,
            "_view_module": "@jupyter-widgets/base",
            "_view_module_version": "1.2.0",
            "_view_name": "StyleView",
            "description_width": ""
          }
        },
        "6ca0c9b3d250425b9597de9baa6bd77b": {
          "model_module": "@jupyter-widgets/controls",
          "model_module_version": "1.5.0",
          "model_name": "HBoxModel",
          "state": {
            "_dom_classes": [],
            "_model_module": "@jupyter-widgets/controls",
            "_model_module_version": "1.5.0",
            "_model_name": "HBoxModel",
            "_view_count": null,
            "_view_module": "@jupyter-widgets/controls",
            "_view_module_version": "1.5.0",
            "_view_name": "HBoxView",
            "box_style": "",
            "children": [
              "IPY_MODEL_b7d46c7f5da646eba0ed9e38fed6b4ee",
              "IPY_MODEL_7291673613bb43848bec1abee7447078",
              "IPY_MODEL_5c49d625a7f742f1a64820bc6f749f3a"
            ],
            "layout": "IPY_MODEL_a6a5bcb980df41d1b3e7b581701eae16"
          }
        },
        "6cac8e9fcefd4353a76244f89ff459e1": {
          "model_module": "@jupyter-widgets/base",
          "model_module_version": "1.2.0",
          "model_name": "LayoutModel",
          "state": {
            "_model_module": "@jupyter-widgets/base",
            "_model_module_version": "1.2.0",
            "_model_name": "LayoutModel",
            "_view_count": null,
            "_view_module": "@jupyter-widgets/base",
            "_view_module_version": "1.2.0",
            "_view_name": "LayoutView",
            "align_content": null,
            "align_items": null,
            "align_self": null,
            "border": null,
            "bottom": null,
            "display": null,
            "flex": null,
            "flex_flow": null,
            "grid_area": null,
            "grid_auto_columns": null,
            "grid_auto_flow": null,
            "grid_auto_rows": null,
            "grid_column": null,
            "grid_gap": null,
            "grid_row": null,
            "grid_template_areas": null,
            "grid_template_columns": null,
            "grid_template_rows": null,
            "height": null,
            "justify_content": null,
            "justify_items": null,
            "left": null,
            "margin": null,
            "max_height": null,
            "max_width": null,
            "min_height": null,
            "min_width": null,
            "object_fit": null,
            "object_position": null,
            "order": null,
            "overflow": null,
            "overflow_x": null,
            "overflow_y": null,
            "padding": null,
            "right": null,
            "top": null,
            "visibility": null,
            "width": null
          }
        },
        "708ff309676040119bccd6f21d1684f6": {
          "model_module": "@jupyter-widgets/base",
          "model_module_version": "1.2.0",
          "model_name": "LayoutModel",
          "state": {
            "_model_module": "@jupyter-widgets/base",
            "_model_module_version": "1.2.0",
            "_model_name": "LayoutModel",
            "_view_count": null,
            "_view_module": "@jupyter-widgets/base",
            "_view_module_version": "1.2.0",
            "_view_name": "LayoutView",
            "align_content": null,
            "align_items": null,
            "align_self": null,
            "border": null,
            "bottom": null,
            "display": null,
            "flex": null,
            "flex_flow": null,
            "grid_area": null,
            "grid_auto_columns": null,
            "grid_auto_flow": null,
            "grid_auto_rows": null,
            "grid_column": null,
            "grid_gap": null,
            "grid_row": null,
            "grid_template_areas": null,
            "grid_template_columns": null,
            "grid_template_rows": null,
            "height": null,
            "justify_content": null,
            "justify_items": null,
            "left": null,
            "margin": null,
            "max_height": null,
            "max_width": null,
            "min_height": null,
            "min_width": null,
            "object_fit": null,
            "object_position": null,
            "order": null,
            "overflow": null,
            "overflow_x": null,
            "overflow_y": null,
            "padding": null,
            "right": null,
            "top": null,
            "visibility": null,
            "width": null
          }
        },
        "7291673613bb43848bec1abee7447078": {
          "model_module": "@jupyter-widgets/controls",
          "model_module_version": "1.5.0",
          "model_name": "FloatProgressModel",
          "state": {
            "_dom_classes": [],
            "_model_module": "@jupyter-widgets/controls",
            "_model_module_version": "1.5.0",
            "_model_name": "FloatProgressModel",
            "_view_count": null,
            "_view_module": "@jupyter-widgets/controls",
            "_view_module_version": "1.5.0",
            "_view_name": "ProgressView",
            "bar_style": "success",
            "description": "",
            "description_tooltip": null,
            "layout": "IPY_MODEL_ddd975596c234b0eacc40ef18ef40778",
            "max": 85,
            "min": 0,
            "orientation": "horizontal",
            "style": "IPY_MODEL_a5fd824b8eb64bb7b8d83354961927e6",
            "value": 85
          }
        },
        "73b586087e9447e688c97318bf6eba11": {
          "model_module": "@jupyter-widgets/controls",
          "model_module_version": "1.5.0",
          "model_name": "HTMLModel",
          "state": {
            "_dom_classes": [],
            "_model_module": "@jupyter-widgets/controls",
            "_model_module_version": "1.5.0",
            "_model_name": "HTMLModel",
            "_view_count": null,
            "_view_module": "@jupyter-widgets/controls",
            "_view_module_version": "1.5.0",
            "_view_name": "HTMLView",
            "description": "",
            "description_tooltip": null,
            "layout": "IPY_MODEL_e53ec4e8ee3d44bb8b3bdcf323335c8a",
            "placeholder": "​",
            "style": "IPY_MODEL_ceef78fab0024c578976ad6c589c0d7f",
            "value": "Upload file runs/May10_11-02-51_d58de38fbf77/1652180636.6085317/events.out.tfevents.1652180636.d58de38fbf77.96.3: 100%"
          }
        },
        "7748d6bd4e224b3f836a06b321e72de0": {
          "model_module": "@jupyter-widgets/controls",
          "model_module_version": "1.5.0",
          "model_name": "HTMLModel",
          "state": {
            "_dom_classes": [],
            "_model_module": "@jupyter-widgets/controls",
            "_model_module_version": "1.5.0",
            "_model_name": "HTMLModel",
            "_view_count": null,
            "_view_module": "@jupyter-widgets/controls",
            "_view_module_version": "1.5.0",
            "_view_name": "HTMLView",
            "description": "",
            "description_tooltip": null,
            "layout": "IPY_MODEL_4cdbe067372b4c32bc782f966aea7f42",
            "placeholder": "​",
            "style": "IPY_MODEL_afe17562ac7948edab0233eb3804d9cb",
            "value": " 360M/360M [05:26&lt;00:00, 735kB/s]"
          }
        },
        "7b0c8bc5bb66433384aeb47bf99001ae": {
          "model_module": "@jupyter-widgets/base",
          "model_module_version": "1.2.0",
          "model_name": "LayoutModel",
          "state": {
            "_model_module": "@jupyter-widgets/base",
            "_model_module_version": "1.2.0",
            "_model_name": "LayoutModel",
            "_view_count": null,
            "_view_module": "@jupyter-widgets/base",
            "_view_module_version": "1.2.0",
            "_view_name": "LayoutView",
            "align_content": null,
            "align_items": null,
            "align_self": null,
            "border": null,
            "bottom": null,
            "display": null,
            "flex": null,
            "flex_flow": null,
            "grid_area": null,
            "grid_auto_columns": null,
            "grid_auto_flow": null,
            "grid_auto_rows": null,
            "grid_column": null,
            "grid_gap": null,
            "grid_row": null,
            "grid_template_areas": null,
            "grid_template_columns": null,
            "grid_template_rows": null,
            "height": null,
            "justify_content": null,
            "justify_items": null,
            "left": null,
            "margin": null,
            "max_height": null,
            "max_width": null,
            "min_height": null,
            "min_width": null,
            "object_fit": null,
            "object_position": null,
            "order": null,
            "overflow": null,
            "overflow_x": null,
            "overflow_y": null,
            "padding": null,
            "right": null,
            "top": null,
            "visibility": null,
            "width": null
          }
        },
        "820ac3ce474346728b80a609d47848ee": {
          "model_module": "@jupyter-widgets/controls",
          "model_module_version": "1.5.0",
          "model_name": "HTMLModel",
          "state": {
            "_dom_classes": [],
            "_model_module": "@jupyter-widgets/controls",
            "_model_module_version": "1.5.0",
            "_model_name": "HTMLModel",
            "_view_count": null,
            "_view_module": "@jupyter-widgets/controls",
            "_view_module_version": "1.5.0",
            "_view_name": "HTMLView",
            "description": "",
            "description_tooltip": null,
            "layout": "IPY_MODEL_f652ea3e007c42669e445a7247bb0430",
            "placeholder": "​",
            "style": "IPY_MODEL_527bf8b3612b4da89479424c5b66681e",
            "value": "Downloading: 100%"
          }
        },
        "857f0c099d8549e98991a93c791db4c1": {
          "model_module": "@jupyter-widgets/controls",
          "model_module_version": "1.5.0",
          "model_name": "HTMLModel",
          "state": {
            "_dom_classes": [],
            "_model_module": "@jupyter-widgets/controls",
            "_model_module_version": "1.5.0",
            "_model_name": "HTMLModel",
            "_view_count": null,
            "_view_module": "@jupyter-widgets/controls",
            "_view_module_version": "1.5.0",
            "_view_name": "HTMLView",
            "description": "",
            "description_tooltip": null,
            "layout": "IPY_MODEL_8c968b160d3d4fbb998840734f9f07e4",
            "placeholder": "​",
            "style": "IPY_MODEL_d2fd7c9e56b1419f9d23a10c260a7c7d",
            "value": ""
          }
        },
        "88fd1cb973f8485b97caa19b7801c3d3": {
          "model_module": "@jupyter-widgets/base",
          "model_module_version": "1.2.0",
          "model_name": "LayoutModel",
          "state": {
            "_model_module": "@jupyter-widgets/base",
            "_model_module_version": "1.2.0",
            "_model_name": "LayoutModel",
            "_view_count": null,
            "_view_module": "@jupyter-widgets/base",
            "_view_module_version": "1.2.0",
            "_view_name": "LayoutView",
            "align_content": null,
            "align_items": null,
            "align_self": null,
            "border": null,
            "bottom": null,
            "display": null,
            "flex": null,
            "flex_flow": null,
            "grid_area": null,
            "grid_auto_columns": null,
            "grid_auto_flow": null,
            "grid_auto_rows": null,
            "grid_column": null,
            "grid_gap": null,
            "grid_row": null,
            "grid_template_areas": null,
            "grid_template_columns": null,
            "grid_template_rows": null,
            "height": null,
            "justify_content": null,
            "justify_items": null,
            "left": null,
            "margin": null,
            "max_height": null,
            "max_width": null,
            "min_height": null,
            "min_width": null,
            "object_fit": null,
            "object_position": null,
            "order": null,
            "overflow": null,
            "overflow_x": null,
            "overflow_y": null,
            "padding": null,
            "right": null,
            "top": null,
            "visibility": null,
            "width": null
          }
        },
        "89472d79793e4db9afa6845fb016c8ad": {
          "model_module": "@jupyter-widgets/base",
          "model_module_version": "1.2.0",
          "model_name": "LayoutModel",
          "state": {
            "_model_module": "@jupyter-widgets/base",
            "_model_module_version": "1.2.0",
            "_model_name": "LayoutModel",
            "_view_count": null,
            "_view_module": "@jupyter-widgets/base",
            "_view_module_version": "1.2.0",
            "_view_name": "LayoutView",
            "align_content": null,
            "align_items": null,
            "align_self": null,
            "border": null,
            "bottom": null,
            "display": null,
            "flex": null,
            "flex_flow": null,
            "grid_area": null,
            "grid_auto_columns": null,
            "grid_auto_flow": null,
            "grid_auto_rows": null,
            "grid_column": null,
            "grid_gap": null,
            "grid_row": null,
            "grid_template_areas": null,
            "grid_template_columns": null,
            "grid_template_rows": null,
            "height": null,
            "justify_content": null,
            "justify_items": null,
            "left": null,
            "margin": null,
            "max_height": null,
            "max_width": null,
            "min_height": null,
            "min_width": null,
            "object_fit": null,
            "object_position": null,
            "order": null,
            "overflow": null,
            "overflow_x": null,
            "overflow_y": null,
            "padding": null,
            "right": null,
            "top": null,
            "visibility": null,
            "width": null
          }
        },
        "8ab2466b187047fbbe4d8b72455b1108": {
          "model_module": "@jupyter-widgets/controls",
          "model_module_version": "1.5.0",
          "model_name": "ProgressStyleModel",
          "state": {
            "_model_module": "@jupyter-widgets/controls",
            "_model_module_version": "1.5.0",
            "_model_name": "ProgressStyleModel",
            "_view_count": null,
            "_view_module": "@jupyter-widgets/base",
            "_view_module_version": "1.2.0",
            "_view_name": "StyleView",
            "bar_color": null,
            "description_width": ""
          }
        },
        "8c89f99cd7b9408eafbfbf8e0c56d39c": {
          "model_module": "@jupyter-widgets/base",
          "model_module_version": "1.2.0",
          "model_name": "LayoutModel",
          "state": {
            "_model_module": "@jupyter-widgets/base",
            "_model_module_version": "1.2.0",
            "_model_name": "LayoutModel",
            "_view_count": null,
            "_view_module": "@jupyter-widgets/base",
            "_view_module_version": "1.2.0",
            "_view_name": "LayoutView",
            "align_content": null,
            "align_items": null,
            "align_self": null,
            "border": null,
            "bottom": null,
            "display": null,
            "flex": null,
            "flex_flow": null,
            "grid_area": null,
            "grid_auto_columns": null,
            "grid_auto_flow": null,
            "grid_auto_rows": null,
            "grid_column": null,
            "grid_gap": null,
            "grid_row": null,
            "grid_template_areas": null,
            "grid_template_columns": null,
            "grid_template_rows": null,
            "height": null,
            "justify_content": null,
            "justify_items": null,
            "left": null,
            "margin": null,
            "max_height": null,
            "max_width": null,
            "min_height": null,
            "min_width": null,
            "object_fit": null,
            "object_position": null,
            "order": null,
            "overflow": null,
            "overflow_x": null,
            "overflow_y": null,
            "padding": null,
            "right": null,
            "top": null,
            "visibility": null,
            "width": null
          }
        },
        "8c968b160d3d4fbb998840734f9f07e4": {
          "model_module": "@jupyter-widgets/base",
          "model_module_version": "1.2.0",
          "model_name": "LayoutModel",
          "state": {
            "_model_module": "@jupyter-widgets/base",
            "_model_module_version": "1.2.0",
            "_model_name": "LayoutModel",
            "_view_count": null,
            "_view_module": "@jupyter-widgets/base",
            "_view_module_version": "1.2.0",
            "_view_name": "LayoutView",
            "align_content": null,
            "align_items": null,
            "align_self": null,
            "border": null,
            "bottom": null,
            "display": null,
            "flex": null,
            "flex_flow": null,
            "grid_area": null,
            "grid_auto_columns": null,
            "grid_auto_flow": null,
            "grid_auto_rows": null,
            "grid_column": null,
            "grid_gap": null,
            "grid_row": null,
            "grid_template_areas": null,
            "grid_template_columns": null,
            "grid_template_rows": null,
            "height": null,
            "justify_content": null,
            "justify_items": null,
            "left": null,
            "margin": null,
            "max_height": null,
            "max_width": null,
            "min_height": null,
            "min_width": null,
            "object_fit": null,
            "object_position": null,
            "order": null,
            "overflow": null,
            "overflow_x": null,
            "overflow_y": null,
            "padding": null,
            "right": null,
            "top": null,
            "visibility": null,
            "width": null
          }
        },
        "8eb41fee8e1c452a9d69a07a266d871a": {
          "model_module": "@jupyter-widgets/controls",
          "model_module_version": "1.5.0",
          "model_name": "HTMLModel",
          "state": {
            "_dom_classes": [],
            "_model_module": "@jupyter-widgets/controls",
            "_model_module_version": "1.5.0",
            "_model_name": "HTMLModel",
            "_view_count": null,
            "_view_module": "@jupyter-widgets/controls",
            "_view_module_version": "1.5.0",
            "_view_name": "HTMLView",
            "description": "",
            "description_tooltip": null,
            "layout": "IPY_MODEL_3234edc4a75e4658acd19feef174e88f",
            "placeholder": "​",
            "style": "IPY_MODEL_6bfe6219ad934146a4d680e38ed19879",
            "value": "Downloading: 100%"
          }
        },
        "8fbdb230253a4152be95bf6229049f09": {
          "model_module": "@jupyter-widgets/controls",
          "model_module_version": "1.5.0",
          "model_name": "HBoxModel",
          "state": {
            "_dom_classes": [],
            "_model_module": "@jupyter-widgets/controls",
            "_model_module_version": "1.5.0",
            "_model_name": "HBoxModel",
            "_view_count": null,
            "_view_module": "@jupyter-widgets/controls",
            "_view_module_version": "1.5.0",
            "_view_name": "HBoxView",
            "box_style": "",
            "children": [
              "IPY_MODEL_857f0c099d8549e98991a93c791db4c1",
              "IPY_MODEL_16561789e2b9417a80ddcb6ef9d8676a",
              "IPY_MODEL_050c9d6bfd1e4b6ebe67401183a8d397"
            ],
            "layout": "IPY_MODEL_5874591082f944ff9b32202a1edbfd60"
          }
        },
        "90dbfe5bab604315b329a6a8fcf131b1": {
          "model_module": "@jupyter-widgets/base",
          "model_module_version": "1.2.0",
          "model_name": "LayoutModel",
          "state": {
            "_model_module": "@jupyter-widgets/base",
            "_model_module_version": "1.2.0",
            "_model_name": "LayoutModel",
            "_view_count": null,
            "_view_module": "@jupyter-widgets/base",
            "_view_module_version": "1.2.0",
            "_view_name": "LayoutView",
            "align_content": null,
            "align_items": null,
            "align_self": null,
            "border": null,
            "bottom": null,
            "display": null,
            "flex": null,
            "flex_flow": null,
            "grid_area": null,
            "grid_auto_columns": null,
            "grid_auto_flow": null,
            "grid_auto_rows": null,
            "grid_column": null,
            "grid_gap": null,
            "grid_row": null,
            "grid_template_areas": null,
            "grid_template_columns": null,
            "grid_template_rows": null,
            "height": null,
            "justify_content": null,
            "justify_items": null,
            "left": null,
            "margin": null,
            "max_height": null,
            "max_width": null,
            "min_height": null,
            "min_width": null,
            "object_fit": null,
            "object_position": null,
            "order": null,
            "overflow": null,
            "overflow_x": null,
            "overflow_y": null,
            "padding": null,
            "right": null,
            "top": null,
            "visibility": null,
            "width": null
          }
        },
        "91a9bd637428473192d5ec47ba137268": {
          "model_module": "@jupyter-widgets/controls",
          "model_module_version": "1.5.0",
          "model_name": "HTMLModel",
          "state": {
            "_dom_classes": [],
            "_model_module": "@jupyter-widgets/controls",
            "_model_module_version": "1.5.0",
            "_model_name": "HTMLModel",
            "_view_count": null,
            "_view_module": "@jupyter-widgets/controls",
            "_view_module_version": "1.5.0",
            "_view_name": "HTMLView",
            "description": "",
            "description_tooltip": null,
            "layout": "IPY_MODEL_196c66080f944a61a537a0ddd9905248",
            "placeholder": "​",
            "style": "IPY_MODEL_e7d54319900548208c3852623ebc3dcf",
            "value": "Upload file training_args.bin: 100%"
          }
        },
        "92ae2ab85efc40fa89da650ccbe85e21": {
          "model_module": "@jupyter-widgets/controls",
          "model_module_version": "1.5.0",
          "model_name": "DescriptionStyleModel",
          "state": {
            "_model_module": "@jupyter-widgets/controls",
            "_model_module_version": "1.5.0",
            "_model_name": "DescriptionStyleModel",
            "_view_count": null,
            "_view_module": "@jupyter-widgets/base",
            "_view_module_version": "1.2.0",
            "_view_name": "StyleView",
            "description_width": ""
          }
        },
        "940e030ce7ae40d68136ddf1a1a67736": {
          "model_module": "@jupyter-widgets/base",
          "model_module_version": "1.2.0",
          "model_name": "LayoutModel",
          "state": {
            "_model_module": "@jupyter-widgets/base",
            "_model_module_version": "1.2.0",
            "_model_name": "LayoutModel",
            "_view_count": null,
            "_view_module": "@jupyter-widgets/base",
            "_view_module_version": "1.2.0",
            "_view_name": "LayoutView",
            "align_content": null,
            "align_items": null,
            "align_self": null,
            "border": null,
            "bottom": null,
            "display": null,
            "flex": null,
            "flex_flow": null,
            "grid_area": null,
            "grid_auto_columns": null,
            "grid_auto_flow": null,
            "grid_auto_rows": null,
            "grid_column": null,
            "grid_gap": null,
            "grid_row": null,
            "grid_template_areas": null,
            "grid_template_columns": null,
            "grid_template_rows": null,
            "height": null,
            "justify_content": null,
            "justify_items": null,
            "left": null,
            "margin": null,
            "max_height": null,
            "max_width": null,
            "min_height": null,
            "min_width": null,
            "object_fit": null,
            "object_position": null,
            "order": null,
            "overflow": null,
            "overflow_x": null,
            "overflow_y": null,
            "padding": null,
            "right": null,
            "top": null,
            "visibility": null,
            "width": null
          }
        },
        "968f456d45ab4f25aeaf57b0c0ddc190": {
          "model_module": "@jupyter-widgets/base",
          "model_module_version": "1.2.0",
          "model_name": "LayoutModel",
          "state": {
            "_model_module": "@jupyter-widgets/base",
            "_model_module_version": "1.2.0",
            "_model_name": "LayoutModel",
            "_view_count": null,
            "_view_module": "@jupyter-widgets/base",
            "_view_module_version": "1.2.0",
            "_view_name": "LayoutView",
            "align_content": null,
            "align_items": null,
            "align_self": null,
            "border": null,
            "bottom": null,
            "display": null,
            "flex": null,
            "flex_flow": null,
            "grid_area": null,
            "grid_auto_columns": null,
            "grid_auto_flow": null,
            "grid_auto_rows": null,
            "grid_column": null,
            "grid_gap": null,
            "grid_row": null,
            "grid_template_areas": null,
            "grid_template_columns": null,
            "grid_template_rows": null,
            "height": null,
            "justify_content": null,
            "justify_items": null,
            "left": null,
            "margin": null,
            "max_height": null,
            "max_width": null,
            "min_height": null,
            "min_width": null,
            "object_fit": null,
            "object_position": null,
            "order": null,
            "overflow": null,
            "overflow_x": null,
            "overflow_y": null,
            "padding": null,
            "right": null,
            "top": null,
            "visibility": null,
            "width": null
          }
        },
        "9721f00cdfc942e8ab8a4faf8080ef2d": {
          "model_module": "@jupyter-widgets/base",
          "model_module_version": "1.2.0",
          "model_name": "LayoutModel",
          "state": {
            "_model_module": "@jupyter-widgets/base",
            "_model_module_version": "1.2.0",
            "_model_name": "LayoutModel",
            "_view_count": null,
            "_view_module": "@jupyter-widgets/base",
            "_view_module_version": "1.2.0",
            "_view_name": "LayoutView",
            "align_content": null,
            "align_items": null,
            "align_self": null,
            "border": null,
            "bottom": null,
            "display": null,
            "flex": null,
            "flex_flow": null,
            "grid_area": null,
            "grid_auto_columns": null,
            "grid_auto_flow": null,
            "grid_auto_rows": null,
            "grid_column": null,
            "grid_gap": null,
            "grid_row": null,
            "grid_template_areas": null,
            "grid_template_columns": null,
            "grid_template_rows": null,
            "height": null,
            "justify_content": null,
            "justify_items": null,
            "left": null,
            "margin": null,
            "max_height": null,
            "max_width": null,
            "min_height": null,
            "min_width": null,
            "object_fit": null,
            "object_position": null,
            "order": null,
            "overflow": null,
            "overflow_x": null,
            "overflow_y": null,
            "padding": null,
            "right": null,
            "top": null,
            "visibility": null,
            "width": null
          }
        },
        "a0e897961bb049438847879cf082adf3": {
          "model_module": "@jupyter-widgets/controls",
          "model_module_version": "1.5.0",
          "model_name": "HBoxModel",
          "state": {
            "_dom_classes": [],
            "_model_module": "@jupyter-widgets/controls",
            "_model_module_version": "1.5.0",
            "_model_name": "HBoxModel",
            "_view_count": null,
            "_view_module": "@jupyter-widgets/controls",
            "_view_module_version": "1.5.0",
            "_view_name": "HBoxView",
            "box_style": "",
            "children": [
              "IPY_MODEL_820ac3ce474346728b80a609d47848ee",
              "IPY_MODEL_045273b88fa04afba97bf7ba6027f164",
              "IPY_MODEL_4847949da7b64782895b4fca8b432ec8"
            ],
            "layout": "IPY_MODEL_427b99cf8b964a59bbbf0b4d04504906"
          }
        },
        "a3b48bc669674ff2a0bcce75a50e81eb": {
          "model_module": "@jupyter-widgets/controls",
          "model_module_version": "1.5.0",
          "model_name": "DescriptionStyleModel",
          "state": {
            "_model_module": "@jupyter-widgets/controls",
            "_model_module_version": "1.5.0",
            "_model_name": "DescriptionStyleModel",
            "_view_count": null,
            "_view_module": "@jupyter-widgets/base",
            "_view_module_version": "1.2.0",
            "_view_name": "StyleView",
            "description_width": ""
          }
        },
        "a40561b6f013481ba77fa137ab43b1c2": {
          "model_module": "@jupyter-widgets/controls",
          "model_module_version": "1.5.0",
          "model_name": "DescriptionStyleModel",
          "state": {
            "_model_module": "@jupyter-widgets/controls",
            "_model_module_version": "1.5.0",
            "_model_name": "DescriptionStyleModel",
            "_view_count": null,
            "_view_module": "@jupyter-widgets/base",
            "_view_module_version": "1.2.0",
            "_view_name": "StyleView",
            "description_width": ""
          }
        },
        "a5fd824b8eb64bb7b8d83354961927e6": {
          "model_module": "@jupyter-widgets/controls",
          "model_module_version": "1.5.0",
          "model_name": "ProgressStyleModel",
          "state": {
            "_model_module": "@jupyter-widgets/controls",
            "_model_module_version": "1.5.0",
            "_model_name": "ProgressStyleModel",
            "_view_count": null,
            "_view_module": "@jupyter-widgets/base",
            "_view_module_version": "1.2.0",
            "_view_name": "StyleView",
            "bar_color": null,
            "description_width": ""
          }
        },
        "a6a5bcb980df41d1b3e7b581701eae16": {
          "model_module": "@jupyter-widgets/base",
          "model_module_version": "1.2.0",
          "model_name": "LayoutModel",
          "state": {
            "_model_module": "@jupyter-widgets/base",
            "_model_module_version": "1.2.0",
            "_model_name": "LayoutModel",
            "_view_count": null,
            "_view_module": "@jupyter-widgets/base",
            "_view_module_version": "1.2.0",
            "_view_name": "LayoutView",
            "align_content": null,
            "align_items": null,
            "align_self": null,
            "border": null,
            "bottom": null,
            "display": null,
            "flex": null,
            "flex_flow": null,
            "grid_area": null,
            "grid_auto_columns": null,
            "grid_auto_flow": null,
            "grid_auto_rows": null,
            "grid_column": null,
            "grid_gap": null,
            "grid_row": null,
            "grid_template_areas": null,
            "grid_template_columns": null,
            "grid_template_rows": null,
            "height": null,
            "justify_content": null,
            "justify_items": null,
            "left": null,
            "margin": null,
            "max_height": null,
            "max_width": null,
            "min_height": null,
            "min_width": null,
            "object_fit": null,
            "object_position": null,
            "order": null,
            "overflow": null,
            "overflow_x": null,
            "overflow_y": null,
            "padding": null,
            "right": null,
            "top": null,
            "visibility": null,
            "width": null
          }
        },
        "a7725ad7a1774178bba1b39b48bee36b": {
          "model_module": "@jupyter-widgets/controls",
          "model_module_version": "1.5.0",
          "model_name": "HBoxModel",
          "state": {
            "_dom_classes": [],
            "_model_module": "@jupyter-widgets/controls",
            "_model_module_version": "1.5.0",
            "_model_name": "HBoxModel",
            "_view_count": null,
            "_view_module": "@jupyter-widgets/controls",
            "_view_module_version": "1.5.0",
            "_view_name": "HBoxView",
            "box_style": "",
            "children": [
              "IPY_MODEL_acc6c975316f4fc9af3f449ccaf71646",
              "IPY_MODEL_2b48e3c58b284b32ae51a3c3afb13d85",
              "IPY_MODEL_7748d6bd4e224b3f836a06b321e72de0"
            ],
            "layout": "IPY_MODEL_b29aab47d701449181b8d8c715b09657"
          }
        },
        "ab51fefefa1b464a9a780b80c6f0c020": {
          "model_module": "@jupyter-widgets/controls",
          "model_module_version": "1.5.0",
          "model_name": "HTMLModel",
          "state": {
            "_dom_classes": [],
            "_model_module": "@jupyter-widgets/controls",
            "_model_module_version": "1.5.0",
            "_model_name": "HTMLModel",
            "_view_count": null,
            "_view_module": "@jupyter-widgets/controls",
            "_view_module_version": "1.5.0",
            "_view_name": "HTMLView",
            "description": "",
            "description_tooltip": null,
            "layout": "IPY_MODEL_6b3288ffeef34c2a925d2554c7c4f521",
            "placeholder": "​",
            "style": "IPY_MODEL_116e45bbe2d640d18d6a47309692dc20",
            "value": " 215/215 [00:00&lt;00:00, 8.22kB/s]"
          }
        },
        "acc6c975316f4fc9af3f449ccaf71646": {
          "model_module": "@jupyter-widgets/controls",
          "model_module_version": "1.5.0",
          "model_name": "HTMLModel",
          "state": {
            "_dom_classes": [],
            "_model_module": "@jupyter-widgets/controls",
            "_model_module_version": "1.5.0",
            "_model_name": "HTMLModel",
            "_view_count": null,
            "_view_module": "@jupyter-widgets/controls",
            "_view_module_version": "1.5.0",
            "_view_name": "HTMLView",
            "description": "",
            "description_tooltip": null,
            "layout": "IPY_MODEL_5cb2c62e3d6f426f8c17eec2fe6e23ae",
            "placeholder": "​",
            "style": "IPY_MODEL_f44a8453ba314ddbb153e1278eb59eec",
            "value": "Upload file pytorch_model.bin: 100%"
          }
        },
        "adbd04cd03624b66a8c725f9a89647b6": {
          "model_module": "@jupyter-widgets/base",
          "model_module_version": "1.2.0",
          "model_name": "LayoutModel",
          "state": {
            "_model_module": "@jupyter-widgets/base",
            "_model_module_version": "1.2.0",
            "_model_name": "LayoutModel",
            "_view_count": null,
            "_view_module": "@jupyter-widgets/base",
            "_view_module_version": "1.2.0",
            "_view_name": "LayoutView",
            "align_content": null,
            "align_items": null,
            "align_self": null,
            "border": null,
            "bottom": null,
            "display": null,
            "flex": null,
            "flex_flow": null,
            "grid_area": null,
            "grid_auto_columns": null,
            "grid_auto_flow": null,
            "grid_auto_rows": null,
            "grid_column": null,
            "grid_gap": null,
            "grid_row": null,
            "grid_template_areas": null,
            "grid_template_columns": null,
            "grid_template_rows": null,
            "height": null,
            "justify_content": null,
            "justify_items": null,
            "left": null,
            "margin": null,
            "max_height": null,
            "max_width": null,
            "min_height": null,
            "min_width": null,
            "object_fit": null,
            "object_position": null,
            "order": null,
            "overflow": null,
            "overflow_x": null,
            "overflow_y": null,
            "padding": null,
            "right": null,
            "top": null,
            "visibility": null,
            "width": null
          }
        },
        "afe17562ac7948edab0233eb3804d9cb": {
          "model_module": "@jupyter-widgets/controls",
          "model_module_version": "1.5.0",
          "model_name": "DescriptionStyleModel",
          "state": {
            "_model_module": "@jupyter-widgets/controls",
            "_model_module_version": "1.5.0",
            "_model_name": "DescriptionStyleModel",
            "_view_count": null,
            "_view_module": "@jupyter-widgets/base",
            "_view_module_version": "1.2.0",
            "_view_name": "StyleView",
            "description_width": ""
          }
        },
        "b1a51bfb07774b7bac783d1c4d5a680c": {
          "model_module": "@jupyter-widgets/controls",
          "model_module_version": "1.5.0",
          "model_name": "DescriptionStyleModel",
          "state": {
            "_model_module": "@jupyter-widgets/controls",
            "_model_module_version": "1.5.0",
            "_model_name": "DescriptionStyleModel",
            "_view_count": null,
            "_view_module": "@jupyter-widgets/base",
            "_view_module_version": "1.2.0",
            "_view_name": "StyleView",
            "description_width": ""
          }
        },
        "b29aab47d701449181b8d8c715b09657": {
          "model_module": "@jupyter-widgets/base",
          "model_module_version": "1.2.0",
          "model_name": "LayoutModel",
          "state": {
            "_model_module": "@jupyter-widgets/base",
            "_model_module_version": "1.2.0",
            "_model_name": "LayoutModel",
            "_view_count": null,
            "_view_module": "@jupyter-widgets/base",
            "_view_module_version": "1.2.0",
            "_view_name": "LayoutView",
            "align_content": null,
            "align_items": null,
            "align_self": null,
            "border": null,
            "bottom": null,
            "display": null,
            "flex": null,
            "flex_flow": null,
            "grid_area": null,
            "grid_auto_columns": null,
            "grid_auto_flow": null,
            "grid_auto_rows": null,
            "grid_column": null,
            "grid_gap": null,
            "grid_row": null,
            "grid_template_areas": null,
            "grid_template_columns": null,
            "grid_template_rows": null,
            "height": null,
            "justify_content": null,
            "justify_items": null,
            "left": null,
            "margin": null,
            "max_height": null,
            "max_width": null,
            "min_height": null,
            "min_width": null,
            "object_fit": null,
            "object_position": null,
            "order": null,
            "overflow": null,
            "overflow_x": null,
            "overflow_y": null,
            "padding": null,
            "right": null,
            "top": null,
            "visibility": null,
            "width": null
          }
        },
        "b69bad861f014c20b4cb470c73b1fe37": {
          "model_module": "@jupyter-widgets/base",
          "model_module_version": "1.2.0",
          "model_name": "LayoutModel",
          "state": {
            "_model_module": "@jupyter-widgets/base",
            "_model_module_version": "1.2.0",
            "_model_name": "LayoutModel",
            "_view_count": null,
            "_view_module": "@jupyter-widgets/base",
            "_view_module_version": "1.2.0",
            "_view_name": "LayoutView",
            "align_content": null,
            "align_items": null,
            "align_self": null,
            "border": null,
            "bottom": null,
            "display": null,
            "flex": null,
            "flex_flow": null,
            "grid_area": null,
            "grid_auto_columns": null,
            "grid_auto_flow": null,
            "grid_auto_rows": null,
            "grid_column": null,
            "grid_gap": null,
            "grid_row": null,
            "grid_template_areas": null,
            "grid_template_columns": null,
            "grid_template_rows": null,
            "height": null,
            "justify_content": null,
            "justify_items": null,
            "left": null,
            "margin": null,
            "max_height": null,
            "max_width": null,
            "min_height": null,
            "min_width": null,
            "object_fit": null,
            "object_position": null,
            "order": null,
            "overflow": null,
            "overflow_x": null,
            "overflow_y": null,
            "padding": null,
            "right": null,
            "top": null,
            "visibility": null,
            "width": null
          }
        },
        "b7d46c7f5da646eba0ed9e38fed6b4ee": {
          "model_module": "@jupyter-widgets/controls",
          "model_module_version": "1.5.0",
          "model_name": "HTMLModel",
          "state": {
            "_dom_classes": [],
            "_model_module": "@jupyter-widgets/controls",
            "_model_module_version": "1.5.0",
            "_model_name": "HTMLModel",
            "_view_count": null,
            "_view_module": "@jupyter-widgets/controls",
            "_view_module_version": "1.5.0",
            "_view_name": "HTMLView",
            "description": "",
            "description_tooltip": null,
            "layout": "IPY_MODEL_6412d390b2ce416fae910d689c3f6e70",
            "placeholder": "​",
            "style": "IPY_MODEL_255c276a050446ed9df81f8eeb7c1178",
            "value": "Downloading: 100%"
          }
        },
        "bcb33e49c5ab412eb5b8cd823cf06706": {
          "model_module": "@jupyter-widgets/controls",
          "model_module_version": "1.5.0",
          "model_name": "FloatProgressModel",
          "state": {
            "_dom_classes": [],
            "_model_module": "@jupyter-widgets/controls",
            "_model_module_version": "1.5.0",
            "_model_name": "FloatProgressModel",
            "_view_count": null,
            "_view_module": "@jupyter-widgets/controls",
            "_view_module_version": "1.5.0",
            "_view_name": "ProgressView",
            "bar_style": "success",
            "description": "",
            "description_tooltip": null,
            "layout": "IPY_MODEL_4cc884973b734098a135619736b5f599",
            "max": 19164,
            "min": 0,
            "orientation": "horizontal",
            "style": "IPY_MODEL_fd72ea27c82843ceb5fdb74886fc5b44",
            "value": 19164
          }
        },
        "be78bdab8638431e80c087a0fe9a7a8f": {
          "model_module": "@jupyter-widgets/base",
          "model_module_version": "1.2.0",
          "model_name": "LayoutModel",
          "state": {
            "_model_module": "@jupyter-widgets/base",
            "_model_module_version": "1.2.0",
            "_model_name": "LayoutModel",
            "_view_count": null,
            "_view_module": "@jupyter-widgets/base",
            "_view_module_version": "1.2.0",
            "_view_name": "LayoutView",
            "align_content": null,
            "align_items": null,
            "align_self": null,
            "border": null,
            "bottom": null,
            "display": null,
            "flex": null,
            "flex_flow": null,
            "grid_area": null,
            "grid_auto_columns": null,
            "grid_auto_flow": null,
            "grid_auto_rows": null,
            "grid_column": null,
            "grid_gap": null,
            "grid_row": null,
            "grid_template_areas": null,
            "grid_template_columns": null,
            "grid_template_rows": null,
            "height": null,
            "justify_content": null,
            "justify_items": null,
            "left": null,
            "margin": null,
            "max_height": null,
            "max_width": null,
            "min_height": null,
            "min_width": null,
            "object_fit": null,
            "object_position": null,
            "order": null,
            "overflow": null,
            "overflow_x": null,
            "overflow_y": null,
            "padding": null,
            "right": null,
            "top": null,
            "visibility": null,
            "width": null
          }
        },
        "bf2896c4b25147f0a303c748fa2b0cd9": {
          "model_module": "@jupyter-widgets/controls",
          "model_module_version": "1.5.0",
          "model_name": "DescriptionStyleModel",
          "state": {
            "_model_module": "@jupyter-widgets/controls",
            "_model_module_version": "1.5.0",
            "_model_name": "DescriptionStyleModel",
            "_view_count": null,
            "_view_module": "@jupyter-widgets/base",
            "_view_module_version": "1.2.0",
            "_view_name": "StyleView",
            "description_width": ""
          }
        },
        "c80bdd3bae794c08b81c950a33ff9ba0": {
          "model_module": "@jupyter-widgets/controls",
          "model_module_version": "1.5.0",
          "model_name": "DescriptionStyleModel",
          "state": {
            "_model_module": "@jupyter-widgets/controls",
            "_model_module_version": "1.5.0",
            "_model_name": "DescriptionStyleModel",
            "_view_count": null,
            "_view_module": "@jupyter-widgets/base",
            "_view_module_version": "1.2.0",
            "_view_name": "StyleView",
            "description_width": ""
          }
        },
        "ceef78fab0024c578976ad6c589c0d7f": {
          "model_module": "@jupyter-widgets/controls",
          "model_module_version": "1.5.0",
          "model_name": "DescriptionStyleModel",
          "state": {
            "_model_module": "@jupyter-widgets/controls",
            "_model_module_version": "1.5.0",
            "_model_name": "DescriptionStyleModel",
            "_view_count": null,
            "_view_module": "@jupyter-widgets/base",
            "_view_module_version": "1.2.0",
            "_view_name": "StyleView",
            "description_width": ""
          }
        },
        "d10215d60b9f471ab681a948ad143159": {
          "model_module": "@jupyter-widgets/controls",
          "model_module_version": "1.5.0",
          "model_name": "HTMLModel",
          "state": {
            "_dom_classes": [],
            "_model_module": "@jupyter-widgets/controls",
            "_model_module_version": "1.5.0",
            "_model_name": "HTMLModel",
            "_view_count": null,
            "_view_module": "@jupyter-widgets/controls",
            "_view_module_version": "1.5.0",
            "_view_name": "HTMLView",
            "description": "",
            "description_tooltip": null,
            "layout": "IPY_MODEL_6cac8e9fcefd4353a76244f89ff459e1",
            "placeholder": "​",
            "style": "IPY_MODEL_4f70c2c356074adf9aa7c1fb6b20f8e3",
            "value": "Upload file runs/May10_11-02-51_d58de38fbf77/events.out.tfevents.1652180636.d58de38fbf77.96.2: 100%"
          }
        },
        "d2fd7c9e56b1419f9d23a10c260a7c7d": {
          "model_module": "@jupyter-widgets/controls",
          "model_module_version": "1.5.0",
          "model_name": "DescriptionStyleModel",
          "state": {
            "_model_module": "@jupyter-widgets/controls",
            "_model_module_version": "1.5.0",
            "_model_name": "DescriptionStyleModel",
            "_view_count": null,
            "_view_module": "@jupyter-widgets/base",
            "_view_module_version": "1.2.0",
            "_view_name": "StyleView",
            "description_width": ""
          }
        },
        "d44a1f0b3216469fb1ac597951f9471a": {
          "model_module": "@jupyter-widgets/controls",
          "model_module_version": "1.5.0",
          "model_name": "DescriptionStyleModel",
          "state": {
            "_model_module": "@jupyter-widgets/controls",
            "_model_module_version": "1.5.0",
            "_model_name": "DescriptionStyleModel",
            "_view_count": null,
            "_view_module": "@jupyter-widgets/base",
            "_view_module_version": "1.2.0",
            "_view_name": "StyleView",
            "description_width": ""
          }
        },
        "d8f4c2ce266a4a9284572af28ad9ad1c": {
          "model_module": "@jupyter-widgets/controls",
          "model_module_version": "1.5.0",
          "model_name": "ProgressStyleModel",
          "state": {
            "_model_module": "@jupyter-widgets/controls",
            "_model_module_version": "1.5.0",
            "_model_name": "ProgressStyleModel",
            "_view_count": null,
            "_view_module": "@jupyter-widgets/base",
            "_view_module_version": "1.2.0",
            "_view_name": "StyleView",
            "bar_color": null,
            "description_width": ""
          }
        },
        "dc034b4bf9e34963ab79f391c55d44ac": {
          "model_module": "@jupyter-widgets/controls",
          "model_module_version": "1.5.0",
          "model_name": "ProgressStyleModel",
          "state": {
            "_model_module": "@jupyter-widgets/controls",
            "_model_module_version": "1.5.0",
            "_model_name": "ProgressStyleModel",
            "_view_count": null,
            "_view_module": "@jupyter-widgets/base",
            "_view_module_version": "1.2.0",
            "_view_name": "StyleView",
            "bar_color": null,
            "description_width": ""
          }
        },
        "ddd975596c234b0eacc40ef18ef40778": {
          "model_module": "@jupyter-widgets/base",
          "model_module_version": "1.2.0",
          "model_name": "LayoutModel",
          "state": {
            "_model_module": "@jupyter-widgets/base",
            "_model_module_version": "1.2.0",
            "_model_name": "LayoutModel",
            "_view_count": null,
            "_view_module": "@jupyter-widgets/base",
            "_view_module_version": "1.2.0",
            "_view_name": "LayoutView",
            "align_content": null,
            "align_items": null,
            "align_self": null,
            "border": null,
            "bottom": null,
            "display": null,
            "flex": null,
            "flex_flow": null,
            "grid_area": null,
            "grid_auto_columns": null,
            "grid_auto_flow": null,
            "grid_auto_rows": null,
            "grid_column": null,
            "grid_gap": null,
            "grid_row": null,
            "grid_template_areas": null,
            "grid_template_columns": null,
            "grid_template_rows": null,
            "height": null,
            "justify_content": null,
            "justify_items": null,
            "left": null,
            "margin": null,
            "max_height": null,
            "max_width": null,
            "min_height": null,
            "min_width": null,
            "object_fit": null,
            "object_position": null,
            "order": null,
            "overflow": null,
            "overflow_x": null,
            "overflow_y": null,
            "padding": null,
            "right": null,
            "top": null,
            "visibility": null,
            "width": null
          }
        },
        "e1a34af59be04546808279b6e673c498": {
          "model_module": "@jupyter-widgets/controls",
          "model_module_version": "1.5.0",
          "model_name": "HBoxModel",
          "state": {
            "_dom_classes": [],
            "_model_module": "@jupyter-widgets/controls",
            "_model_module_version": "1.5.0",
            "_model_name": "HBoxModel",
            "_view_count": null,
            "_view_module": "@jupyter-widgets/controls",
            "_view_module_version": "1.5.0",
            "_view_name": "HBoxView",
            "box_style": "",
            "children": [
              "IPY_MODEL_91a9bd637428473192d5ec47ba137268",
              "IPY_MODEL_f11e33bc060746758ad638204b71955c",
              "IPY_MODEL_ef69985b8f7c4662912a11a377e99b59"
            ],
            "layout": "IPY_MODEL_9721f00cdfc942e8ab8a4faf8080ef2d"
          }
        },
        "e53ec4e8ee3d44bb8b3bdcf323335c8a": {
          "model_module": "@jupyter-widgets/base",
          "model_module_version": "1.2.0",
          "model_name": "LayoutModel",
          "state": {
            "_model_module": "@jupyter-widgets/base",
            "_model_module_version": "1.2.0",
            "_model_name": "LayoutModel",
            "_view_count": null,
            "_view_module": "@jupyter-widgets/base",
            "_view_module_version": "1.2.0",
            "_view_name": "LayoutView",
            "align_content": null,
            "align_items": null,
            "align_self": null,
            "border": null,
            "bottom": null,
            "display": null,
            "flex": null,
            "flex_flow": null,
            "grid_area": null,
            "grid_auto_columns": null,
            "grid_auto_flow": null,
            "grid_auto_rows": null,
            "grid_column": null,
            "grid_gap": null,
            "grid_row": null,
            "grid_template_areas": null,
            "grid_template_columns": null,
            "grid_template_rows": null,
            "height": null,
            "justify_content": null,
            "justify_items": null,
            "left": null,
            "margin": null,
            "max_height": null,
            "max_width": null,
            "min_height": null,
            "min_width": null,
            "object_fit": null,
            "object_position": null,
            "order": null,
            "overflow": null,
            "overflow_x": null,
            "overflow_y": null,
            "padding": null,
            "right": null,
            "top": null,
            "visibility": null,
            "width": null
          }
        },
        "e7d54319900548208c3852623ebc3dcf": {
          "model_module": "@jupyter-widgets/controls",
          "model_module_version": "1.5.0",
          "model_name": "DescriptionStyleModel",
          "state": {
            "_model_module": "@jupyter-widgets/controls",
            "_model_module_version": "1.5.0",
            "_model_name": "DescriptionStyleModel",
            "_view_count": null,
            "_view_module": "@jupyter-widgets/base",
            "_view_module_version": "1.2.0",
            "_view_name": "StyleView",
            "description_width": ""
          }
        },
        "ef69985b8f7c4662912a11a377e99b59": {
          "model_module": "@jupyter-widgets/controls",
          "model_module_version": "1.5.0",
          "model_name": "HTMLModel",
          "state": {
            "_dom_classes": [],
            "_model_module": "@jupyter-widgets/controls",
            "_model_module_version": "1.5.0",
            "_model_name": "HTMLModel",
            "_view_count": null,
            "_view_module": "@jupyter-widgets/controls",
            "_view_module_version": "1.5.0",
            "_view_name": "HTMLView",
            "description": "",
            "description_tooltip": null,
            "layout": "IPY_MODEL_8c89f99cd7b9408eafbfbf8e0c56d39c",
            "placeholder": "​",
            "style": "IPY_MODEL_a40561b6f013481ba77fa137ab43b1c2",
            "value": " 2.98k/2.98k [05:26&lt;?, ?B/s]"
          }
        },
        "f11e33bc060746758ad638204b71955c": {
          "model_module": "@jupyter-widgets/controls",
          "model_module_version": "1.5.0",
          "model_name": "FloatProgressModel",
          "state": {
            "_dom_classes": [],
            "_model_module": "@jupyter-widgets/controls",
            "_model_module_version": "1.5.0",
            "_model_name": "FloatProgressModel",
            "_view_count": null,
            "_view_module": "@jupyter-widgets/controls",
            "_view_module_version": "1.5.0",
            "_view_name": "ProgressView",
            "bar_style": "success",
            "description": "",
            "description_tooltip": null,
            "layout": "IPY_MODEL_adbd04cd03624b66a8c725f9a89647b6",
            "max": 3055,
            "min": 0,
            "orientation": "horizontal",
            "style": "IPY_MODEL_200b5fada23d45ff947953003d052605",
            "value": 3055
          }
        },
        "f22febfc3bbe48058be84b2a20e906f5": {
          "model_module": "@jupyter-widgets/controls",
          "model_module_version": "1.5.0",
          "model_name": "FloatProgressModel",
          "state": {
            "_dom_classes": [],
            "_model_module": "@jupyter-widgets/controls",
            "_model_module_version": "1.5.0",
            "_model_name": "FloatProgressModel",
            "_view_count": null,
            "_view_module": "@jupyter-widgets/controls",
            "_view_module_version": "1.5.0",
            "_view_name": "ProgressView",
            "bar_style": "success",
            "description": "",
            "description_tooltip": null,
            "layout": "IPY_MODEL_63e9fc689ea54fbfa7226cc9918977cb",
            "max": 215,
            "min": 0,
            "orientation": "horizontal",
            "style": "IPY_MODEL_dc034b4bf9e34963ab79f391c55d44ac",
            "value": 215
          }
        },
        "f23b78d30ff040f481b5584a83083b39": {
          "model_module": "@jupyter-widgets/controls",
          "model_module_version": "1.5.0",
          "model_name": "HTMLModel",
          "state": {
            "_dom_classes": [],
            "_model_module": "@jupyter-widgets/controls",
            "_model_module_version": "1.5.0",
            "_model_name": "HTMLModel",
            "_view_count": null,
            "_view_module": "@jupyter-widgets/controls",
            "_view_module_version": "1.5.0",
            "_view_name": "HTMLView",
            "description": "",
            "description_tooltip": null,
            "layout": "IPY_MODEL_28b1ff0d507e40fb84e4083537207de4",
            "placeholder": "​",
            "style": "IPY_MODEL_bf2896c4b25147f0a303c748fa2b0cd9",
            "value": " 18.7k/18.7k [05:26&lt;00:00, 48.2B/s]"
          }
        },
        "f44a8453ba314ddbb153e1278eb59eec": {
          "model_module": "@jupyter-widgets/controls",
          "model_module_version": "1.5.0",
          "model_name": "DescriptionStyleModel",
          "state": {
            "_model_module": "@jupyter-widgets/controls",
            "_model_module_version": "1.5.0",
            "_model_name": "DescriptionStyleModel",
            "_view_count": null,
            "_view_module": "@jupyter-widgets/base",
            "_view_module_version": "1.2.0",
            "_view_name": "StyleView",
            "description_width": ""
          }
        },
        "f5e79b8c3a634eae8a555f18b9dc9bd6": {
          "model_module": "@jupyter-widgets/controls",
          "model_module_version": "1.5.0",
          "model_name": "DescriptionStyleModel",
          "state": {
            "_model_module": "@jupyter-widgets/controls",
            "_model_module_version": "1.5.0",
            "_model_name": "DescriptionStyleModel",
            "_view_count": null,
            "_view_module": "@jupyter-widgets/base",
            "_view_module_version": "1.2.0",
            "_view_name": "StyleView",
            "description_width": ""
          }
        },
        "f652ea3e007c42669e445a7247bb0430": {
          "model_module": "@jupyter-widgets/base",
          "model_module_version": "1.2.0",
          "model_name": "LayoutModel",
          "state": {
            "_model_module": "@jupyter-widgets/base",
            "_model_module_version": "1.2.0",
            "_model_name": "LayoutModel",
            "_view_count": null,
            "_view_module": "@jupyter-widgets/base",
            "_view_module_version": "1.2.0",
            "_view_name": "LayoutView",
            "align_content": null,
            "align_items": null,
            "align_self": null,
            "border": null,
            "bottom": null,
            "display": null,
            "flex": null,
            "flex_flow": null,
            "grid_area": null,
            "grid_auto_columns": null,
            "grid_auto_flow": null,
            "grid_auto_rows": null,
            "grid_column": null,
            "grid_gap": null,
            "grid_row": null,
            "grid_template_areas": null,
            "grid_template_columns": null,
            "grid_template_rows": null,
            "height": null,
            "justify_content": null,
            "justify_items": null,
            "left": null,
            "margin": null,
            "max_height": null,
            "max_width": null,
            "min_height": null,
            "min_width": null,
            "object_fit": null,
            "object_position": null,
            "order": null,
            "overflow": null,
            "overflow_x": null,
            "overflow_y": null,
            "padding": null,
            "right": null,
            "top": null,
            "visibility": null,
            "width": null
          }
        },
        "fd72ea27c82843ceb5fdb74886fc5b44": {
          "model_module": "@jupyter-widgets/controls",
          "model_module_version": "1.5.0",
          "model_name": "ProgressStyleModel",
          "state": {
            "_model_module": "@jupyter-widgets/controls",
            "_model_module_version": "1.5.0",
            "_model_name": "ProgressStyleModel",
            "_view_count": null,
            "_view_module": "@jupyter-widgets/base",
            "_view_module_version": "1.2.0",
            "_view_name": "StyleView",
            "bar_color": null,
            "description_width": ""
          }
        },
        "fe39df4b5e9d41f6a0233bafb4522dd4": {
          "model_module": "@jupyter-widgets/base",
          "model_module_version": "1.2.0",
          "model_name": "LayoutModel",
          "state": {
            "_model_module": "@jupyter-widgets/base",
            "_model_module_version": "1.2.0",
            "_model_name": "LayoutModel",
            "_view_count": null,
            "_view_module": "@jupyter-widgets/base",
            "_view_module_version": "1.2.0",
            "_view_name": "LayoutView",
            "align_content": null,
            "align_items": null,
            "align_self": null,
            "border": null,
            "bottom": null,
            "display": null,
            "flex": null,
            "flex_flow": null,
            "grid_area": null,
            "grid_auto_columns": null,
            "grid_auto_flow": null,
            "grid_auto_rows": null,
            "grid_column": null,
            "grid_gap": null,
            "grid_row": null,
            "grid_template_areas": null,
            "grid_template_columns": null,
            "grid_template_rows": null,
            "height": null,
            "justify_content": null,
            "justify_items": null,
            "left": null,
            "margin": null,
            "max_height": null,
            "max_width": null,
            "min_height": null,
            "min_width": null,
            "object_fit": null,
            "object_position": null,
            "order": null,
            "overflow": null,
            "overflow_x": null,
            "overflow_y": null,
            "padding": null,
            "right": null,
            "top": null,
            "visibility": null,
            "width": null
          }
        },
        "ffa2bd3495f54f1c81f15ebf50fd4fee": {
          "model_module": "@jupyter-widgets/base",
          "model_module_version": "1.2.0",
          "model_name": "LayoutModel",
          "state": {
            "_model_module": "@jupyter-widgets/base",
            "_model_module_version": "1.2.0",
            "_model_name": "LayoutModel",
            "_view_count": null,
            "_view_module": "@jupyter-widgets/base",
            "_view_module_version": "1.2.0",
            "_view_name": "LayoutView",
            "align_content": null,
            "align_items": null,
            "align_self": null,
            "border": null,
            "bottom": null,
            "display": null,
            "flex": null,
            "flex_flow": null,
            "grid_area": null,
            "grid_auto_columns": null,
            "grid_auto_flow": null,
            "grid_auto_rows": null,
            "grid_column": null,
            "grid_gap": null,
            "grid_row": null,
            "grid_template_areas": null,
            "grid_template_columns": null,
            "grid_template_rows": null,
            "height": null,
            "justify_content": null,
            "justify_items": null,
            "left": null,
            "margin": null,
            "max_height": null,
            "max_width": null,
            "min_height": null,
            "min_width": null,
            "object_fit": null,
            "object_position": null,
            "order": null,
            "overflow": null,
            "overflow_x": null,
            "overflow_y": null,
            "padding": null,
            "right": null,
            "top": null,
            "visibility": null,
            "width": null
          }
        },
        "396755f4b4154d678b35260201084266": {
          "model_module": "@jupyter-widgets/controls",
          "model_name": "VBoxModel",
          "model_module_version": "1.5.0",
          "state": {
            "_dom_classes": [],
            "_model_module": "@jupyter-widgets/controls",
            "_model_module_version": "1.5.0",
            "_model_name": "VBoxModel",
            "_view_count": null,
            "_view_module": "@jupyter-widgets/controls",
            "_view_module_version": "1.5.0",
            "_view_name": "VBoxView",
            "box_style": "",
            "children": [
              "IPY_MODEL_00f203492a7f4604b1b1e68fb589fddb",
              "IPY_MODEL_cd800f10a6a044a8b64ecb7992d0d5e3",
              "IPY_MODEL_2f7f5075ca914bbd89d56751ae895a79",
              "IPY_MODEL_8ec004bc32844b729fa103ab654269d3",
              "IPY_MODEL_bfc5061a66a848b199c514fb7301fb77"
            ],
            "layout": "IPY_MODEL_87408cd74e67463fa38971bf8ae243c7"
          }
        },
        "00f203492a7f4604b1b1e68fb589fddb": {
          "model_module": "@jupyter-widgets/controls",
          "model_name": "HTMLModel",
          "model_module_version": "1.5.0",
          "state": {
            "_dom_classes": [],
            "_model_module": "@jupyter-widgets/controls",
            "_model_module_version": "1.5.0",
            "_model_name": "HTMLModel",
            "_view_count": null,
            "_view_module": "@jupyter-widgets/controls",
            "_view_module_version": "1.5.0",
            "_view_name": "HTMLView",
            "description": "",
            "description_tooltip": null,
            "layout": "IPY_MODEL_3e5937cdeb314c34a5cc6cee005f44e2",
            "placeholder": "​",
            "style": "IPY_MODEL_5cd492e5ae934727beac22bb9bfc18a4",
            "value": "<center> <img\nsrc=https://huggingface.co/front/assets/huggingface_logo-noborder.svg\nalt='Hugging Face'> <br> Copy a token from <a\nhref=\"https://huggingface.co/settings/tokens\" target=\"_blank\">your Hugging Face\ntokens page</a> and paste it below. <br> Immediately click login after copying\nyour token or it might be stored in plain text in this notebook file. </center>"
          }
        },
        "cd800f10a6a044a8b64ecb7992d0d5e3": {
          "model_module": "@jupyter-widgets/controls",
          "model_name": "PasswordModel",
          "model_module_version": "1.5.0",
          "state": {
            "_dom_classes": [],
            "_model_module": "@jupyter-widgets/controls",
            "_model_module_version": "1.5.0",
            "_model_name": "PasswordModel",
            "_view_count": null,
            "_view_module": "@jupyter-widgets/controls",
            "_view_module_version": "1.5.0",
            "_view_name": "PasswordView",
            "continuous_update": true,
            "description": "Token:",
            "description_tooltip": null,
            "disabled": false,
            "layout": "IPY_MODEL_cfdb2776e83245f782ebb55fc2964db4",
            "placeholder": "​",
            "style": "IPY_MODEL_1335174dceb84aee95e8796b0c87f49f",
            "value": ""
          }
        },
        "2f7f5075ca914bbd89d56751ae895a79": {
          "model_module": "@jupyter-widgets/controls",
          "model_name": "ButtonModel",
          "model_module_version": "1.5.0",
          "state": {
            "_dom_classes": [],
            "_model_module": "@jupyter-widgets/controls",
            "_model_module_version": "1.5.0",
            "_model_name": "ButtonModel",
            "_view_count": null,
            "_view_module": "@jupyter-widgets/controls",
            "_view_module_version": "1.5.0",
            "_view_name": "ButtonView",
            "button_style": "",
            "description": "Login",
            "disabled": false,
            "icon": "",
            "layout": "IPY_MODEL_2cfaea1cc2774836961b97ab19a9337d",
            "style": "IPY_MODEL_aa6b9fd165cc48fd905c645670c5c23a",
            "tooltip": ""
          }
        },
        "8ec004bc32844b729fa103ab654269d3": {
          "model_module": "@jupyter-widgets/controls",
          "model_name": "HTMLModel",
          "model_module_version": "1.5.0",
          "state": {
            "_dom_classes": [],
            "_model_module": "@jupyter-widgets/controls",
            "_model_module_version": "1.5.0",
            "_model_name": "HTMLModel",
            "_view_count": null,
            "_view_module": "@jupyter-widgets/controls",
            "_view_module_version": "1.5.0",
            "_view_name": "HTMLView",
            "description": "",
            "description_tooltip": null,
            "layout": "IPY_MODEL_b7f6d4f6773b4e16aada00b532f1bddd",
            "placeholder": "​",
            "style": "IPY_MODEL_2c4ad0ca425347c1a33e0b4dece228d8",
            "value": "\n<b>Pro Tip:</b> If you don't already have one, you can create a dedicated\n'notebooks' token with 'write' access, that you can then easily reuse for all\nnotebooks. <br> <i>Logging in with your username and password is deprecated and\nwon't be possible anymore in the near future. You can still use them for now by\nclicking below.</i> </center>"
          }
        },
        "bfc5061a66a848b199c514fb7301fb77": {
          "model_module": "@jupyter-widgets/controls",
          "model_name": "ButtonModel",
          "model_module_version": "1.5.0",
          "state": {
            "_dom_classes": [],
            "_model_module": "@jupyter-widgets/controls",
            "_model_module_version": "1.5.0",
            "_model_name": "ButtonModel",
            "_view_count": null,
            "_view_module": "@jupyter-widgets/controls",
            "_view_module_version": "1.5.0",
            "_view_name": "ButtonView",
            "button_style": "",
            "description": "Use password",
            "disabled": false,
            "icon": "",
            "layout": "IPY_MODEL_11d1d27c62144077a52af079081219f4",
            "style": "IPY_MODEL_549dbc2cf55346ce90d83fd01cc7ff0a",
            "tooltip": ""
          }
        },
        "87408cd74e67463fa38971bf8ae243c7": {
          "model_module": "@jupyter-widgets/base",
          "model_name": "LayoutModel",
          "model_module_version": "1.2.0",
          "state": {
            "_model_module": "@jupyter-widgets/base",
            "_model_module_version": "1.2.0",
            "_model_name": "LayoutModel",
            "_view_count": null,
            "_view_module": "@jupyter-widgets/base",
            "_view_module_version": "1.2.0",
            "_view_name": "LayoutView",
            "align_content": null,
            "align_items": "center",
            "align_self": null,
            "border": null,
            "bottom": null,
            "display": "flex",
            "flex": null,
            "flex_flow": "column",
            "grid_area": null,
            "grid_auto_columns": null,
            "grid_auto_flow": null,
            "grid_auto_rows": null,
            "grid_column": null,
            "grid_gap": null,
            "grid_row": null,
            "grid_template_areas": null,
            "grid_template_columns": null,
            "grid_template_rows": null,
            "height": null,
            "justify_content": null,
            "justify_items": null,
            "left": null,
            "margin": null,
            "max_height": null,
            "max_width": null,
            "min_height": null,
            "min_width": null,
            "object_fit": null,
            "object_position": null,
            "order": null,
            "overflow": null,
            "overflow_x": null,
            "overflow_y": null,
            "padding": null,
            "right": null,
            "top": null,
            "visibility": null,
            "width": "50%"
          }
        },
        "3e5937cdeb314c34a5cc6cee005f44e2": {
          "model_module": "@jupyter-widgets/base",
          "model_name": "LayoutModel",
          "model_module_version": "1.2.0",
          "state": {
            "_model_module": "@jupyter-widgets/base",
            "_model_module_version": "1.2.0",
            "_model_name": "LayoutModel",
            "_view_count": null,
            "_view_module": "@jupyter-widgets/base",
            "_view_module_version": "1.2.0",
            "_view_name": "LayoutView",
            "align_content": null,
            "align_items": null,
            "align_self": null,
            "border": null,
            "bottom": null,
            "display": null,
            "flex": null,
            "flex_flow": null,
            "grid_area": null,
            "grid_auto_columns": null,
            "grid_auto_flow": null,
            "grid_auto_rows": null,
            "grid_column": null,
            "grid_gap": null,
            "grid_row": null,
            "grid_template_areas": null,
            "grid_template_columns": null,
            "grid_template_rows": null,
            "height": null,
            "justify_content": null,
            "justify_items": null,
            "left": null,
            "margin": null,
            "max_height": null,
            "max_width": null,
            "min_height": null,
            "min_width": null,
            "object_fit": null,
            "object_position": null,
            "order": null,
            "overflow": null,
            "overflow_x": null,
            "overflow_y": null,
            "padding": null,
            "right": null,
            "top": null,
            "visibility": null,
            "width": null
          }
        },
        "5cd492e5ae934727beac22bb9bfc18a4": {
          "model_module": "@jupyter-widgets/controls",
          "model_name": "DescriptionStyleModel",
          "model_module_version": "1.5.0",
          "state": {
            "_model_module": "@jupyter-widgets/controls",
            "_model_module_version": "1.5.0",
            "_model_name": "DescriptionStyleModel",
            "_view_count": null,
            "_view_module": "@jupyter-widgets/base",
            "_view_module_version": "1.2.0",
            "_view_name": "StyleView",
            "description_width": ""
          }
        },
        "cfdb2776e83245f782ebb55fc2964db4": {
          "model_module": "@jupyter-widgets/base",
          "model_name": "LayoutModel",
          "model_module_version": "1.2.0",
          "state": {
            "_model_module": "@jupyter-widgets/base",
            "_model_module_version": "1.2.0",
            "_model_name": "LayoutModel",
            "_view_count": null,
            "_view_module": "@jupyter-widgets/base",
            "_view_module_version": "1.2.0",
            "_view_name": "LayoutView",
            "align_content": null,
            "align_items": null,
            "align_self": null,
            "border": null,
            "bottom": null,
            "display": null,
            "flex": null,
            "flex_flow": null,
            "grid_area": null,
            "grid_auto_columns": null,
            "grid_auto_flow": null,
            "grid_auto_rows": null,
            "grid_column": null,
            "grid_gap": null,
            "grid_row": null,
            "grid_template_areas": null,
            "grid_template_columns": null,
            "grid_template_rows": null,
            "height": null,
            "justify_content": null,
            "justify_items": null,
            "left": null,
            "margin": null,
            "max_height": null,
            "max_width": null,
            "min_height": null,
            "min_width": null,
            "object_fit": null,
            "object_position": null,
            "order": null,
            "overflow": null,
            "overflow_x": null,
            "overflow_y": null,
            "padding": null,
            "right": null,
            "top": null,
            "visibility": null,
            "width": null
          }
        },
        "1335174dceb84aee95e8796b0c87f49f": {
          "model_module": "@jupyter-widgets/controls",
          "model_name": "DescriptionStyleModel",
          "model_module_version": "1.5.0",
          "state": {
            "_model_module": "@jupyter-widgets/controls",
            "_model_module_version": "1.5.0",
            "_model_name": "DescriptionStyleModel",
            "_view_count": null,
            "_view_module": "@jupyter-widgets/base",
            "_view_module_version": "1.2.0",
            "_view_name": "StyleView",
            "description_width": ""
          }
        },
        "2cfaea1cc2774836961b97ab19a9337d": {
          "model_module": "@jupyter-widgets/base",
          "model_name": "LayoutModel",
          "model_module_version": "1.2.0",
          "state": {
            "_model_module": "@jupyter-widgets/base",
            "_model_module_version": "1.2.0",
            "_model_name": "LayoutModel",
            "_view_count": null,
            "_view_module": "@jupyter-widgets/base",
            "_view_module_version": "1.2.0",
            "_view_name": "LayoutView",
            "align_content": null,
            "align_items": null,
            "align_self": null,
            "border": null,
            "bottom": null,
            "display": null,
            "flex": null,
            "flex_flow": null,
            "grid_area": null,
            "grid_auto_columns": null,
            "grid_auto_flow": null,
            "grid_auto_rows": null,
            "grid_column": null,
            "grid_gap": null,
            "grid_row": null,
            "grid_template_areas": null,
            "grid_template_columns": null,
            "grid_template_rows": null,
            "height": null,
            "justify_content": null,
            "justify_items": null,
            "left": null,
            "margin": null,
            "max_height": null,
            "max_width": null,
            "min_height": null,
            "min_width": null,
            "object_fit": null,
            "object_position": null,
            "order": null,
            "overflow": null,
            "overflow_x": null,
            "overflow_y": null,
            "padding": null,
            "right": null,
            "top": null,
            "visibility": null,
            "width": null
          }
        },
        "aa6b9fd165cc48fd905c645670c5c23a": {
          "model_module": "@jupyter-widgets/controls",
          "model_name": "ButtonStyleModel",
          "model_module_version": "1.5.0",
          "state": {
            "_model_module": "@jupyter-widgets/controls",
            "_model_module_version": "1.5.0",
            "_model_name": "ButtonStyleModel",
            "_view_count": null,
            "_view_module": "@jupyter-widgets/base",
            "_view_module_version": "1.2.0",
            "_view_name": "StyleView",
            "button_color": null,
            "font_weight": ""
          }
        },
        "b7f6d4f6773b4e16aada00b532f1bddd": {
          "model_module": "@jupyter-widgets/base",
          "model_name": "LayoutModel",
          "model_module_version": "1.2.0",
          "state": {
            "_model_module": "@jupyter-widgets/base",
            "_model_module_version": "1.2.0",
            "_model_name": "LayoutModel",
            "_view_count": null,
            "_view_module": "@jupyter-widgets/base",
            "_view_module_version": "1.2.0",
            "_view_name": "LayoutView",
            "align_content": null,
            "align_items": null,
            "align_self": null,
            "border": null,
            "bottom": null,
            "display": null,
            "flex": null,
            "flex_flow": null,
            "grid_area": null,
            "grid_auto_columns": null,
            "grid_auto_flow": null,
            "grid_auto_rows": null,
            "grid_column": null,
            "grid_gap": null,
            "grid_row": null,
            "grid_template_areas": null,
            "grid_template_columns": null,
            "grid_template_rows": null,
            "height": null,
            "justify_content": null,
            "justify_items": null,
            "left": null,
            "margin": null,
            "max_height": null,
            "max_width": null,
            "min_height": null,
            "min_width": null,
            "object_fit": null,
            "object_position": null,
            "order": null,
            "overflow": null,
            "overflow_x": null,
            "overflow_y": null,
            "padding": null,
            "right": null,
            "top": null,
            "visibility": null,
            "width": null
          }
        },
        "2c4ad0ca425347c1a33e0b4dece228d8": {
          "model_module": "@jupyter-widgets/controls",
          "model_name": "DescriptionStyleModel",
          "model_module_version": "1.5.0",
          "state": {
            "_model_module": "@jupyter-widgets/controls",
            "_model_module_version": "1.5.0",
            "_model_name": "DescriptionStyleModel",
            "_view_count": null,
            "_view_module": "@jupyter-widgets/base",
            "_view_module_version": "1.2.0",
            "_view_name": "StyleView",
            "description_width": ""
          }
        },
        "11d1d27c62144077a52af079081219f4": {
          "model_module": "@jupyter-widgets/base",
          "model_name": "LayoutModel",
          "model_module_version": "1.2.0",
          "state": {
            "_model_module": "@jupyter-widgets/base",
            "_model_module_version": "1.2.0",
            "_model_name": "LayoutModel",
            "_view_count": null,
            "_view_module": "@jupyter-widgets/base",
            "_view_module_version": "1.2.0",
            "_view_name": "LayoutView",
            "align_content": null,
            "align_items": null,
            "align_self": null,
            "border": null,
            "bottom": null,
            "display": null,
            "flex": null,
            "flex_flow": null,
            "grid_area": null,
            "grid_auto_columns": null,
            "grid_auto_flow": null,
            "grid_auto_rows": null,
            "grid_column": null,
            "grid_gap": null,
            "grid_row": null,
            "grid_template_areas": null,
            "grid_template_columns": null,
            "grid_template_rows": null,
            "height": null,
            "justify_content": null,
            "justify_items": null,
            "left": null,
            "margin": null,
            "max_height": null,
            "max_width": null,
            "min_height": null,
            "min_width": null,
            "object_fit": null,
            "object_position": null,
            "order": null,
            "overflow": null,
            "overflow_x": null,
            "overflow_y": null,
            "padding": null,
            "right": null,
            "top": null,
            "visibility": null,
            "width": null
          }
        },
        "549dbc2cf55346ce90d83fd01cc7ff0a": {
          "model_module": "@jupyter-widgets/controls",
          "model_name": "ButtonStyleModel",
          "model_module_version": "1.5.0",
          "state": {
            "_model_module": "@jupyter-widgets/controls",
            "_model_module_version": "1.5.0",
            "_model_name": "ButtonStyleModel",
            "_view_count": null,
            "_view_module": "@jupyter-widgets/base",
            "_view_module_version": "1.2.0",
            "_view_name": "StyleView",
            "button_color": null,
            "font_weight": ""
          }
        },
        "641b8e763936490899317492bb415372": {
          "model_module": "@jupyter-widgets/controls",
          "model_name": "HBoxModel",
          "model_module_version": "1.5.0",
          "state": {
            "_dom_classes": [],
            "_model_module": "@jupyter-widgets/controls",
            "_model_module_version": "1.5.0",
            "_model_name": "HBoxModel",
            "_view_count": null,
            "_view_module": "@jupyter-widgets/controls",
            "_view_module_version": "1.5.0",
            "_view_name": "HBoxView",
            "box_style": "",
            "children": [
              "IPY_MODEL_c9046b4344c442169cdcebcc4c778b47",
              "IPY_MODEL_bbd66c8e10bf41eea2c33b42ff4ceead",
              "IPY_MODEL_f667fef46c634de5b5a097f54fc22300"
            ],
            "layout": "IPY_MODEL_aaa3b27d59494ca9b67e09bf753b64a3"
          }
        },
        "c9046b4344c442169cdcebcc4c778b47": {
          "model_module": "@jupyter-widgets/controls",
          "model_name": "HTMLModel",
          "model_module_version": "1.5.0",
          "state": {
            "_dom_classes": [],
            "_model_module": "@jupyter-widgets/controls",
            "_model_module_version": "1.5.0",
            "_model_name": "HTMLModel",
            "_view_count": null,
            "_view_module": "@jupyter-widgets/controls",
            "_view_module_version": "1.5.0",
            "_view_name": "HTMLView",
            "description": "",
            "description_tooltip": null,
            "layout": "IPY_MODEL_4f9ef59840df442081bcd1d03ef0971f",
            "placeholder": "​",
            "style": "IPY_MODEL_22d647e6f3084572b7f564d196df3ec4",
            "value": "Downloading: "
          }
        },
        "bbd66c8e10bf41eea2c33b42ff4ceead": {
          "model_module": "@jupyter-widgets/controls",
          "model_name": "FloatProgressModel",
          "model_module_version": "1.5.0",
          "state": {
            "_dom_classes": [],
            "_model_module": "@jupyter-widgets/controls",
            "_model_module_version": "1.5.0",
            "_model_name": "FloatProgressModel",
            "_view_count": null,
            "_view_module": "@jupyter-widgets/controls",
            "_view_module_version": "1.5.0",
            "_view_name": "ProgressView",
            "bar_style": "success",
            "description": "",
            "description_tooltip": null,
            "layout": "IPY_MODEL_f02e0e0b8b1d4b17ae03b4f823dffbde",
            "max": 2403,
            "min": 0,
            "orientation": "horizontal",
            "style": "IPY_MODEL_7706a0459e8c4c05ae18b80cceac1702",
            "value": 2403
          }
        },
        "f667fef46c634de5b5a097f54fc22300": {
          "model_module": "@jupyter-widgets/controls",
          "model_name": "HTMLModel",
          "model_module_version": "1.5.0",
          "state": {
            "_dom_classes": [],
            "_model_module": "@jupyter-widgets/controls",
            "_model_module_version": "1.5.0",
            "_model_name": "HTMLModel",
            "_view_count": null,
            "_view_module": "@jupyter-widgets/controls",
            "_view_module_version": "1.5.0",
            "_view_name": "HTMLView",
            "description": "",
            "description_tooltip": null,
            "layout": "IPY_MODEL_96ba9740f87d43929a975d60dbd422b4",
            "placeholder": "​",
            "style": "IPY_MODEL_15389cec9c3a4d79b976f44ccdaa188b",
            "value": " 7.06k/? [00:00&lt;00:00, 226kB/s]"
          }
        },
        "aaa3b27d59494ca9b67e09bf753b64a3": {
          "model_module": "@jupyter-widgets/base",
          "model_name": "LayoutModel",
          "model_module_version": "1.2.0",
          "state": {
            "_model_module": "@jupyter-widgets/base",
            "_model_module_version": "1.2.0",
            "_model_name": "LayoutModel",
            "_view_count": null,
            "_view_module": "@jupyter-widgets/base",
            "_view_module_version": "1.2.0",
            "_view_name": "LayoutView",
            "align_content": null,
            "align_items": null,
            "align_self": null,
            "border": null,
            "bottom": null,
            "display": null,
            "flex": null,
            "flex_flow": null,
            "grid_area": null,
            "grid_auto_columns": null,
            "grid_auto_flow": null,
            "grid_auto_rows": null,
            "grid_column": null,
            "grid_gap": null,
            "grid_row": null,
            "grid_template_areas": null,
            "grid_template_columns": null,
            "grid_template_rows": null,
            "height": null,
            "justify_content": null,
            "justify_items": null,
            "left": null,
            "margin": null,
            "max_height": null,
            "max_width": null,
            "min_height": null,
            "min_width": null,
            "object_fit": null,
            "object_position": null,
            "order": null,
            "overflow": null,
            "overflow_x": null,
            "overflow_y": null,
            "padding": null,
            "right": null,
            "top": null,
            "visibility": null,
            "width": null
          }
        },
        "4f9ef59840df442081bcd1d03ef0971f": {
          "model_module": "@jupyter-widgets/base",
          "model_name": "LayoutModel",
          "model_module_version": "1.2.0",
          "state": {
            "_model_module": "@jupyter-widgets/base",
            "_model_module_version": "1.2.0",
            "_model_name": "LayoutModel",
            "_view_count": null,
            "_view_module": "@jupyter-widgets/base",
            "_view_module_version": "1.2.0",
            "_view_name": "LayoutView",
            "align_content": null,
            "align_items": null,
            "align_self": null,
            "border": null,
            "bottom": null,
            "display": null,
            "flex": null,
            "flex_flow": null,
            "grid_area": null,
            "grid_auto_columns": null,
            "grid_auto_flow": null,
            "grid_auto_rows": null,
            "grid_column": null,
            "grid_gap": null,
            "grid_row": null,
            "grid_template_areas": null,
            "grid_template_columns": null,
            "grid_template_rows": null,
            "height": null,
            "justify_content": null,
            "justify_items": null,
            "left": null,
            "margin": null,
            "max_height": null,
            "max_width": null,
            "min_height": null,
            "min_width": null,
            "object_fit": null,
            "object_position": null,
            "order": null,
            "overflow": null,
            "overflow_x": null,
            "overflow_y": null,
            "padding": null,
            "right": null,
            "top": null,
            "visibility": null,
            "width": null
          }
        },
        "22d647e6f3084572b7f564d196df3ec4": {
          "model_module": "@jupyter-widgets/controls",
          "model_name": "DescriptionStyleModel",
          "model_module_version": "1.5.0",
          "state": {
            "_model_module": "@jupyter-widgets/controls",
            "_model_module_version": "1.5.0",
            "_model_name": "DescriptionStyleModel",
            "_view_count": null,
            "_view_module": "@jupyter-widgets/base",
            "_view_module_version": "1.2.0",
            "_view_name": "StyleView",
            "description_width": ""
          }
        },
        "f02e0e0b8b1d4b17ae03b4f823dffbde": {
          "model_module": "@jupyter-widgets/base",
          "model_name": "LayoutModel",
          "model_module_version": "1.2.0",
          "state": {
            "_model_module": "@jupyter-widgets/base",
            "_model_module_version": "1.2.0",
            "_model_name": "LayoutModel",
            "_view_count": null,
            "_view_module": "@jupyter-widgets/base",
            "_view_module_version": "1.2.0",
            "_view_name": "LayoutView",
            "align_content": null,
            "align_items": null,
            "align_self": null,
            "border": null,
            "bottom": null,
            "display": null,
            "flex": null,
            "flex_flow": null,
            "grid_area": null,
            "grid_auto_columns": null,
            "grid_auto_flow": null,
            "grid_auto_rows": null,
            "grid_column": null,
            "grid_gap": null,
            "grid_row": null,
            "grid_template_areas": null,
            "grid_template_columns": null,
            "grid_template_rows": null,
            "height": null,
            "justify_content": null,
            "justify_items": null,
            "left": null,
            "margin": null,
            "max_height": null,
            "max_width": null,
            "min_height": null,
            "min_width": null,
            "object_fit": null,
            "object_position": null,
            "order": null,
            "overflow": null,
            "overflow_x": null,
            "overflow_y": null,
            "padding": null,
            "right": null,
            "top": null,
            "visibility": null,
            "width": null
          }
        },
        "7706a0459e8c4c05ae18b80cceac1702": {
          "model_module": "@jupyter-widgets/controls",
          "model_name": "ProgressStyleModel",
          "model_module_version": "1.5.0",
          "state": {
            "_model_module": "@jupyter-widgets/controls",
            "_model_module_version": "1.5.0",
            "_model_name": "ProgressStyleModel",
            "_view_count": null,
            "_view_module": "@jupyter-widgets/base",
            "_view_module_version": "1.2.0",
            "_view_name": "StyleView",
            "bar_color": null,
            "description_width": ""
          }
        },
        "96ba9740f87d43929a975d60dbd422b4": {
          "model_module": "@jupyter-widgets/base",
          "model_name": "LayoutModel",
          "model_module_version": "1.2.0",
          "state": {
            "_model_module": "@jupyter-widgets/base",
            "_model_module_version": "1.2.0",
            "_model_name": "LayoutModel",
            "_view_count": null,
            "_view_module": "@jupyter-widgets/base",
            "_view_module_version": "1.2.0",
            "_view_name": "LayoutView",
            "align_content": null,
            "align_items": null,
            "align_self": null,
            "border": null,
            "bottom": null,
            "display": null,
            "flex": null,
            "flex_flow": null,
            "grid_area": null,
            "grid_auto_columns": null,
            "grid_auto_flow": null,
            "grid_auto_rows": null,
            "grid_column": null,
            "grid_gap": null,
            "grid_row": null,
            "grid_template_areas": null,
            "grid_template_columns": null,
            "grid_template_rows": null,
            "height": null,
            "justify_content": null,
            "justify_items": null,
            "left": null,
            "margin": null,
            "max_height": null,
            "max_width": null,
            "min_height": null,
            "min_width": null,
            "object_fit": null,
            "object_position": null,
            "order": null,
            "overflow": null,
            "overflow_x": null,
            "overflow_y": null,
            "padding": null,
            "right": null,
            "top": null,
            "visibility": null,
            "width": null
          }
        },
        "15389cec9c3a4d79b976f44ccdaa188b": {
          "model_module": "@jupyter-widgets/controls",
          "model_name": "DescriptionStyleModel",
          "model_module_version": "1.5.0",
          "state": {
            "_model_module": "@jupyter-widgets/controls",
            "_model_module_version": "1.5.0",
            "_model_name": "DescriptionStyleModel",
            "_view_count": null,
            "_view_module": "@jupyter-widgets/base",
            "_view_module_version": "1.2.0",
            "_view_name": "StyleView",
            "description_width": ""
          }
        },
        "92ef6ffa0a334aa9af85f4cba73c18ec": {
          "model_module": "@jupyter-widgets/controls",
          "model_name": "HBoxModel",
          "model_module_version": "1.5.0",
          "state": {
            "_dom_classes": [],
            "_model_module": "@jupyter-widgets/controls",
            "_model_module_version": "1.5.0",
            "_model_name": "HBoxModel",
            "_view_count": null,
            "_view_module": "@jupyter-widgets/controls",
            "_view_module_version": "1.5.0",
            "_view_name": "HBoxView",
            "box_style": "",
            "children": [
              "IPY_MODEL_61c99b8d354c4c4f9fd79cce746d2636",
              "IPY_MODEL_9964e16f1b374db89a7959fca8f9aa91",
              "IPY_MODEL_946409355b3540509900ddececde0c28"
            ],
            "layout": "IPY_MODEL_f0d4bbcfb27e4bbbb995aa73d09290fb"
          }
        },
        "61c99b8d354c4c4f9fd79cce746d2636": {
          "model_module": "@jupyter-widgets/controls",
          "model_name": "HTMLModel",
          "model_module_version": "1.5.0",
          "state": {
            "_dom_classes": [],
            "_model_module": "@jupyter-widgets/controls",
            "_model_module_version": "1.5.0",
            "_model_name": "HTMLModel",
            "_view_count": null,
            "_view_module": "@jupyter-widgets/controls",
            "_view_module_version": "1.5.0",
            "_view_name": "HTMLView",
            "description": "",
            "description_tooltip": null,
            "layout": "IPY_MODEL_17fa8bf4d1054af68f39e9b4c0646511",
            "placeholder": "​",
            "style": "IPY_MODEL_282da4f9d64b47ae8b419eab69413b6e",
            "value": "Downloading: "
          }
        },
        "9964e16f1b374db89a7959fca8f9aa91": {
          "model_module": "@jupyter-widgets/controls",
          "model_name": "FloatProgressModel",
          "model_module_version": "1.5.0",
          "state": {
            "_dom_classes": [],
            "_model_module": "@jupyter-widgets/controls",
            "_model_module_version": "1.5.0",
            "_model_name": "FloatProgressModel",
            "_view_count": null,
            "_view_module": "@jupyter-widgets/controls",
            "_view_module_version": "1.5.0",
            "_view_name": "ProgressView",
            "bar_style": "success",
            "description": "",
            "description_tooltip": null,
            "layout": "IPY_MODEL_6748157b802442d0b0bad99390c6a692",
            "max": 1060,
            "min": 0,
            "orientation": "horizontal",
            "style": "IPY_MODEL_cdc466203c8b416f93b37cc3d8372d15",
            "value": 1060
          }
        },
        "946409355b3540509900ddececde0c28": {
          "model_module": "@jupyter-widgets/controls",
          "model_name": "HTMLModel",
          "model_module_version": "1.5.0",
          "state": {
            "_dom_classes": [],
            "_model_module": "@jupyter-widgets/controls",
            "_model_module_version": "1.5.0",
            "_model_name": "HTMLModel",
            "_view_count": null,
            "_view_module": "@jupyter-widgets/controls",
            "_view_module_version": "1.5.0",
            "_view_name": "HTMLView",
            "description": "",
            "description_tooltip": null,
            "layout": "IPY_MODEL_689f5aaa526542cb8026e5994161ea44",
            "placeholder": "​",
            "style": "IPY_MODEL_e6de319c9f8a4f6bb7a168fcbdbd98aa",
            "value": " 2.64k/? [00:00&lt;00:00, 77.9kB/s]"
          }
        },
        "f0d4bbcfb27e4bbbb995aa73d09290fb": {
          "model_module": "@jupyter-widgets/base",
          "model_name": "LayoutModel",
          "model_module_version": "1.2.0",
          "state": {
            "_model_module": "@jupyter-widgets/base",
            "_model_module_version": "1.2.0",
            "_model_name": "LayoutModel",
            "_view_count": null,
            "_view_module": "@jupyter-widgets/base",
            "_view_module_version": "1.2.0",
            "_view_name": "LayoutView",
            "align_content": null,
            "align_items": null,
            "align_self": null,
            "border": null,
            "bottom": null,
            "display": null,
            "flex": null,
            "flex_flow": null,
            "grid_area": null,
            "grid_auto_columns": null,
            "grid_auto_flow": null,
            "grid_auto_rows": null,
            "grid_column": null,
            "grid_gap": null,
            "grid_row": null,
            "grid_template_areas": null,
            "grid_template_columns": null,
            "grid_template_rows": null,
            "height": null,
            "justify_content": null,
            "justify_items": null,
            "left": null,
            "margin": null,
            "max_height": null,
            "max_width": null,
            "min_height": null,
            "min_width": null,
            "object_fit": null,
            "object_position": null,
            "order": null,
            "overflow": null,
            "overflow_x": null,
            "overflow_y": null,
            "padding": null,
            "right": null,
            "top": null,
            "visibility": null,
            "width": null
          }
        },
        "17fa8bf4d1054af68f39e9b4c0646511": {
          "model_module": "@jupyter-widgets/base",
          "model_name": "LayoutModel",
          "model_module_version": "1.2.0",
          "state": {
            "_model_module": "@jupyter-widgets/base",
            "_model_module_version": "1.2.0",
            "_model_name": "LayoutModel",
            "_view_count": null,
            "_view_module": "@jupyter-widgets/base",
            "_view_module_version": "1.2.0",
            "_view_name": "LayoutView",
            "align_content": null,
            "align_items": null,
            "align_self": null,
            "border": null,
            "bottom": null,
            "display": null,
            "flex": null,
            "flex_flow": null,
            "grid_area": null,
            "grid_auto_columns": null,
            "grid_auto_flow": null,
            "grid_auto_rows": null,
            "grid_column": null,
            "grid_gap": null,
            "grid_row": null,
            "grid_template_areas": null,
            "grid_template_columns": null,
            "grid_template_rows": null,
            "height": null,
            "justify_content": null,
            "justify_items": null,
            "left": null,
            "margin": null,
            "max_height": null,
            "max_width": null,
            "min_height": null,
            "min_width": null,
            "object_fit": null,
            "object_position": null,
            "order": null,
            "overflow": null,
            "overflow_x": null,
            "overflow_y": null,
            "padding": null,
            "right": null,
            "top": null,
            "visibility": null,
            "width": null
          }
        },
        "282da4f9d64b47ae8b419eab69413b6e": {
          "model_module": "@jupyter-widgets/controls",
          "model_name": "DescriptionStyleModel",
          "model_module_version": "1.5.0",
          "state": {
            "_model_module": "@jupyter-widgets/controls",
            "_model_module_version": "1.5.0",
            "_model_name": "DescriptionStyleModel",
            "_view_count": null,
            "_view_module": "@jupyter-widgets/base",
            "_view_module_version": "1.2.0",
            "_view_name": "StyleView",
            "description_width": ""
          }
        },
        "6748157b802442d0b0bad99390c6a692": {
          "model_module": "@jupyter-widgets/base",
          "model_name": "LayoutModel",
          "model_module_version": "1.2.0",
          "state": {
            "_model_module": "@jupyter-widgets/base",
            "_model_module_version": "1.2.0",
            "_model_name": "LayoutModel",
            "_view_count": null,
            "_view_module": "@jupyter-widgets/base",
            "_view_module_version": "1.2.0",
            "_view_name": "LayoutView",
            "align_content": null,
            "align_items": null,
            "align_self": null,
            "border": null,
            "bottom": null,
            "display": null,
            "flex": null,
            "flex_flow": null,
            "grid_area": null,
            "grid_auto_columns": null,
            "grid_auto_flow": null,
            "grid_auto_rows": null,
            "grid_column": null,
            "grid_gap": null,
            "grid_row": null,
            "grid_template_areas": null,
            "grid_template_columns": null,
            "grid_template_rows": null,
            "height": null,
            "justify_content": null,
            "justify_items": null,
            "left": null,
            "margin": null,
            "max_height": null,
            "max_width": null,
            "min_height": null,
            "min_width": null,
            "object_fit": null,
            "object_position": null,
            "order": null,
            "overflow": null,
            "overflow_x": null,
            "overflow_y": null,
            "padding": null,
            "right": null,
            "top": null,
            "visibility": null,
            "width": null
          }
        },
        "cdc466203c8b416f93b37cc3d8372d15": {
          "model_module": "@jupyter-widgets/controls",
          "model_name": "ProgressStyleModel",
          "model_module_version": "1.5.0",
          "state": {
            "_model_module": "@jupyter-widgets/controls",
            "_model_module_version": "1.5.0",
            "_model_name": "ProgressStyleModel",
            "_view_count": null,
            "_view_module": "@jupyter-widgets/base",
            "_view_module_version": "1.2.0",
            "_view_name": "StyleView",
            "bar_color": null,
            "description_width": ""
          }
        },
        "689f5aaa526542cb8026e5994161ea44": {
          "model_module": "@jupyter-widgets/base",
          "model_name": "LayoutModel",
          "model_module_version": "1.2.0",
          "state": {
            "_model_module": "@jupyter-widgets/base",
            "_model_module_version": "1.2.0",
            "_model_name": "LayoutModel",
            "_view_count": null,
            "_view_module": "@jupyter-widgets/base",
            "_view_module_version": "1.2.0",
            "_view_name": "LayoutView",
            "align_content": null,
            "align_items": null,
            "align_self": null,
            "border": null,
            "bottom": null,
            "display": null,
            "flex": null,
            "flex_flow": null,
            "grid_area": null,
            "grid_auto_columns": null,
            "grid_auto_flow": null,
            "grid_auto_rows": null,
            "grid_column": null,
            "grid_gap": null,
            "grid_row": null,
            "grid_template_areas": null,
            "grid_template_columns": null,
            "grid_template_rows": null,
            "height": null,
            "justify_content": null,
            "justify_items": null,
            "left": null,
            "margin": null,
            "max_height": null,
            "max_width": null,
            "min_height": null,
            "min_width": null,
            "object_fit": null,
            "object_position": null,
            "order": null,
            "overflow": null,
            "overflow_x": null,
            "overflow_y": null,
            "padding": null,
            "right": null,
            "top": null,
            "visibility": null,
            "width": null
          }
        },
        "e6de319c9f8a4f6bb7a168fcbdbd98aa": {
          "model_module": "@jupyter-widgets/controls",
          "model_name": "DescriptionStyleModel",
          "model_module_version": "1.5.0",
          "state": {
            "_model_module": "@jupyter-widgets/controls",
            "_model_module_version": "1.5.0",
            "_model_name": "DescriptionStyleModel",
            "_view_count": null,
            "_view_module": "@jupyter-widgets/base",
            "_view_module_version": "1.2.0",
            "_view_name": "StyleView",
            "description_width": ""
          }
        },
        "8546de21944b423bb399bb9f5df31b57": {
          "model_module": "@jupyter-widgets/controls",
          "model_name": "HBoxModel",
          "model_module_version": "1.5.0",
          "state": {
            "_dom_classes": [],
            "_model_module": "@jupyter-widgets/controls",
            "_model_module_version": "1.5.0",
            "_model_name": "HBoxModel",
            "_view_count": null,
            "_view_module": "@jupyter-widgets/controls",
            "_view_module_version": "1.5.0",
            "_view_name": "HBoxView",
            "box_style": "",
            "children": [
              "IPY_MODEL_b3ec9f52f2924ecd869a0d82700ac0cd",
              "IPY_MODEL_a6bf4d3e0bd5460dbab9098f1283ba9f",
              "IPY_MODEL_9b03b4cc46134b8aa184a6169d3cfe74"
            ],
            "layout": "IPY_MODEL_dffcf012c89c4d49bb49c995a97721bb"
          }
        },
        "b3ec9f52f2924ecd869a0d82700ac0cd": {
          "model_module": "@jupyter-widgets/controls",
          "model_name": "HTMLModel",
          "model_module_version": "1.5.0",
          "state": {
            "_dom_classes": [],
            "_model_module": "@jupyter-widgets/controls",
            "_model_module_version": "1.5.0",
            "_model_name": "HTMLModel",
            "_view_count": null,
            "_view_module": "@jupyter-widgets/controls",
            "_view_module_version": "1.5.0",
            "_view_name": "HTMLView",
            "description": "",
            "description_tooltip": null,
            "layout": "IPY_MODEL_a3f2ec5baca046049944c09635c3776a",
            "placeholder": "​",
            "style": "IPY_MODEL_913fc529cb344d57b0d37f4a58642d87",
            "value": "Downloading: 100%"
          }
        },
        "a6bf4d3e0bd5460dbab9098f1283ba9f": {
          "model_module": "@jupyter-widgets/controls",
          "model_name": "FloatProgressModel",
          "model_module_version": "1.5.0",
          "state": {
            "_dom_classes": [],
            "_model_module": "@jupyter-widgets/controls",
            "_model_module_version": "1.5.0",
            "_model_name": "FloatProgressModel",
            "_view_count": null,
            "_view_module": "@jupyter-widgets/controls",
            "_view_module_version": "1.5.0",
            "_view_name": "ProgressView",
            "bar_style": "success",
            "description": "",
            "description_tooltip": null,
            "layout": "IPY_MODEL_72e30b437b6d42d890baa0edbdcb5d24",
            "max": 869007403,
            "min": 0,
            "orientation": "horizontal",
            "style": "IPY_MODEL_0619b14f745744bd9edcd55ca5579664",
            "value": 869007403
          }
        },
        "9b03b4cc46134b8aa184a6169d3cfe74": {
          "model_module": "@jupyter-widgets/controls",
          "model_name": "HTMLModel",
          "model_module_version": "1.5.0",
          "state": {
            "_dom_classes": [],
            "_model_module": "@jupyter-widgets/controls",
            "_model_module_version": "1.5.0",
            "_model_name": "HTMLModel",
            "_view_count": null,
            "_view_module": "@jupyter-widgets/controls",
            "_view_module_version": "1.5.0",
            "_view_name": "HTMLView",
            "description": "",
            "description_tooltip": null,
            "layout": "IPY_MODEL_cba490029048459887d19757d7a4a1fc",
            "placeholder": "​",
            "style": "IPY_MODEL_6075e17dc0d342cfadc3fe2b8dc48c1b",
            "value": " 869M/869M [00:18&lt;00:00, 44.7MB/s]"
          }
        },
        "dffcf012c89c4d49bb49c995a97721bb": {
          "model_module": "@jupyter-widgets/base",
          "model_name": "LayoutModel",
          "model_module_version": "1.2.0",
          "state": {
            "_model_module": "@jupyter-widgets/base",
            "_model_module_version": "1.2.0",
            "_model_name": "LayoutModel",
            "_view_count": null,
            "_view_module": "@jupyter-widgets/base",
            "_view_module_version": "1.2.0",
            "_view_name": "LayoutView",
            "align_content": null,
            "align_items": null,
            "align_self": null,
            "border": null,
            "bottom": null,
            "display": null,
            "flex": null,
            "flex_flow": null,
            "grid_area": null,
            "grid_auto_columns": null,
            "grid_auto_flow": null,
            "grid_auto_rows": null,
            "grid_column": null,
            "grid_gap": null,
            "grid_row": null,
            "grid_template_areas": null,
            "grid_template_columns": null,
            "grid_template_rows": null,
            "height": null,
            "justify_content": null,
            "justify_items": null,
            "left": null,
            "margin": null,
            "max_height": null,
            "max_width": null,
            "min_height": null,
            "min_width": null,
            "object_fit": null,
            "object_position": null,
            "order": null,
            "overflow": null,
            "overflow_x": null,
            "overflow_y": null,
            "padding": null,
            "right": null,
            "top": null,
            "visibility": null,
            "width": null
          }
        },
        "a3f2ec5baca046049944c09635c3776a": {
          "model_module": "@jupyter-widgets/base",
          "model_name": "LayoutModel",
          "model_module_version": "1.2.0",
          "state": {
            "_model_module": "@jupyter-widgets/base",
            "_model_module_version": "1.2.0",
            "_model_name": "LayoutModel",
            "_view_count": null,
            "_view_module": "@jupyter-widgets/base",
            "_view_module_version": "1.2.0",
            "_view_name": "LayoutView",
            "align_content": null,
            "align_items": null,
            "align_self": null,
            "border": null,
            "bottom": null,
            "display": null,
            "flex": null,
            "flex_flow": null,
            "grid_area": null,
            "grid_auto_columns": null,
            "grid_auto_flow": null,
            "grid_auto_rows": null,
            "grid_column": null,
            "grid_gap": null,
            "grid_row": null,
            "grid_template_areas": null,
            "grid_template_columns": null,
            "grid_template_rows": null,
            "height": null,
            "justify_content": null,
            "justify_items": null,
            "left": null,
            "margin": null,
            "max_height": null,
            "max_width": null,
            "min_height": null,
            "min_width": null,
            "object_fit": null,
            "object_position": null,
            "order": null,
            "overflow": null,
            "overflow_x": null,
            "overflow_y": null,
            "padding": null,
            "right": null,
            "top": null,
            "visibility": null,
            "width": null
          }
        },
        "913fc529cb344d57b0d37f4a58642d87": {
          "model_module": "@jupyter-widgets/controls",
          "model_name": "DescriptionStyleModel",
          "model_module_version": "1.5.0",
          "state": {
            "_model_module": "@jupyter-widgets/controls",
            "_model_module_version": "1.5.0",
            "_model_name": "DescriptionStyleModel",
            "_view_count": null,
            "_view_module": "@jupyter-widgets/base",
            "_view_module_version": "1.2.0",
            "_view_name": "StyleView",
            "description_width": ""
          }
        },
        "72e30b437b6d42d890baa0edbdcb5d24": {
          "model_module": "@jupyter-widgets/base",
          "model_name": "LayoutModel",
          "model_module_version": "1.2.0",
          "state": {
            "_model_module": "@jupyter-widgets/base",
            "_model_module_version": "1.2.0",
            "_model_name": "LayoutModel",
            "_view_count": null,
            "_view_module": "@jupyter-widgets/base",
            "_view_module_version": "1.2.0",
            "_view_name": "LayoutView",
            "align_content": null,
            "align_items": null,
            "align_self": null,
            "border": null,
            "bottom": null,
            "display": null,
            "flex": null,
            "flex_flow": null,
            "grid_area": null,
            "grid_auto_columns": null,
            "grid_auto_flow": null,
            "grid_auto_rows": null,
            "grid_column": null,
            "grid_gap": null,
            "grid_row": null,
            "grid_template_areas": null,
            "grid_template_columns": null,
            "grid_template_rows": null,
            "height": null,
            "justify_content": null,
            "justify_items": null,
            "left": null,
            "margin": null,
            "max_height": null,
            "max_width": null,
            "min_height": null,
            "min_width": null,
            "object_fit": null,
            "object_position": null,
            "order": null,
            "overflow": null,
            "overflow_x": null,
            "overflow_y": null,
            "padding": null,
            "right": null,
            "top": null,
            "visibility": null,
            "width": null
          }
        },
        "0619b14f745744bd9edcd55ca5579664": {
          "model_module": "@jupyter-widgets/controls",
          "model_name": "ProgressStyleModel",
          "model_module_version": "1.5.0",
          "state": {
            "_model_module": "@jupyter-widgets/controls",
            "_model_module_version": "1.5.0",
            "_model_name": "ProgressStyleModel",
            "_view_count": null,
            "_view_module": "@jupyter-widgets/base",
            "_view_module_version": "1.2.0",
            "_view_name": "StyleView",
            "bar_color": null,
            "description_width": ""
          }
        },
        "cba490029048459887d19757d7a4a1fc": {
          "model_module": "@jupyter-widgets/base",
          "model_name": "LayoutModel",
          "model_module_version": "1.2.0",
          "state": {
            "_model_module": "@jupyter-widgets/base",
            "_model_module_version": "1.2.0",
            "_model_name": "LayoutModel",
            "_view_count": null,
            "_view_module": "@jupyter-widgets/base",
            "_view_module_version": "1.2.0",
            "_view_name": "LayoutView",
            "align_content": null,
            "align_items": null,
            "align_self": null,
            "border": null,
            "bottom": null,
            "display": null,
            "flex": null,
            "flex_flow": null,
            "grid_area": null,
            "grid_auto_columns": null,
            "grid_auto_flow": null,
            "grid_auto_rows": null,
            "grid_column": null,
            "grid_gap": null,
            "grid_row": null,
            "grid_template_areas": null,
            "grid_template_columns": null,
            "grid_template_rows": null,
            "height": null,
            "justify_content": null,
            "justify_items": null,
            "left": null,
            "margin": null,
            "max_height": null,
            "max_width": null,
            "min_height": null,
            "min_width": null,
            "object_fit": null,
            "object_position": null,
            "order": null,
            "overflow": null,
            "overflow_x": null,
            "overflow_y": null,
            "padding": null,
            "right": null,
            "top": null,
            "visibility": null,
            "width": null
          }
        },
        "6075e17dc0d342cfadc3fe2b8dc48c1b": {
          "model_module": "@jupyter-widgets/controls",
          "model_name": "DescriptionStyleModel",
          "model_module_version": "1.5.0",
          "state": {
            "_model_module": "@jupyter-widgets/controls",
            "_model_module_version": "1.5.0",
            "_model_name": "DescriptionStyleModel",
            "_view_count": null,
            "_view_module": "@jupyter-widgets/base",
            "_view_module_version": "1.2.0",
            "_view_name": "StyleView",
            "description_width": ""
          }
        },
        "96efac9d7f1649bfa335b562f04e885e": {
          "model_module": "@jupyter-widgets/controls",
          "model_name": "HBoxModel",
          "model_module_version": "1.5.0",
          "state": {
            "_dom_classes": [],
            "_model_module": "@jupyter-widgets/controls",
            "_model_module_version": "1.5.0",
            "_model_name": "HBoxModel",
            "_view_count": null,
            "_view_module": "@jupyter-widgets/controls",
            "_view_module_version": "1.5.0",
            "_view_name": "HBoxView",
            "box_style": "",
            "children": [
              "IPY_MODEL_976b99607e40477c910e429eae9f46af",
              "IPY_MODEL_ad27589e903a4c15a4b74d9018c64c4b",
              "IPY_MODEL_a1452540a7e0487c8a953d01d6096174"
            ],
            "layout": "IPY_MODEL_0da3e01474b44e218ce319f176540a45"
          }
        },
        "976b99607e40477c910e429eae9f46af": {
          "model_module": "@jupyter-widgets/controls",
          "model_name": "HTMLModel",
          "model_module_version": "1.5.0",
          "state": {
            "_dom_classes": [],
            "_model_module": "@jupyter-widgets/controls",
            "_model_module_version": "1.5.0",
            "_model_name": "HTMLModel",
            "_view_count": null,
            "_view_module": "@jupyter-widgets/controls",
            "_view_module_version": "1.5.0",
            "_view_name": "HTMLView",
            "description": "",
            "description_tooltip": null,
            "layout": "IPY_MODEL_0d253ec137814d3faa384f9f00e004db",
            "placeholder": "​",
            "style": "IPY_MODEL_7b4a3601d5434b94a4e5b2392d2a7867",
            "value": ""
          }
        },
        "ad27589e903a4c15a4b74d9018c64c4b": {
          "model_module": "@jupyter-widgets/controls",
          "model_name": "FloatProgressModel",
          "model_module_version": "1.5.0",
          "state": {
            "_dom_classes": [],
            "_model_module": "@jupyter-widgets/controls",
            "_model_module_version": "1.5.0",
            "_model_name": "FloatProgressModel",
            "_view_count": null,
            "_view_module": "@jupyter-widgets/controls",
            "_view_module_version": "1.5.0",
            "_view_name": "ProgressView",
            "bar_style": "info",
            "description": "",
            "description_tooltip": null,
            "layout": "IPY_MODEL_2ace5dac0a2e4cd09e06411c1aa63bd9",
            "max": 1,
            "min": 0,
            "orientation": "horizontal",
            "style": "IPY_MODEL_a9e1d77501a342d89f19a93a34916b4e",
            "value": 1
          }
        },
        "a1452540a7e0487c8a953d01d6096174": {
          "model_module": "@jupyter-widgets/controls",
          "model_name": "HTMLModel",
          "model_module_version": "1.5.0",
          "state": {
            "_dom_classes": [],
            "_model_module": "@jupyter-widgets/controls",
            "_model_module_version": "1.5.0",
            "_model_name": "HTMLModel",
            "_view_count": null,
            "_view_module": "@jupyter-widgets/controls",
            "_view_module_version": "1.5.0",
            "_view_name": "HTMLView",
            "description": "",
            "description_tooltip": null,
            "layout": "IPY_MODEL_cd8f2935ad484123a0efd0a6566b4511",
            "placeholder": "​",
            "style": "IPY_MODEL_ad381eb53d62405bbc450ea76ec8c7e6",
            "value": " 4606/0 [00:04&lt;00:00, 1027.81 examples/s]"
          }
        },
        "0da3e01474b44e218ce319f176540a45": {
          "model_module": "@jupyter-widgets/base",
          "model_name": "LayoutModel",
          "model_module_version": "1.2.0",
          "state": {
            "_model_module": "@jupyter-widgets/base",
            "_model_module_version": "1.2.0",
            "_model_name": "LayoutModel",
            "_view_count": null,
            "_view_module": "@jupyter-widgets/base",
            "_view_module_version": "1.2.0",
            "_view_name": "LayoutView",
            "align_content": null,
            "align_items": null,
            "align_self": null,
            "border": null,
            "bottom": null,
            "display": null,
            "flex": null,
            "flex_flow": null,
            "grid_area": null,
            "grid_auto_columns": null,
            "grid_auto_flow": null,
            "grid_auto_rows": null,
            "grid_column": null,
            "grid_gap": null,
            "grid_row": null,
            "grid_template_areas": null,
            "grid_template_columns": null,
            "grid_template_rows": null,
            "height": null,
            "justify_content": null,
            "justify_items": null,
            "left": null,
            "margin": null,
            "max_height": null,
            "max_width": null,
            "min_height": null,
            "min_width": null,
            "object_fit": null,
            "object_position": null,
            "order": null,
            "overflow": null,
            "overflow_x": null,
            "overflow_y": null,
            "padding": null,
            "right": null,
            "top": null,
            "visibility": null,
            "width": null
          }
        },
        "0d253ec137814d3faa384f9f00e004db": {
          "model_module": "@jupyter-widgets/base",
          "model_name": "LayoutModel",
          "model_module_version": "1.2.0",
          "state": {
            "_model_module": "@jupyter-widgets/base",
            "_model_module_version": "1.2.0",
            "_model_name": "LayoutModel",
            "_view_count": null,
            "_view_module": "@jupyter-widgets/base",
            "_view_module_version": "1.2.0",
            "_view_name": "LayoutView",
            "align_content": null,
            "align_items": null,
            "align_self": null,
            "border": null,
            "bottom": null,
            "display": null,
            "flex": null,
            "flex_flow": null,
            "grid_area": null,
            "grid_auto_columns": null,
            "grid_auto_flow": null,
            "grid_auto_rows": null,
            "grid_column": null,
            "grid_gap": null,
            "grid_row": null,
            "grid_template_areas": null,
            "grid_template_columns": null,
            "grid_template_rows": null,
            "height": null,
            "justify_content": null,
            "justify_items": null,
            "left": null,
            "margin": null,
            "max_height": null,
            "max_width": null,
            "min_height": null,
            "min_width": null,
            "object_fit": null,
            "object_position": null,
            "order": null,
            "overflow": null,
            "overflow_x": null,
            "overflow_y": null,
            "padding": null,
            "right": null,
            "top": null,
            "visibility": null,
            "width": null
          }
        },
        "7b4a3601d5434b94a4e5b2392d2a7867": {
          "model_module": "@jupyter-widgets/controls",
          "model_name": "DescriptionStyleModel",
          "model_module_version": "1.5.0",
          "state": {
            "_model_module": "@jupyter-widgets/controls",
            "_model_module_version": "1.5.0",
            "_model_name": "DescriptionStyleModel",
            "_view_count": null,
            "_view_module": "@jupyter-widgets/base",
            "_view_module_version": "1.2.0",
            "_view_name": "StyleView",
            "description_width": ""
          }
        },
        "2ace5dac0a2e4cd09e06411c1aa63bd9": {
          "model_module": "@jupyter-widgets/base",
          "model_name": "LayoutModel",
          "model_module_version": "1.2.0",
          "state": {
            "_model_module": "@jupyter-widgets/base",
            "_model_module_version": "1.2.0",
            "_model_name": "LayoutModel",
            "_view_count": null,
            "_view_module": "@jupyter-widgets/base",
            "_view_module_version": "1.2.0",
            "_view_name": "LayoutView",
            "align_content": null,
            "align_items": null,
            "align_self": null,
            "border": null,
            "bottom": null,
            "display": null,
            "flex": null,
            "flex_flow": null,
            "grid_area": null,
            "grid_auto_columns": null,
            "grid_auto_flow": null,
            "grid_auto_rows": null,
            "grid_column": null,
            "grid_gap": null,
            "grid_row": null,
            "grid_template_areas": null,
            "grid_template_columns": null,
            "grid_template_rows": null,
            "height": null,
            "justify_content": null,
            "justify_items": null,
            "left": null,
            "margin": null,
            "max_height": null,
            "max_width": null,
            "min_height": null,
            "min_width": null,
            "object_fit": null,
            "object_position": null,
            "order": null,
            "overflow": null,
            "overflow_x": null,
            "overflow_y": null,
            "padding": null,
            "right": null,
            "top": null,
            "visibility": null,
            "width": "20px"
          }
        },
        "a9e1d77501a342d89f19a93a34916b4e": {
          "model_module": "@jupyter-widgets/controls",
          "model_name": "ProgressStyleModel",
          "model_module_version": "1.5.0",
          "state": {
            "_model_module": "@jupyter-widgets/controls",
            "_model_module_version": "1.5.0",
            "_model_name": "ProgressStyleModel",
            "_view_count": null,
            "_view_module": "@jupyter-widgets/base",
            "_view_module_version": "1.2.0",
            "_view_name": "StyleView",
            "bar_color": null,
            "description_width": ""
          }
        },
        "cd8f2935ad484123a0efd0a6566b4511": {
          "model_module": "@jupyter-widgets/base",
          "model_name": "LayoutModel",
          "model_module_version": "1.2.0",
          "state": {
            "_model_module": "@jupyter-widgets/base",
            "_model_module_version": "1.2.0",
            "_model_name": "LayoutModel",
            "_view_count": null,
            "_view_module": "@jupyter-widgets/base",
            "_view_module_version": "1.2.0",
            "_view_name": "LayoutView",
            "align_content": null,
            "align_items": null,
            "align_self": null,
            "border": null,
            "bottom": null,
            "display": null,
            "flex": null,
            "flex_flow": null,
            "grid_area": null,
            "grid_auto_columns": null,
            "grid_auto_flow": null,
            "grid_auto_rows": null,
            "grid_column": null,
            "grid_gap": null,
            "grid_row": null,
            "grid_template_areas": null,
            "grid_template_columns": null,
            "grid_template_rows": null,
            "height": null,
            "justify_content": null,
            "justify_items": null,
            "left": null,
            "margin": null,
            "max_height": null,
            "max_width": null,
            "min_height": null,
            "min_width": null,
            "object_fit": null,
            "object_position": null,
            "order": null,
            "overflow": null,
            "overflow_x": null,
            "overflow_y": null,
            "padding": null,
            "right": null,
            "top": null,
            "visibility": null,
            "width": null
          }
        },
        "ad381eb53d62405bbc450ea76ec8c7e6": {
          "model_module": "@jupyter-widgets/controls",
          "model_name": "DescriptionStyleModel",
          "model_module_version": "1.5.0",
          "state": {
            "_model_module": "@jupyter-widgets/controls",
            "_model_module_version": "1.5.0",
            "_model_name": "DescriptionStyleModel",
            "_view_count": null,
            "_view_module": "@jupyter-widgets/base",
            "_view_module_version": "1.2.0",
            "_view_name": "StyleView",
            "description_width": ""
          }
        },
        "9d1daf4252114eadb5694e0386611d6c": {
          "model_module": "@jupyter-widgets/controls",
          "model_name": "HBoxModel",
          "model_module_version": "1.5.0",
          "state": {
            "_dom_classes": [],
            "_model_module": "@jupyter-widgets/controls",
            "_model_module_version": "1.5.0",
            "_model_name": "HBoxModel",
            "_view_count": null,
            "_view_module": "@jupyter-widgets/controls",
            "_view_module_version": "1.5.0",
            "_view_name": "HBoxView",
            "box_style": "",
            "children": [
              "IPY_MODEL_5227b99db82e4c33845b5bf38d855708",
              "IPY_MODEL_db3df709295644fba2f5bec8cae17a95",
              "IPY_MODEL_a70f4a1782b34863a2adc56cb7db4f25"
            ],
            "layout": "IPY_MODEL_d63e1d53acc94ba2951c457ca426b731"
          }
        },
        "5227b99db82e4c33845b5bf38d855708": {
          "model_module": "@jupyter-widgets/controls",
          "model_name": "HTMLModel",
          "model_module_version": "1.5.0",
          "state": {
            "_dom_classes": [],
            "_model_module": "@jupyter-widgets/controls",
            "_model_module_version": "1.5.0",
            "_model_name": "HTMLModel",
            "_view_count": null,
            "_view_module": "@jupyter-widgets/controls",
            "_view_module_version": "1.5.0",
            "_view_name": "HTMLView",
            "description": "",
            "description_tooltip": null,
            "layout": "IPY_MODEL_b13cf1926b8d45bf8a0ea9aa236bbcf7",
            "placeholder": "​",
            "style": "IPY_MODEL_4f40829704e448a18e666f21adf4370e",
            "value": ""
          }
        },
        "db3df709295644fba2f5bec8cae17a95": {
          "model_module": "@jupyter-widgets/controls",
          "model_name": "FloatProgressModel",
          "model_module_version": "1.5.0",
          "state": {
            "_dom_classes": [],
            "_model_module": "@jupyter-widgets/controls",
            "_model_module_version": "1.5.0",
            "_model_name": "FloatProgressModel",
            "_view_count": null,
            "_view_module": "@jupyter-widgets/controls",
            "_view_module_version": "1.5.0",
            "_view_name": "ProgressView",
            "bar_style": "info",
            "description": "",
            "description_tooltip": null,
            "layout": "IPY_MODEL_9e687d2e6ac0465a96721bdd2e92ad01",
            "max": 1,
            "min": 0,
            "orientation": "horizontal",
            "style": "IPY_MODEL_b5f238c8be4c437c94b977018a9bcf7b",
            "value": 1
          }
        },
        "a70f4a1782b34863a2adc56cb7db4f25": {
          "model_module": "@jupyter-widgets/controls",
          "model_name": "HTMLModel",
          "model_module_version": "1.5.0",
          "state": {
            "_dom_classes": [],
            "_model_module": "@jupyter-widgets/controls",
            "_model_module_version": "1.5.0",
            "_model_name": "HTMLModel",
            "_view_count": null,
            "_view_module": "@jupyter-widgets/controls",
            "_view_module_version": "1.5.0",
            "_view_name": "HTMLView",
            "description": "",
            "description_tooltip": null,
            "layout": "IPY_MODEL_ad2d43b5f935408281c2ed85f722e506",
            "placeholder": "​",
            "style": "IPY_MODEL_c604125686a74a2484ef039e663f26b0",
            "value": " 1676/0 [00:01&lt;00:00, 1010.14 examples/s]"
          }
        },
        "d63e1d53acc94ba2951c457ca426b731": {
          "model_module": "@jupyter-widgets/base",
          "model_name": "LayoutModel",
          "model_module_version": "1.2.0",
          "state": {
            "_model_module": "@jupyter-widgets/base",
            "_model_module_version": "1.2.0",
            "_model_name": "LayoutModel",
            "_view_count": null,
            "_view_module": "@jupyter-widgets/base",
            "_view_module_version": "1.2.0",
            "_view_name": "LayoutView",
            "align_content": null,
            "align_items": null,
            "align_self": null,
            "border": null,
            "bottom": null,
            "display": null,
            "flex": null,
            "flex_flow": null,
            "grid_area": null,
            "grid_auto_columns": null,
            "grid_auto_flow": null,
            "grid_auto_rows": null,
            "grid_column": null,
            "grid_gap": null,
            "grid_row": null,
            "grid_template_areas": null,
            "grid_template_columns": null,
            "grid_template_rows": null,
            "height": null,
            "justify_content": null,
            "justify_items": null,
            "left": null,
            "margin": null,
            "max_height": null,
            "max_width": null,
            "min_height": null,
            "min_width": null,
            "object_fit": null,
            "object_position": null,
            "order": null,
            "overflow": null,
            "overflow_x": null,
            "overflow_y": null,
            "padding": null,
            "right": null,
            "top": null,
            "visibility": null,
            "width": null
          }
        },
        "b13cf1926b8d45bf8a0ea9aa236bbcf7": {
          "model_module": "@jupyter-widgets/base",
          "model_name": "LayoutModel",
          "model_module_version": "1.2.0",
          "state": {
            "_model_module": "@jupyter-widgets/base",
            "_model_module_version": "1.2.0",
            "_model_name": "LayoutModel",
            "_view_count": null,
            "_view_module": "@jupyter-widgets/base",
            "_view_module_version": "1.2.0",
            "_view_name": "LayoutView",
            "align_content": null,
            "align_items": null,
            "align_self": null,
            "border": null,
            "bottom": null,
            "display": null,
            "flex": null,
            "flex_flow": null,
            "grid_area": null,
            "grid_auto_columns": null,
            "grid_auto_flow": null,
            "grid_auto_rows": null,
            "grid_column": null,
            "grid_gap": null,
            "grid_row": null,
            "grid_template_areas": null,
            "grid_template_columns": null,
            "grid_template_rows": null,
            "height": null,
            "justify_content": null,
            "justify_items": null,
            "left": null,
            "margin": null,
            "max_height": null,
            "max_width": null,
            "min_height": null,
            "min_width": null,
            "object_fit": null,
            "object_position": null,
            "order": null,
            "overflow": null,
            "overflow_x": null,
            "overflow_y": null,
            "padding": null,
            "right": null,
            "top": null,
            "visibility": null,
            "width": null
          }
        },
        "4f40829704e448a18e666f21adf4370e": {
          "model_module": "@jupyter-widgets/controls",
          "model_name": "DescriptionStyleModel",
          "model_module_version": "1.5.0",
          "state": {
            "_model_module": "@jupyter-widgets/controls",
            "_model_module_version": "1.5.0",
            "_model_name": "DescriptionStyleModel",
            "_view_count": null,
            "_view_module": "@jupyter-widgets/base",
            "_view_module_version": "1.2.0",
            "_view_name": "StyleView",
            "description_width": ""
          }
        },
        "9e687d2e6ac0465a96721bdd2e92ad01": {
          "model_module": "@jupyter-widgets/base",
          "model_name": "LayoutModel",
          "model_module_version": "1.2.0",
          "state": {
            "_model_module": "@jupyter-widgets/base",
            "_model_module_version": "1.2.0",
            "_model_name": "LayoutModel",
            "_view_count": null,
            "_view_module": "@jupyter-widgets/base",
            "_view_module_version": "1.2.0",
            "_view_name": "LayoutView",
            "align_content": null,
            "align_items": null,
            "align_self": null,
            "border": null,
            "bottom": null,
            "display": null,
            "flex": null,
            "flex_flow": null,
            "grid_area": null,
            "grid_auto_columns": null,
            "grid_auto_flow": null,
            "grid_auto_rows": null,
            "grid_column": null,
            "grid_gap": null,
            "grid_row": null,
            "grid_template_areas": null,
            "grid_template_columns": null,
            "grid_template_rows": null,
            "height": null,
            "justify_content": null,
            "justify_items": null,
            "left": null,
            "margin": null,
            "max_height": null,
            "max_width": null,
            "min_height": null,
            "min_width": null,
            "object_fit": null,
            "object_position": null,
            "order": null,
            "overflow": null,
            "overflow_x": null,
            "overflow_y": null,
            "padding": null,
            "right": null,
            "top": null,
            "visibility": null,
            "width": "20px"
          }
        },
        "b5f238c8be4c437c94b977018a9bcf7b": {
          "model_module": "@jupyter-widgets/controls",
          "model_name": "ProgressStyleModel",
          "model_module_version": "1.5.0",
          "state": {
            "_model_module": "@jupyter-widgets/controls",
            "_model_module_version": "1.5.0",
            "_model_name": "ProgressStyleModel",
            "_view_count": null,
            "_view_module": "@jupyter-widgets/base",
            "_view_module_version": "1.2.0",
            "_view_name": "StyleView",
            "bar_color": null,
            "description_width": ""
          }
        },
        "ad2d43b5f935408281c2ed85f722e506": {
          "model_module": "@jupyter-widgets/base",
          "model_name": "LayoutModel",
          "model_module_version": "1.2.0",
          "state": {
            "_model_module": "@jupyter-widgets/base",
            "_model_module_version": "1.2.0",
            "_model_name": "LayoutModel",
            "_view_count": null,
            "_view_module": "@jupyter-widgets/base",
            "_view_module_version": "1.2.0",
            "_view_name": "LayoutView",
            "align_content": null,
            "align_items": null,
            "align_self": null,
            "border": null,
            "bottom": null,
            "display": null,
            "flex": null,
            "flex_flow": null,
            "grid_area": null,
            "grid_auto_columns": null,
            "grid_auto_flow": null,
            "grid_auto_rows": null,
            "grid_column": null,
            "grid_gap": null,
            "grid_row": null,
            "grid_template_areas": null,
            "grid_template_columns": null,
            "grid_template_rows": null,
            "height": null,
            "justify_content": null,
            "justify_items": null,
            "left": null,
            "margin": null,
            "max_height": null,
            "max_width": null,
            "min_height": null,
            "min_width": null,
            "object_fit": null,
            "object_position": null,
            "order": null,
            "overflow": null,
            "overflow_x": null,
            "overflow_y": null,
            "padding": null,
            "right": null,
            "top": null,
            "visibility": null,
            "width": null
          }
        },
        "c604125686a74a2484ef039e663f26b0": {
          "model_module": "@jupyter-widgets/controls",
          "model_name": "DescriptionStyleModel",
          "model_module_version": "1.5.0",
          "state": {
            "_model_module": "@jupyter-widgets/controls",
            "_model_module_version": "1.5.0",
            "_model_name": "DescriptionStyleModel",
            "_view_count": null,
            "_view_module": "@jupyter-widgets/base",
            "_view_module_version": "1.2.0",
            "_view_name": "StyleView",
            "description_width": ""
          }
        },
        "c1a25e4e1d164f1da935107594ad9915": {
          "model_module": "@jupyter-widgets/controls",
          "model_name": "HBoxModel",
          "model_module_version": "1.5.0",
          "state": {
            "_dom_classes": [],
            "_model_module": "@jupyter-widgets/controls",
            "_model_module_version": "1.5.0",
            "_model_name": "HBoxModel",
            "_view_count": null,
            "_view_module": "@jupyter-widgets/controls",
            "_view_module_version": "1.5.0",
            "_view_name": "HBoxView",
            "box_style": "",
            "children": [
              "IPY_MODEL_19ee1bb548274e9ab381fab5c8633c55",
              "IPY_MODEL_dd21571d9c324b05b3cd035da66bb60a",
              "IPY_MODEL_3a6a8144555645288925447a71d3d703"
            ],
            "layout": "IPY_MODEL_3de4d2a300424244932971da14dd7197"
          }
        },
        "19ee1bb548274e9ab381fab5c8633c55": {
          "model_module": "@jupyter-widgets/controls",
          "model_name": "HTMLModel",
          "model_module_version": "1.5.0",
          "state": {
            "_dom_classes": [],
            "_model_module": "@jupyter-widgets/controls",
            "_model_module_version": "1.5.0",
            "_model_name": "HTMLModel",
            "_view_count": null,
            "_view_module": "@jupyter-widgets/controls",
            "_view_module_version": "1.5.0",
            "_view_name": "HTMLView",
            "description": "",
            "description_tooltip": null,
            "layout": "IPY_MODEL_a01be10d07dc4b1bb1bbe674acc88463",
            "placeholder": "​",
            "style": "IPY_MODEL_5e11fa5a80594a40a3a5d305788bf879",
            "value": "100%"
          }
        },
        "dd21571d9c324b05b3cd035da66bb60a": {
          "model_module": "@jupyter-widgets/controls",
          "model_name": "FloatProgressModel",
          "model_module_version": "1.5.0",
          "state": {
            "_dom_classes": [],
            "_model_module": "@jupyter-widgets/controls",
            "_model_module_version": "1.5.0",
            "_model_name": "FloatProgressModel",
            "_view_count": null,
            "_view_module": "@jupyter-widgets/controls",
            "_view_module_version": "1.5.0",
            "_view_name": "ProgressView",
            "bar_style": "success",
            "description": "",
            "description_tooltip": null,
            "layout": "IPY_MODEL_dfe26282832746b1b0d194d91b2724c0",
            "max": 2,
            "min": 0,
            "orientation": "horizontal",
            "style": "IPY_MODEL_c4d78efee2a24700a7fc678513178422",
            "value": 2
          }
        },
        "3a6a8144555645288925447a71d3d703": {
          "model_module": "@jupyter-widgets/controls",
          "model_name": "HTMLModel",
          "model_module_version": "1.5.0",
          "state": {
            "_dom_classes": [],
            "_model_module": "@jupyter-widgets/controls",
            "_model_module_version": "1.5.0",
            "_model_name": "HTMLModel",
            "_view_count": null,
            "_view_module": "@jupyter-widgets/controls",
            "_view_module_version": "1.5.0",
            "_view_name": "HTMLView",
            "description": "",
            "description_tooltip": null,
            "layout": "IPY_MODEL_c217e0f7d88d41d8a27b533bd8bc509e",
            "placeholder": "​",
            "style": "IPY_MODEL_f039bc22569241888c0db353cca6ab80",
            "value": " 2/2 [00:00&lt;00:00, 57.44it/s]"
          }
        },
        "3de4d2a300424244932971da14dd7197": {
          "model_module": "@jupyter-widgets/base",
          "model_name": "LayoutModel",
          "model_module_version": "1.2.0",
          "state": {
            "_model_module": "@jupyter-widgets/base",
            "_model_module_version": "1.2.0",
            "_model_name": "LayoutModel",
            "_view_count": null,
            "_view_module": "@jupyter-widgets/base",
            "_view_module_version": "1.2.0",
            "_view_name": "LayoutView",
            "align_content": null,
            "align_items": null,
            "align_self": null,
            "border": null,
            "bottom": null,
            "display": null,
            "flex": null,
            "flex_flow": null,
            "grid_area": null,
            "grid_auto_columns": null,
            "grid_auto_flow": null,
            "grid_auto_rows": null,
            "grid_column": null,
            "grid_gap": null,
            "grid_row": null,
            "grid_template_areas": null,
            "grid_template_columns": null,
            "grid_template_rows": null,
            "height": null,
            "justify_content": null,
            "justify_items": null,
            "left": null,
            "margin": null,
            "max_height": null,
            "max_width": null,
            "min_height": null,
            "min_width": null,
            "object_fit": null,
            "object_position": null,
            "order": null,
            "overflow": null,
            "overflow_x": null,
            "overflow_y": null,
            "padding": null,
            "right": null,
            "top": null,
            "visibility": null,
            "width": null
          }
        },
        "a01be10d07dc4b1bb1bbe674acc88463": {
          "model_module": "@jupyter-widgets/base",
          "model_name": "LayoutModel",
          "model_module_version": "1.2.0",
          "state": {
            "_model_module": "@jupyter-widgets/base",
            "_model_module_version": "1.2.0",
            "_model_name": "LayoutModel",
            "_view_count": null,
            "_view_module": "@jupyter-widgets/base",
            "_view_module_version": "1.2.0",
            "_view_name": "LayoutView",
            "align_content": null,
            "align_items": null,
            "align_self": null,
            "border": null,
            "bottom": null,
            "display": null,
            "flex": null,
            "flex_flow": null,
            "grid_area": null,
            "grid_auto_columns": null,
            "grid_auto_flow": null,
            "grid_auto_rows": null,
            "grid_column": null,
            "grid_gap": null,
            "grid_row": null,
            "grid_template_areas": null,
            "grid_template_columns": null,
            "grid_template_rows": null,
            "height": null,
            "justify_content": null,
            "justify_items": null,
            "left": null,
            "margin": null,
            "max_height": null,
            "max_width": null,
            "min_height": null,
            "min_width": null,
            "object_fit": null,
            "object_position": null,
            "order": null,
            "overflow": null,
            "overflow_x": null,
            "overflow_y": null,
            "padding": null,
            "right": null,
            "top": null,
            "visibility": null,
            "width": null
          }
        },
        "5e11fa5a80594a40a3a5d305788bf879": {
          "model_module": "@jupyter-widgets/controls",
          "model_name": "DescriptionStyleModel",
          "model_module_version": "1.5.0",
          "state": {
            "_model_module": "@jupyter-widgets/controls",
            "_model_module_version": "1.5.0",
            "_model_name": "DescriptionStyleModel",
            "_view_count": null,
            "_view_module": "@jupyter-widgets/base",
            "_view_module_version": "1.2.0",
            "_view_name": "StyleView",
            "description_width": ""
          }
        },
        "dfe26282832746b1b0d194d91b2724c0": {
          "model_module": "@jupyter-widgets/base",
          "model_name": "LayoutModel",
          "model_module_version": "1.2.0",
          "state": {
            "_model_module": "@jupyter-widgets/base",
            "_model_module_version": "1.2.0",
            "_model_name": "LayoutModel",
            "_view_count": null,
            "_view_module": "@jupyter-widgets/base",
            "_view_module_version": "1.2.0",
            "_view_name": "LayoutView",
            "align_content": null,
            "align_items": null,
            "align_self": null,
            "border": null,
            "bottom": null,
            "display": null,
            "flex": null,
            "flex_flow": null,
            "grid_area": null,
            "grid_auto_columns": null,
            "grid_auto_flow": null,
            "grid_auto_rows": null,
            "grid_column": null,
            "grid_gap": null,
            "grid_row": null,
            "grid_template_areas": null,
            "grid_template_columns": null,
            "grid_template_rows": null,
            "height": null,
            "justify_content": null,
            "justify_items": null,
            "left": null,
            "margin": null,
            "max_height": null,
            "max_width": null,
            "min_height": null,
            "min_width": null,
            "object_fit": null,
            "object_position": null,
            "order": null,
            "overflow": null,
            "overflow_x": null,
            "overflow_y": null,
            "padding": null,
            "right": null,
            "top": null,
            "visibility": null,
            "width": null
          }
        },
        "c4d78efee2a24700a7fc678513178422": {
          "model_module": "@jupyter-widgets/controls",
          "model_name": "ProgressStyleModel",
          "model_module_version": "1.5.0",
          "state": {
            "_model_module": "@jupyter-widgets/controls",
            "_model_module_version": "1.5.0",
            "_model_name": "ProgressStyleModel",
            "_view_count": null,
            "_view_module": "@jupyter-widgets/base",
            "_view_module_version": "1.2.0",
            "_view_name": "StyleView",
            "bar_color": null,
            "description_width": ""
          }
        },
        "c217e0f7d88d41d8a27b533bd8bc509e": {
          "model_module": "@jupyter-widgets/base",
          "model_name": "LayoutModel",
          "model_module_version": "1.2.0",
          "state": {
            "_model_module": "@jupyter-widgets/base",
            "_model_module_version": "1.2.0",
            "_model_name": "LayoutModel",
            "_view_count": null,
            "_view_module": "@jupyter-widgets/base",
            "_view_module_version": "1.2.0",
            "_view_name": "LayoutView",
            "align_content": null,
            "align_items": null,
            "align_self": null,
            "border": null,
            "bottom": null,
            "display": null,
            "flex": null,
            "flex_flow": null,
            "grid_area": null,
            "grid_auto_columns": null,
            "grid_auto_flow": null,
            "grid_auto_rows": null,
            "grid_column": null,
            "grid_gap": null,
            "grid_row": null,
            "grid_template_areas": null,
            "grid_template_columns": null,
            "grid_template_rows": null,
            "height": null,
            "justify_content": null,
            "justify_items": null,
            "left": null,
            "margin": null,
            "max_height": null,
            "max_width": null,
            "min_height": null,
            "min_width": null,
            "object_fit": null,
            "object_position": null,
            "order": null,
            "overflow": null,
            "overflow_x": null,
            "overflow_y": null,
            "padding": null,
            "right": null,
            "top": null,
            "visibility": null,
            "width": null
          }
        },
        "f039bc22569241888c0db353cca6ab80": {
          "model_module": "@jupyter-widgets/controls",
          "model_name": "DescriptionStyleModel",
          "model_module_version": "1.5.0",
          "state": {
            "_model_module": "@jupyter-widgets/controls",
            "_model_module_version": "1.5.0",
            "_model_name": "DescriptionStyleModel",
            "_view_count": null,
            "_view_module": "@jupyter-widgets/base",
            "_view_module_version": "1.2.0",
            "_view_name": "StyleView",
            "description_width": ""
          }
        },
        "3e97e9be369a4ab1aba97bcd3f503fd9": {
          "model_module": "@jupyter-widgets/controls",
          "model_name": "HBoxModel",
          "model_module_version": "1.5.0",
          "state": {
            "_dom_classes": [],
            "_model_module": "@jupyter-widgets/controls",
            "_model_module_version": "1.5.0",
            "_model_name": "HBoxModel",
            "_view_count": null,
            "_view_module": "@jupyter-widgets/controls",
            "_view_module_version": "1.5.0",
            "_view_name": "HBoxView",
            "box_style": "",
            "children": [
              "IPY_MODEL_0ace776517d84976ba13e3461b606cad",
              "IPY_MODEL_7fb8cd6265eb488bb5a42195fbc12e52",
              "IPY_MODEL_11714b87693b4f458fe2256e9f115f0d"
            ],
            "layout": "IPY_MODEL_d6d8350daef7420a8f8edeceec32ee26"
          }
        },
        "0ace776517d84976ba13e3461b606cad": {
          "model_module": "@jupyter-widgets/controls",
          "model_name": "HTMLModel",
          "model_module_version": "1.5.0",
          "state": {
            "_dom_classes": [],
            "_model_module": "@jupyter-widgets/controls",
            "_model_module_version": "1.5.0",
            "_model_name": "HTMLModel",
            "_view_count": null,
            "_view_module": "@jupyter-widgets/controls",
            "_view_module_version": "1.5.0",
            "_view_name": "HTMLView",
            "description": "",
            "description_tooltip": null,
            "layout": "IPY_MODEL_c9cef08162c4410fbdd7de6acb35572f",
            "placeholder": "​",
            "style": "IPY_MODEL_995bbdf8648348c68b4c1f6ebec9b4a3",
            "value": ""
          }
        },
        "7fb8cd6265eb488bb5a42195fbc12e52": {
          "model_module": "@jupyter-widgets/controls",
          "model_name": "FloatProgressModel",
          "model_module_version": "1.5.0",
          "state": {
            "_dom_classes": [],
            "_model_module": "@jupyter-widgets/controls",
            "_model_module_version": "1.5.0",
            "_model_name": "FloatProgressModel",
            "_view_count": null,
            "_view_module": "@jupyter-widgets/controls",
            "_view_module_version": "1.5.0",
            "_view_name": "ProgressView",
            "bar_style": "success",
            "description": "",
            "description_tooltip": null,
            "layout": "IPY_MODEL_80baa43351824c1a8ab0a5cba1952c2b",
            "max": 1,
            "min": 0,
            "orientation": "horizontal",
            "style": "IPY_MODEL_72b95580ac2046b8bfaa6693db000bee",
            "value": 1
          }
        },
        "11714b87693b4f458fe2256e9f115f0d": {
          "model_module": "@jupyter-widgets/controls",
          "model_name": "HTMLModel",
          "model_module_version": "1.5.0",
          "state": {
            "_dom_classes": [],
            "_model_module": "@jupyter-widgets/controls",
            "_model_module_version": "1.5.0",
            "_model_name": "HTMLModel",
            "_view_count": null,
            "_view_module": "@jupyter-widgets/controls",
            "_view_module_version": "1.5.0",
            "_view_name": "HTMLView",
            "description": "",
            "description_tooltip": null,
            "layout": "IPY_MODEL_2db80deca8d74be5ab1bd0638b056e38",
            "placeholder": "​",
            "style": "IPY_MODEL_119e58fd9d364db1b1f5e363a7b76e06",
            "value": " 4620/? [00:00&lt;00:00, 9438.69ex/s]"
          }
        },
        "d6d8350daef7420a8f8edeceec32ee26": {
          "model_module": "@jupyter-widgets/base",
          "model_name": "LayoutModel",
          "model_module_version": "1.2.0",
          "state": {
            "_model_module": "@jupyter-widgets/base",
            "_model_module_version": "1.2.0",
            "_model_name": "LayoutModel",
            "_view_count": null,
            "_view_module": "@jupyter-widgets/base",
            "_view_module_version": "1.2.0",
            "_view_name": "LayoutView",
            "align_content": null,
            "align_items": null,
            "align_self": null,
            "border": null,
            "bottom": null,
            "display": null,
            "flex": null,
            "flex_flow": null,
            "grid_area": null,
            "grid_auto_columns": null,
            "grid_auto_flow": null,
            "grid_auto_rows": null,
            "grid_column": null,
            "grid_gap": null,
            "grid_row": null,
            "grid_template_areas": null,
            "grid_template_columns": null,
            "grid_template_rows": null,
            "height": null,
            "justify_content": null,
            "justify_items": null,
            "left": null,
            "margin": null,
            "max_height": null,
            "max_width": null,
            "min_height": null,
            "min_width": null,
            "object_fit": null,
            "object_position": null,
            "order": null,
            "overflow": null,
            "overflow_x": null,
            "overflow_y": null,
            "padding": null,
            "right": null,
            "top": null,
            "visibility": null,
            "width": null
          }
        },
        "c9cef08162c4410fbdd7de6acb35572f": {
          "model_module": "@jupyter-widgets/base",
          "model_name": "LayoutModel",
          "model_module_version": "1.2.0",
          "state": {
            "_model_module": "@jupyter-widgets/base",
            "_model_module_version": "1.2.0",
            "_model_name": "LayoutModel",
            "_view_count": null,
            "_view_module": "@jupyter-widgets/base",
            "_view_module_version": "1.2.0",
            "_view_name": "LayoutView",
            "align_content": null,
            "align_items": null,
            "align_self": null,
            "border": null,
            "bottom": null,
            "display": null,
            "flex": null,
            "flex_flow": null,
            "grid_area": null,
            "grid_auto_columns": null,
            "grid_auto_flow": null,
            "grid_auto_rows": null,
            "grid_column": null,
            "grid_gap": null,
            "grid_row": null,
            "grid_template_areas": null,
            "grid_template_columns": null,
            "grid_template_rows": null,
            "height": null,
            "justify_content": null,
            "justify_items": null,
            "left": null,
            "margin": null,
            "max_height": null,
            "max_width": null,
            "min_height": null,
            "min_width": null,
            "object_fit": null,
            "object_position": null,
            "order": null,
            "overflow": null,
            "overflow_x": null,
            "overflow_y": null,
            "padding": null,
            "right": null,
            "top": null,
            "visibility": null,
            "width": null
          }
        },
        "995bbdf8648348c68b4c1f6ebec9b4a3": {
          "model_module": "@jupyter-widgets/controls",
          "model_name": "DescriptionStyleModel",
          "model_module_version": "1.5.0",
          "state": {
            "_model_module": "@jupyter-widgets/controls",
            "_model_module_version": "1.5.0",
            "_model_name": "DescriptionStyleModel",
            "_view_count": null,
            "_view_module": "@jupyter-widgets/base",
            "_view_module_version": "1.2.0",
            "_view_name": "StyleView",
            "description_width": ""
          }
        },
        "80baa43351824c1a8ab0a5cba1952c2b": {
          "model_module": "@jupyter-widgets/base",
          "model_name": "LayoutModel",
          "model_module_version": "1.2.0",
          "state": {
            "_model_module": "@jupyter-widgets/base",
            "_model_module_version": "1.2.0",
            "_model_name": "LayoutModel",
            "_view_count": null,
            "_view_module": "@jupyter-widgets/base",
            "_view_module_version": "1.2.0",
            "_view_name": "LayoutView",
            "align_content": null,
            "align_items": null,
            "align_self": null,
            "border": null,
            "bottom": null,
            "display": null,
            "flex": null,
            "flex_flow": null,
            "grid_area": null,
            "grid_auto_columns": null,
            "grid_auto_flow": null,
            "grid_auto_rows": null,
            "grid_column": null,
            "grid_gap": null,
            "grid_row": null,
            "grid_template_areas": null,
            "grid_template_columns": null,
            "grid_template_rows": null,
            "height": null,
            "justify_content": null,
            "justify_items": null,
            "left": null,
            "margin": null,
            "max_height": null,
            "max_width": null,
            "min_height": null,
            "min_width": null,
            "object_fit": null,
            "object_position": null,
            "order": null,
            "overflow": null,
            "overflow_x": null,
            "overflow_y": null,
            "padding": null,
            "right": null,
            "top": null,
            "visibility": null,
            "width": "20px"
          }
        },
        "72b95580ac2046b8bfaa6693db000bee": {
          "model_module": "@jupyter-widgets/controls",
          "model_name": "ProgressStyleModel",
          "model_module_version": "1.5.0",
          "state": {
            "_model_module": "@jupyter-widgets/controls",
            "_model_module_version": "1.5.0",
            "_model_name": "ProgressStyleModel",
            "_view_count": null,
            "_view_module": "@jupyter-widgets/base",
            "_view_module_version": "1.2.0",
            "_view_name": "StyleView",
            "bar_color": null,
            "description_width": ""
          }
        },
        "2db80deca8d74be5ab1bd0638b056e38": {
          "model_module": "@jupyter-widgets/base",
          "model_name": "LayoutModel",
          "model_module_version": "1.2.0",
          "state": {
            "_model_module": "@jupyter-widgets/base",
            "_model_module_version": "1.2.0",
            "_model_name": "LayoutModel",
            "_view_count": null,
            "_view_module": "@jupyter-widgets/base",
            "_view_module_version": "1.2.0",
            "_view_name": "LayoutView",
            "align_content": null,
            "align_items": null,
            "align_self": null,
            "border": null,
            "bottom": null,
            "display": null,
            "flex": null,
            "flex_flow": null,
            "grid_area": null,
            "grid_auto_columns": null,
            "grid_auto_flow": null,
            "grid_auto_rows": null,
            "grid_column": null,
            "grid_gap": null,
            "grid_row": null,
            "grid_template_areas": null,
            "grid_template_columns": null,
            "grid_template_rows": null,
            "height": null,
            "justify_content": null,
            "justify_items": null,
            "left": null,
            "margin": null,
            "max_height": null,
            "max_width": null,
            "min_height": null,
            "min_width": null,
            "object_fit": null,
            "object_position": null,
            "order": null,
            "overflow": null,
            "overflow_x": null,
            "overflow_y": null,
            "padding": null,
            "right": null,
            "top": null,
            "visibility": null,
            "width": null
          }
        },
        "119e58fd9d364db1b1f5e363a7b76e06": {
          "model_module": "@jupyter-widgets/controls",
          "model_name": "DescriptionStyleModel",
          "model_module_version": "1.5.0",
          "state": {
            "_model_module": "@jupyter-widgets/controls",
            "_model_module_version": "1.5.0",
            "_model_name": "DescriptionStyleModel",
            "_view_count": null,
            "_view_module": "@jupyter-widgets/base",
            "_view_module_version": "1.2.0",
            "_view_name": "StyleView",
            "description_width": ""
          }
        },
        "61a5736252a64840989a86410035a7de": {
          "model_module": "@jupyter-widgets/controls",
          "model_name": "HBoxModel",
          "model_module_version": "1.5.0",
          "state": {
            "_dom_classes": [],
            "_model_module": "@jupyter-widgets/controls",
            "_model_module_version": "1.5.0",
            "_model_name": "HBoxModel",
            "_view_count": null,
            "_view_module": "@jupyter-widgets/controls",
            "_view_module_version": "1.5.0",
            "_view_name": "HBoxView",
            "box_style": "",
            "children": [
              "IPY_MODEL_c11fe5939cde4d7f86b0dd5464f26515",
              "IPY_MODEL_f832fd72b60c4814b982c1c69791e7a1",
              "IPY_MODEL_7195e111ddcd45f3a120a50c5726ccb7"
            ],
            "layout": "IPY_MODEL_9eb46b82f4074f2a9213cf535f3797fd"
          }
        },
        "c11fe5939cde4d7f86b0dd5464f26515": {
          "model_module": "@jupyter-widgets/controls",
          "model_name": "HTMLModel",
          "model_module_version": "1.5.0",
          "state": {
            "_dom_classes": [],
            "_model_module": "@jupyter-widgets/controls",
            "_model_module_version": "1.5.0",
            "_model_name": "HTMLModel",
            "_view_count": null,
            "_view_module": "@jupyter-widgets/controls",
            "_view_module_version": "1.5.0",
            "_view_name": "HTMLView",
            "description": "",
            "description_tooltip": null,
            "layout": "IPY_MODEL_937c19d2676c444da818c7f0efa7e077",
            "placeholder": "​",
            "style": "IPY_MODEL_e3b565e1c9c547c9a06fdfaec8a2cd3d",
            "value": ""
          }
        },
        "f832fd72b60c4814b982c1c69791e7a1": {
          "model_module": "@jupyter-widgets/controls",
          "model_name": "FloatProgressModel",
          "model_module_version": "1.5.0",
          "state": {
            "_dom_classes": [],
            "_model_module": "@jupyter-widgets/controls",
            "_model_module_version": "1.5.0",
            "_model_name": "FloatProgressModel",
            "_view_count": null,
            "_view_module": "@jupyter-widgets/controls",
            "_view_module_version": "1.5.0",
            "_view_name": "ProgressView",
            "bar_style": "success",
            "description": "",
            "description_tooltip": null,
            "layout": "IPY_MODEL_c8620bf90d474d02bef60f7d56f9ccce",
            "max": 1,
            "min": 0,
            "orientation": "horizontal",
            "style": "IPY_MODEL_6422974f1bc84a29b8e3c97be9b3513b",
            "value": 1
          }
        },
        "7195e111ddcd45f3a120a50c5726ccb7": {
          "model_module": "@jupyter-widgets/controls",
          "model_name": "HTMLModel",
          "model_module_version": "1.5.0",
          "state": {
            "_dom_classes": [],
            "_model_module": "@jupyter-widgets/controls",
            "_model_module_version": "1.5.0",
            "_model_name": "HTMLModel",
            "_view_count": null,
            "_view_module": "@jupyter-widgets/controls",
            "_view_module_version": "1.5.0",
            "_view_name": "HTMLView",
            "description": "",
            "description_tooltip": null,
            "layout": "IPY_MODEL_67a948b0a285431bb24921350b2950d5",
            "placeholder": "​",
            "style": "IPY_MODEL_b687affa5e8641a1aa6b9977bc38df28",
            "value": " 1680/? [00:00&lt;00:00, 8067.77ex/s]"
          }
        },
        "9eb46b82f4074f2a9213cf535f3797fd": {
          "model_module": "@jupyter-widgets/base",
          "model_name": "LayoutModel",
          "model_module_version": "1.2.0",
          "state": {
            "_model_module": "@jupyter-widgets/base",
            "_model_module_version": "1.2.0",
            "_model_name": "LayoutModel",
            "_view_count": null,
            "_view_module": "@jupyter-widgets/base",
            "_view_module_version": "1.2.0",
            "_view_name": "LayoutView",
            "align_content": null,
            "align_items": null,
            "align_self": null,
            "border": null,
            "bottom": null,
            "display": null,
            "flex": null,
            "flex_flow": null,
            "grid_area": null,
            "grid_auto_columns": null,
            "grid_auto_flow": null,
            "grid_auto_rows": null,
            "grid_column": null,
            "grid_gap": null,
            "grid_row": null,
            "grid_template_areas": null,
            "grid_template_columns": null,
            "grid_template_rows": null,
            "height": null,
            "justify_content": null,
            "justify_items": null,
            "left": null,
            "margin": null,
            "max_height": null,
            "max_width": null,
            "min_height": null,
            "min_width": null,
            "object_fit": null,
            "object_position": null,
            "order": null,
            "overflow": null,
            "overflow_x": null,
            "overflow_y": null,
            "padding": null,
            "right": null,
            "top": null,
            "visibility": null,
            "width": null
          }
        },
        "937c19d2676c444da818c7f0efa7e077": {
          "model_module": "@jupyter-widgets/base",
          "model_name": "LayoutModel",
          "model_module_version": "1.2.0",
          "state": {
            "_model_module": "@jupyter-widgets/base",
            "_model_module_version": "1.2.0",
            "_model_name": "LayoutModel",
            "_view_count": null,
            "_view_module": "@jupyter-widgets/base",
            "_view_module_version": "1.2.0",
            "_view_name": "LayoutView",
            "align_content": null,
            "align_items": null,
            "align_self": null,
            "border": null,
            "bottom": null,
            "display": null,
            "flex": null,
            "flex_flow": null,
            "grid_area": null,
            "grid_auto_columns": null,
            "grid_auto_flow": null,
            "grid_auto_rows": null,
            "grid_column": null,
            "grid_gap": null,
            "grid_row": null,
            "grid_template_areas": null,
            "grid_template_columns": null,
            "grid_template_rows": null,
            "height": null,
            "justify_content": null,
            "justify_items": null,
            "left": null,
            "margin": null,
            "max_height": null,
            "max_width": null,
            "min_height": null,
            "min_width": null,
            "object_fit": null,
            "object_position": null,
            "order": null,
            "overflow": null,
            "overflow_x": null,
            "overflow_y": null,
            "padding": null,
            "right": null,
            "top": null,
            "visibility": null,
            "width": null
          }
        },
        "e3b565e1c9c547c9a06fdfaec8a2cd3d": {
          "model_module": "@jupyter-widgets/controls",
          "model_name": "DescriptionStyleModel",
          "model_module_version": "1.5.0",
          "state": {
            "_model_module": "@jupyter-widgets/controls",
            "_model_module_version": "1.5.0",
            "_model_name": "DescriptionStyleModel",
            "_view_count": null,
            "_view_module": "@jupyter-widgets/base",
            "_view_module_version": "1.2.0",
            "_view_name": "StyleView",
            "description_width": ""
          }
        },
        "c8620bf90d474d02bef60f7d56f9ccce": {
          "model_module": "@jupyter-widgets/base",
          "model_name": "LayoutModel",
          "model_module_version": "1.2.0",
          "state": {
            "_model_module": "@jupyter-widgets/base",
            "_model_module_version": "1.2.0",
            "_model_name": "LayoutModel",
            "_view_count": null,
            "_view_module": "@jupyter-widgets/base",
            "_view_module_version": "1.2.0",
            "_view_name": "LayoutView",
            "align_content": null,
            "align_items": null,
            "align_self": null,
            "border": null,
            "bottom": null,
            "display": null,
            "flex": null,
            "flex_flow": null,
            "grid_area": null,
            "grid_auto_columns": null,
            "grid_auto_flow": null,
            "grid_auto_rows": null,
            "grid_column": null,
            "grid_gap": null,
            "grid_row": null,
            "grid_template_areas": null,
            "grid_template_columns": null,
            "grid_template_rows": null,
            "height": null,
            "justify_content": null,
            "justify_items": null,
            "left": null,
            "margin": null,
            "max_height": null,
            "max_width": null,
            "min_height": null,
            "min_width": null,
            "object_fit": null,
            "object_position": null,
            "order": null,
            "overflow": null,
            "overflow_x": null,
            "overflow_y": null,
            "padding": null,
            "right": null,
            "top": null,
            "visibility": null,
            "width": "20px"
          }
        },
        "6422974f1bc84a29b8e3c97be9b3513b": {
          "model_module": "@jupyter-widgets/controls",
          "model_name": "ProgressStyleModel",
          "model_module_version": "1.5.0",
          "state": {
            "_model_module": "@jupyter-widgets/controls",
            "_model_module_version": "1.5.0",
            "_model_name": "ProgressStyleModel",
            "_view_count": null,
            "_view_module": "@jupyter-widgets/base",
            "_view_module_version": "1.2.0",
            "_view_name": "StyleView",
            "bar_color": null,
            "description_width": ""
          }
        },
        "67a948b0a285431bb24921350b2950d5": {
          "model_module": "@jupyter-widgets/base",
          "model_name": "LayoutModel",
          "model_module_version": "1.2.0",
          "state": {
            "_model_module": "@jupyter-widgets/base",
            "_model_module_version": "1.2.0",
            "_model_name": "LayoutModel",
            "_view_count": null,
            "_view_module": "@jupyter-widgets/base",
            "_view_module_version": "1.2.0",
            "_view_name": "LayoutView",
            "align_content": null,
            "align_items": null,
            "align_self": null,
            "border": null,
            "bottom": null,
            "display": null,
            "flex": null,
            "flex_flow": null,
            "grid_area": null,
            "grid_auto_columns": null,
            "grid_auto_flow": null,
            "grid_auto_rows": null,
            "grid_column": null,
            "grid_gap": null,
            "grid_row": null,
            "grid_template_areas": null,
            "grid_template_columns": null,
            "grid_template_rows": null,
            "height": null,
            "justify_content": null,
            "justify_items": null,
            "left": null,
            "margin": null,
            "max_height": null,
            "max_width": null,
            "min_height": null,
            "min_width": null,
            "object_fit": null,
            "object_position": null,
            "order": null,
            "overflow": null,
            "overflow_x": null,
            "overflow_y": null,
            "padding": null,
            "right": null,
            "top": null,
            "visibility": null,
            "width": null
          }
        },
        "b687affa5e8641a1aa6b9977bc38df28": {
          "model_module": "@jupyter-widgets/controls",
          "model_name": "DescriptionStyleModel",
          "model_module_version": "1.5.0",
          "state": {
            "_model_module": "@jupyter-widgets/controls",
            "_model_module_version": "1.5.0",
            "_model_name": "DescriptionStyleModel",
            "_view_count": null,
            "_view_module": "@jupyter-widgets/base",
            "_view_module_version": "1.2.0",
            "_view_name": "StyleView",
            "description_width": ""
          }
        },
        "2e74dd573b84455cac0e85ecf4925b58": {
          "model_module": "@jupyter-widgets/controls",
          "model_name": "HBoxModel",
          "model_module_version": "1.5.0",
          "state": {
            "_dom_classes": [],
            "_model_module": "@jupyter-widgets/controls",
            "_model_module_version": "1.5.0",
            "_model_name": "HBoxModel",
            "_view_count": null,
            "_view_module": "@jupyter-widgets/controls",
            "_view_module_version": "1.5.0",
            "_view_name": "HBoxView",
            "box_style": "",
            "children": [
              "IPY_MODEL_f812a1a0890a481c9dee2bffd94012a9",
              "IPY_MODEL_727c7818eb214df6b2c51a3eb62d0ddc",
              "IPY_MODEL_7c8e9fa959cc4c2380aa65f24ef92257"
            ],
            "layout": "IPY_MODEL_bf456e8aecc94c72841ca418a3957146"
          }
        },
        "f812a1a0890a481c9dee2bffd94012a9": {
          "model_module": "@jupyter-widgets/controls",
          "model_name": "HTMLModel",
          "model_module_version": "1.5.0",
          "state": {
            "_dom_classes": [],
            "_model_module": "@jupyter-widgets/controls",
            "_model_module_version": "1.5.0",
            "_model_name": "HTMLModel",
            "_view_count": null,
            "_view_module": "@jupyter-widgets/controls",
            "_view_module_version": "1.5.0",
            "_view_name": "HTMLView",
            "description": "",
            "description_tooltip": null,
            "layout": "IPY_MODEL_d8db7b80156d472c8ff3ae98b3811374",
            "placeholder": "​",
            "style": "IPY_MODEL_7a3e78a726c04205968e4c8119fd2add",
            "value": "100%"
          }
        },
        "727c7818eb214df6b2c51a3eb62d0ddc": {
          "model_module": "@jupyter-widgets/controls",
          "model_name": "FloatProgressModel",
          "model_module_version": "1.5.0",
          "state": {
            "_dom_classes": [],
            "_model_module": "@jupyter-widgets/controls",
            "_model_module_version": "1.5.0",
            "_model_name": "FloatProgressModel",
            "_view_count": null,
            "_view_module": "@jupyter-widgets/controls",
            "_view_module_version": "1.5.0",
            "_view_name": "ProgressView",
            "bar_style": "success",
            "description": "",
            "description_tooltip": null,
            "layout": "IPY_MODEL_a08f4c4ad87d4c82a969a947e796f8c9",
            "max": 1,
            "min": 0,
            "orientation": "horizontal",
            "style": "IPY_MODEL_74ccf762ece24e7fb5eb8004b3ac8102",
            "value": 1
          }
        },
        "7c8e9fa959cc4c2380aa65f24ef92257": {
          "model_module": "@jupyter-widgets/controls",
          "model_name": "HTMLModel",
          "model_module_version": "1.5.0",
          "state": {
            "_dom_classes": [],
            "_model_module": "@jupyter-widgets/controls",
            "_model_module_version": "1.5.0",
            "_model_name": "HTMLModel",
            "_view_count": null,
            "_view_module": "@jupyter-widgets/controls",
            "_view_module_version": "1.5.0",
            "_view_name": "HTMLView",
            "description": "",
            "description_tooltip": null,
            "layout": "IPY_MODEL_7b20c1a24b3143c4b5faf1118d2804c5",
            "placeholder": "​",
            "style": "IPY_MODEL_03a0075ec40a435e99c00104180b6a31",
            "value": " 1/1 [00:00&lt;00:00, 12.45ba/s]"
          }
        },
        "bf456e8aecc94c72841ca418a3957146": {
          "model_module": "@jupyter-widgets/base",
          "model_name": "LayoutModel",
          "model_module_version": "1.2.0",
          "state": {
            "_model_module": "@jupyter-widgets/base",
            "_model_module_version": "1.2.0",
            "_model_name": "LayoutModel",
            "_view_count": null,
            "_view_module": "@jupyter-widgets/base",
            "_view_module_version": "1.2.0",
            "_view_name": "LayoutView",
            "align_content": null,
            "align_items": null,
            "align_self": null,
            "border": null,
            "bottom": null,
            "display": null,
            "flex": null,
            "flex_flow": null,
            "grid_area": null,
            "grid_auto_columns": null,
            "grid_auto_flow": null,
            "grid_auto_rows": null,
            "grid_column": null,
            "grid_gap": null,
            "grid_row": null,
            "grid_template_areas": null,
            "grid_template_columns": null,
            "grid_template_rows": null,
            "height": null,
            "justify_content": null,
            "justify_items": null,
            "left": null,
            "margin": null,
            "max_height": null,
            "max_width": null,
            "min_height": null,
            "min_width": null,
            "object_fit": null,
            "object_position": null,
            "order": null,
            "overflow": null,
            "overflow_x": null,
            "overflow_y": null,
            "padding": null,
            "right": null,
            "top": null,
            "visibility": null,
            "width": null
          }
        },
        "d8db7b80156d472c8ff3ae98b3811374": {
          "model_module": "@jupyter-widgets/base",
          "model_name": "LayoutModel",
          "model_module_version": "1.2.0",
          "state": {
            "_model_module": "@jupyter-widgets/base",
            "_model_module_version": "1.2.0",
            "_model_name": "LayoutModel",
            "_view_count": null,
            "_view_module": "@jupyter-widgets/base",
            "_view_module_version": "1.2.0",
            "_view_name": "LayoutView",
            "align_content": null,
            "align_items": null,
            "align_self": null,
            "border": null,
            "bottom": null,
            "display": null,
            "flex": null,
            "flex_flow": null,
            "grid_area": null,
            "grid_auto_columns": null,
            "grid_auto_flow": null,
            "grid_auto_rows": null,
            "grid_column": null,
            "grid_gap": null,
            "grid_row": null,
            "grid_template_areas": null,
            "grid_template_columns": null,
            "grid_template_rows": null,
            "height": null,
            "justify_content": null,
            "justify_items": null,
            "left": null,
            "margin": null,
            "max_height": null,
            "max_width": null,
            "min_height": null,
            "min_width": null,
            "object_fit": null,
            "object_position": null,
            "order": null,
            "overflow": null,
            "overflow_x": null,
            "overflow_y": null,
            "padding": null,
            "right": null,
            "top": null,
            "visibility": null,
            "width": null
          }
        },
        "7a3e78a726c04205968e4c8119fd2add": {
          "model_module": "@jupyter-widgets/controls",
          "model_name": "DescriptionStyleModel",
          "model_module_version": "1.5.0",
          "state": {
            "_model_module": "@jupyter-widgets/controls",
            "_model_module_version": "1.5.0",
            "_model_name": "DescriptionStyleModel",
            "_view_count": null,
            "_view_module": "@jupyter-widgets/base",
            "_view_module_version": "1.2.0",
            "_view_name": "StyleView",
            "description_width": ""
          }
        },
        "a08f4c4ad87d4c82a969a947e796f8c9": {
          "model_module": "@jupyter-widgets/base",
          "model_name": "LayoutModel",
          "model_module_version": "1.2.0",
          "state": {
            "_model_module": "@jupyter-widgets/base",
            "_model_module_version": "1.2.0",
            "_model_name": "LayoutModel",
            "_view_count": null,
            "_view_module": "@jupyter-widgets/base",
            "_view_module_version": "1.2.0",
            "_view_name": "LayoutView",
            "align_content": null,
            "align_items": null,
            "align_self": null,
            "border": null,
            "bottom": null,
            "display": null,
            "flex": null,
            "flex_flow": null,
            "grid_area": null,
            "grid_auto_columns": null,
            "grid_auto_flow": null,
            "grid_auto_rows": null,
            "grid_column": null,
            "grid_gap": null,
            "grid_row": null,
            "grid_template_areas": null,
            "grid_template_columns": null,
            "grid_template_rows": null,
            "height": null,
            "justify_content": null,
            "justify_items": null,
            "left": null,
            "margin": null,
            "max_height": null,
            "max_width": null,
            "min_height": null,
            "min_width": null,
            "object_fit": null,
            "object_position": null,
            "order": null,
            "overflow": null,
            "overflow_x": null,
            "overflow_y": null,
            "padding": null,
            "right": null,
            "top": null,
            "visibility": null,
            "width": null
          }
        },
        "74ccf762ece24e7fb5eb8004b3ac8102": {
          "model_module": "@jupyter-widgets/controls",
          "model_name": "ProgressStyleModel",
          "model_module_version": "1.5.0",
          "state": {
            "_model_module": "@jupyter-widgets/controls",
            "_model_module_version": "1.5.0",
            "_model_name": "ProgressStyleModel",
            "_view_count": null,
            "_view_module": "@jupyter-widgets/base",
            "_view_module_version": "1.2.0",
            "_view_name": "StyleView",
            "bar_color": null,
            "description_width": ""
          }
        },
        "7b20c1a24b3143c4b5faf1118d2804c5": {
          "model_module": "@jupyter-widgets/base",
          "model_name": "LayoutModel",
          "model_module_version": "1.2.0",
          "state": {
            "_model_module": "@jupyter-widgets/base",
            "_model_module_version": "1.2.0",
            "_model_name": "LayoutModel",
            "_view_count": null,
            "_view_module": "@jupyter-widgets/base",
            "_view_module_version": "1.2.0",
            "_view_name": "LayoutView",
            "align_content": null,
            "align_items": null,
            "align_self": null,
            "border": null,
            "bottom": null,
            "display": null,
            "flex": null,
            "flex_flow": null,
            "grid_area": null,
            "grid_auto_columns": null,
            "grid_auto_flow": null,
            "grid_auto_rows": null,
            "grid_column": null,
            "grid_gap": null,
            "grid_row": null,
            "grid_template_areas": null,
            "grid_template_columns": null,
            "grid_template_rows": null,
            "height": null,
            "justify_content": null,
            "justify_items": null,
            "left": null,
            "margin": null,
            "max_height": null,
            "max_width": null,
            "min_height": null,
            "min_width": null,
            "object_fit": null,
            "object_position": null,
            "order": null,
            "overflow": null,
            "overflow_x": null,
            "overflow_y": null,
            "padding": null,
            "right": null,
            "top": null,
            "visibility": null,
            "width": null
          }
        },
        "03a0075ec40a435e99c00104180b6a31": {
          "model_module": "@jupyter-widgets/controls",
          "model_name": "DescriptionStyleModel",
          "model_module_version": "1.5.0",
          "state": {
            "_model_module": "@jupyter-widgets/controls",
            "_model_module_version": "1.5.0",
            "_model_name": "DescriptionStyleModel",
            "_view_count": null,
            "_view_module": "@jupyter-widgets/base",
            "_view_module_version": "1.2.0",
            "_view_name": "StyleView",
            "description_width": ""
          }
        },
        "eb3144e2b6ea40e6a9d2826fe334f8ba": {
          "model_module": "@jupyter-widgets/controls",
          "model_name": "HBoxModel",
          "model_module_version": "1.5.0",
          "state": {
            "_dom_classes": [],
            "_model_module": "@jupyter-widgets/controls",
            "_model_module_version": "1.5.0",
            "_model_name": "HBoxModel",
            "_view_count": null,
            "_view_module": "@jupyter-widgets/controls",
            "_view_module_version": "1.5.0",
            "_view_name": "HBoxView",
            "box_style": "",
            "children": [
              "IPY_MODEL_d8421b85167e4369bef715da00bea5b2",
              "IPY_MODEL_c4e59e9d0cf04f958390c6dc2a5bdca4",
              "IPY_MODEL_813c116bcd4d4bc9be131fa57b879112"
            ],
            "layout": "IPY_MODEL_82ba91adde5c4ed39ae5d3c9860ba92e"
          }
        },
        "d8421b85167e4369bef715da00bea5b2": {
          "model_module": "@jupyter-widgets/controls",
          "model_name": "HTMLModel",
          "model_module_version": "1.5.0",
          "state": {
            "_dom_classes": [],
            "_model_module": "@jupyter-widgets/controls",
            "_model_module_version": "1.5.0",
            "_model_name": "HTMLModel",
            "_view_count": null,
            "_view_module": "@jupyter-widgets/controls",
            "_view_module_version": "1.5.0",
            "_view_name": "HTMLView",
            "description": "",
            "description_tooltip": null,
            "layout": "IPY_MODEL_419a20cf53cc45aa84cd81fef935b48c",
            "placeholder": "​",
            "style": "IPY_MODEL_f339c76681844908bcc340a63b77f0ed",
            "value": "100%"
          }
        },
        "c4e59e9d0cf04f958390c6dc2a5bdca4": {
          "model_module": "@jupyter-widgets/controls",
          "model_name": "FloatProgressModel",
          "model_module_version": "1.5.0",
          "state": {
            "_dom_classes": [],
            "_model_module": "@jupyter-widgets/controls",
            "_model_module_version": "1.5.0",
            "_model_name": "FloatProgressModel",
            "_view_count": null,
            "_view_module": "@jupyter-widgets/controls",
            "_view_module_version": "1.5.0",
            "_view_name": "ProgressView",
            "bar_style": "success",
            "description": "",
            "description_tooltip": null,
            "layout": "IPY_MODEL_08fd9ba17909461cb67c148dff84fc46",
            "max": 1,
            "min": 0,
            "orientation": "horizontal",
            "style": "IPY_MODEL_714a79dba33b476a8215325b61f0cd3f",
            "value": 1
          }
        },
        "813c116bcd4d4bc9be131fa57b879112": {
          "model_module": "@jupyter-widgets/controls",
          "model_name": "HTMLModel",
          "model_module_version": "1.5.0",
          "state": {
            "_dom_classes": [],
            "_model_module": "@jupyter-widgets/controls",
            "_model_module_version": "1.5.0",
            "_model_name": "HTMLModel",
            "_view_count": null,
            "_view_module": "@jupyter-widgets/controls",
            "_view_module_version": "1.5.0",
            "_view_name": "HTMLView",
            "description": "",
            "description_tooltip": null,
            "layout": "IPY_MODEL_3e0f0a6f5e6d4ce8b5b76769ac64d72c",
            "placeholder": "​",
            "style": "IPY_MODEL_dfa7fe6dc3bb4e3483abfb33b80c6a9d",
            "value": " 1/1 [00:00&lt;00:00, 17.41ba/s]"
          }
        },
        "82ba91adde5c4ed39ae5d3c9860ba92e": {
          "model_module": "@jupyter-widgets/base",
          "model_name": "LayoutModel",
          "model_module_version": "1.2.0",
          "state": {
            "_model_module": "@jupyter-widgets/base",
            "_model_module_version": "1.2.0",
            "_model_name": "LayoutModel",
            "_view_count": null,
            "_view_module": "@jupyter-widgets/base",
            "_view_module_version": "1.2.0",
            "_view_name": "LayoutView",
            "align_content": null,
            "align_items": null,
            "align_self": null,
            "border": null,
            "bottom": null,
            "display": null,
            "flex": null,
            "flex_flow": null,
            "grid_area": null,
            "grid_auto_columns": null,
            "grid_auto_flow": null,
            "grid_auto_rows": null,
            "grid_column": null,
            "grid_gap": null,
            "grid_row": null,
            "grid_template_areas": null,
            "grid_template_columns": null,
            "grid_template_rows": null,
            "height": null,
            "justify_content": null,
            "justify_items": null,
            "left": null,
            "margin": null,
            "max_height": null,
            "max_width": null,
            "min_height": null,
            "min_width": null,
            "object_fit": null,
            "object_position": null,
            "order": null,
            "overflow": null,
            "overflow_x": null,
            "overflow_y": null,
            "padding": null,
            "right": null,
            "top": null,
            "visibility": null,
            "width": null
          }
        },
        "419a20cf53cc45aa84cd81fef935b48c": {
          "model_module": "@jupyter-widgets/base",
          "model_name": "LayoutModel",
          "model_module_version": "1.2.0",
          "state": {
            "_model_module": "@jupyter-widgets/base",
            "_model_module_version": "1.2.0",
            "_model_name": "LayoutModel",
            "_view_count": null,
            "_view_module": "@jupyter-widgets/base",
            "_view_module_version": "1.2.0",
            "_view_name": "LayoutView",
            "align_content": null,
            "align_items": null,
            "align_self": null,
            "border": null,
            "bottom": null,
            "display": null,
            "flex": null,
            "flex_flow": null,
            "grid_area": null,
            "grid_auto_columns": null,
            "grid_auto_flow": null,
            "grid_auto_rows": null,
            "grid_column": null,
            "grid_gap": null,
            "grid_row": null,
            "grid_template_areas": null,
            "grid_template_columns": null,
            "grid_template_rows": null,
            "height": null,
            "justify_content": null,
            "justify_items": null,
            "left": null,
            "margin": null,
            "max_height": null,
            "max_width": null,
            "min_height": null,
            "min_width": null,
            "object_fit": null,
            "object_position": null,
            "order": null,
            "overflow": null,
            "overflow_x": null,
            "overflow_y": null,
            "padding": null,
            "right": null,
            "top": null,
            "visibility": null,
            "width": null
          }
        },
        "f339c76681844908bcc340a63b77f0ed": {
          "model_module": "@jupyter-widgets/controls",
          "model_name": "DescriptionStyleModel",
          "model_module_version": "1.5.0",
          "state": {
            "_model_module": "@jupyter-widgets/controls",
            "_model_module_version": "1.5.0",
            "_model_name": "DescriptionStyleModel",
            "_view_count": null,
            "_view_module": "@jupyter-widgets/base",
            "_view_module_version": "1.2.0",
            "_view_name": "StyleView",
            "description_width": ""
          }
        },
        "08fd9ba17909461cb67c148dff84fc46": {
          "model_module": "@jupyter-widgets/base",
          "model_name": "LayoutModel",
          "model_module_version": "1.2.0",
          "state": {
            "_model_module": "@jupyter-widgets/base",
            "_model_module_version": "1.2.0",
            "_model_name": "LayoutModel",
            "_view_count": null,
            "_view_module": "@jupyter-widgets/base",
            "_view_module_version": "1.2.0",
            "_view_name": "LayoutView",
            "align_content": null,
            "align_items": null,
            "align_self": null,
            "border": null,
            "bottom": null,
            "display": null,
            "flex": null,
            "flex_flow": null,
            "grid_area": null,
            "grid_auto_columns": null,
            "grid_auto_flow": null,
            "grid_auto_rows": null,
            "grid_column": null,
            "grid_gap": null,
            "grid_row": null,
            "grid_template_areas": null,
            "grid_template_columns": null,
            "grid_template_rows": null,
            "height": null,
            "justify_content": null,
            "justify_items": null,
            "left": null,
            "margin": null,
            "max_height": null,
            "max_width": null,
            "min_height": null,
            "min_width": null,
            "object_fit": null,
            "object_position": null,
            "order": null,
            "overflow": null,
            "overflow_x": null,
            "overflow_y": null,
            "padding": null,
            "right": null,
            "top": null,
            "visibility": null,
            "width": null
          }
        },
        "714a79dba33b476a8215325b61f0cd3f": {
          "model_module": "@jupyter-widgets/controls",
          "model_name": "ProgressStyleModel",
          "model_module_version": "1.5.0",
          "state": {
            "_model_module": "@jupyter-widgets/controls",
            "_model_module_version": "1.5.0",
            "_model_name": "ProgressStyleModel",
            "_view_count": null,
            "_view_module": "@jupyter-widgets/base",
            "_view_module_version": "1.2.0",
            "_view_name": "StyleView",
            "bar_color": null,
            "description_width": ""
          }
        },
        "3e0f0a6f5e6d4ce8b5b76769ac64d72c": {
          "model_module": "@jupyter-widgets/base",
          "model_name": "LayoutModel",
          "model_module_version": "1.2.0",
          "state": {
            "_model_module": "@jupyter-widgets/base",
            "_model_module_version": "1.2.0",
            "_model_name": "LayoutModel",
            "_view_count": null,
            "_view_module": "@jupyter-widgets/base",
            "_view_module_version": "1.2.0",
            "_view_name": "LayoutView",
            "align_content": null,
            "align_items": null,
            "align_self": null,
            "border": null,
            "bottom": null,
            "display": null,
            "flex": null,
            "flex_flow": null,
            "grid_area": null,
            "grid_auto_columns": null,
            "grid_auto_flow": null,
            "grid_auto_rows": null,
            "grid_column": null,
            "grid_gap": null,
            "grid_row": null,
            "grid_template_areas": null,
            "grid_template_columns": null,
            "grid_template_rows": null,
            "height": null,
            "justify_content": null,
            "justify_items": null,
            "left": null,
            "margin": null,
            "max_height": null,
            "max_width": null,
            "min_height": null,
            "min_width": null,
            "object_fit": null,
            "object_position": null,
            "order": null,
            "overflow": null,
            "overflow_x": null,
            "overflow_y": null,
            "padding": null,
            "right": null,
            "top": null,
            "visibility": null,
            "width": null
          }
        },
        "dfa7fe6dc3bb4e3483abfb33b80c6a9d": {
          "model_module": "@jupyter-widgets/controls",
          "model_name": "DescriptionStyleModel",
          "model_module_version": "1.5.0",
          "state": {
            "_model_module": "@jupyter-widgets/controls",
            "_model_module_version": "1.5.0",
            "_model_name": "DescriptionStyleModel",
            "_view_count": null,
            "_view_module": "@jupyter-widgets/base",
            "_view_module_version": "1.2.0",
            "_view_name": "StyleView",
            "description_width": ""
          }
        },
        "7835c801e07f480393fa5540c383ffa4": {
          "model_module": "@jupyter-widgets/controls",
          "model_name": "HBoxModel",
          "model_module_version": "1.5.0",
          "state": {
            "_dom_classes": [],
            "_model_module": "@jupyter-widgets/controls",
            "_model_module_version": "1.5.0",
            "_model_name": "HBoxModel",
            "_view_count": null,
            "_view_module": "@jupyter-widgets/controls",
            "_view_module_version": "1.5.0",
            "_view_name": "HBoxView",
            "box_style": "",
            "children": [
              "IPY_MODEL_ca3e5afb3b9d469e8a67a9116b7f19d7",
              "IPY_MODEL_885981ff0ed743328dddd581af1651f4",
              "IPY_MODEL_035d39a7c10c478fbd7d6bb72056a585"
            ],
            "layout": "IPY_MODEL_3ea05d14530e420198ef783041e20f1a"
          }
        },
        "ca3e5afb3b9d469e8a67a9116b7f19d7": {
          "model_module": "@jupyter-widgets/controls",
          "model_name": "HTMLModel",
          "model_module_version": "1.5.0",
          "state": {
            "_dom_classes": [],
            "_model_module": "@jupyter-widgets/controls",
            "_model_module_version": "1.5.0",
            "_model_name": "HTMLModel",
            "_view_count": null,
            "_view_module": "@jupyter-widgets/controls",
            "_view_module_version": "1.5.0",
            "_view_name": "HTMLView",
            "description": "",
            "description_tooltip": null,
            "layout": "IPY_MODEL_cbad8fff8df347808a14edd38301f2bc",
            "placeholder": "​",
            "style": "IPY_MODEL_728d07b23fae42bab6264a25da68d613",
            "value": "100%"
          }
        },
        "885981ff0ed743328dddd581af1651f4": {
          "model_module": "@jupyter-widgets/controls",
          "model_name": "FloatProgressModel",
          "model_module_version": "1.5.0",
          "state": {
            "_dom_classes": [],
            "_model_module": "@jupyter-widgets/controls",
            "_model_module_version": "1.5.0",
            "_model_name": "FloatProgressModel",
            "_view_count": null,
            "_view_module": "@jupyter-widgets/controls",
            "_view_module_version": "1.5.0",
            "_view_name": "ProgressView",
            "bar_style": "success",
            "description": "",
            "description_tooltip": null,
            "layout": "IPY_MODEL_f15d2014692e4c229a96956f8d0bd9e9",
            "max": 5,
            "min": 0,
            "orientation": "horizontal",
            "style": "IPY_MODEL_7bcc3da237504ea3a281ad688584f109",
            "value": 5
          }
        },
        "035d39a7c10c478fbd7d6bb72056a585": {
          "model_module": "@jupyter-widgets/controls",
          "model_name": "HTMLModel",
          "model_module_version": "1.5.0",
          "state": {
            "_dom_classes": [],
            "_model_module": "@jupyter-widgets/controls",
            "_model_module_version": "1.5.0",
            "_model_name": "HTMLModel",
            "_view_count": null,
            "_view_module": "@jupyter-widgets/controls",
            "_view_module_version": "1.5.0",
            "_view_name": "HTMLView",
            "description": "",
            "description_tooltip": null,
            "layout": "IPY_MODEL_0b86279337ce424b8cda9753ba75fe86",
            "placeholder": "​",
            "style": "IPY_MODEL_376b53fdac544b8a97961e8ed1255abb",
            "value": " 5/5 [00:00&lt;00:00, 85.43ba/s]"
          }
        },
        "3ea05d14530e420198ef783041e20f1a": {
          "model_module": "@jupyter-widgets/base",
          "model_name": "LayoutModel",
          "model_module_version": "1.2.0",
          "state": {
            "_model_module": "@jupyter-widgets/base",
            "_model_module_version": "1.2.0",
            "_model_name": "LayoutModel",
            "_view_count": null,
            "_view_module": "@jupyter-widgets/base",
            "_view_module_version": "1.2.0",
            "_view_name": "LayoutView",
            "align_content": null,
            "align_items": null,
            "align_self": null,
            "border": null,
            "bottom": null,
            "display": null,
            "flex": null,
            "flex_flow": null,
            "grid_area": null,
            "grid_auto_columns": null,
            "grid_auto_flow": null,
            "grid_auto_rows": null,
            "grid_column": null,
            "grid_gap": null,
            "grid_row": null,
            "grid_template_areas": null,
            "grid_template_columns": null,
            "grid_template_rows": null,
            "height": null,
            "justify_content": null,
            "justify_items": null,
            "left": null,
            "margin": null,
            "max_height": null,
            "max_width": null,
            "min_height": null,
            "min_width": null,
            "object_fit": null,
            "object_position": null,
            "order": null,
            "overflow": null,
            "overflow_x": null,
            "overflow_y": null,
            "padding": null,
            "right": null,
            "top": null,
            "visibility": null,
            "width": null
          }
        },
        "cbad8fff8df347808a14edd38301f2bc": {
          "model_module": "@jupyter-widgets/base",
          "model_name": "LayoutModel",
          "model_module_version": "1.2.0",
          "state": {
            "_model_module": "@jupyter-widgets/base",
            "_model_module_version": "1.2.0",
            "_model_name": "LayoutModel",
            "_view_count": null,
            "_view_module": "@jupyter-widgets/base",
            "_view_module_version": "1.2.0",
            "_view_name": "LayoutView",
            "align_content": null,
            "align_items": null,
            "align_self": null,
            "border": null,
            "bottom": null,
            "display": null,
            "flex": null,
            "flex_flow": null,
            "grid_area": null,
            "grid_auto_columns": null,
            "grid_auto_flow": null,
            "grid_auto_rows": null,
            "grid_column": null,
            "grid_gap": null,
            "grid_row": null,
            "grid_template_areas": null,
            "grid_template_columns": null,
            "grid_template_rows": null,
            "height": null,
            "justify_content": null,
            "justify_items": null,
            "left": null,
            "margin": null,
            "max_height": null,
            "max_width": null,
            "min_height": null,
            "min_width": null,
            "object_fit": null,
            "object_position": null,
            "order": null,
            "overflow": null,
            "overflow_x": null,
            "overflow_y": null,
            "padding": null,
            "right": null,
            "top": null,
            "visibility": null,
            "width": null
          }
        },
        "728d07b23fae42bab6264a25da68d613": {
          "model_module": "@jupyter-widgets/controls",
          "model_name": "DescriptionStyleModel",
          "model_module_version": "1.5.0",
          "state": {
            "_model_module": "@jupyter-widgets/controls",
            "_model_module_version": "1.5.0",
            "_model_name": "DescriptionStyleModel",
            "_view_count": null,
            "_view_module": "@jupyter-widgets/base",
            "_view_module_version": "1.2.0",
            "_view_name": "StyleView",
            "description_width": ""
          }
        },
        "f15d2014692e4c229a96956f8d0bd9e9": {
          "model_module": "@jupyter-widgets/base",
          "model_name": "LayoutModel",
          "model_module_version": "1.2.0",
          "state": {
            "_model_module": "@jupyter-widgets/base",
            "_model_module_version": "1.2.0",
            "_model_name": "LayoutModel",
            "_view_count": null,
            "_view_module": "@jupyter-widgets/base",
            "_view_module_version": "1.2.0",
            "_view_name": "LayoutView",
            "align_content": null,
            "align_items": null,
            "align_self": null,
            "border": null,
            "bottom": null,
            "display": null,
            "flex": null,
            "flex_flow": null,
            "grid_area": null,
            "grid_auto_columns": null,
            "grid_auto_flow": null,
            "grid_auto_rows": null,
            "grid_column": null,
            "grid_gap": null,
            "grid_row": null,
            "grid_template_areas": null,
            "grid_template_columns": null,
            "grid_template_rows": null,
            "height": null,
            "justify_content": null,
            "justify_items": null,
            "left": null,
            "margin": null,
            "max_height": null,
            "max_width": null,
            "min_height": null,
            "min_width": null,
            "object_fit": null,
            "object_position": null,
            "order": null,
            "overflow": null,
            "overflow_x": null,
            "overflow_y": null,
            "padding": null,
            "right": null,
            "top": null,
            "visibility": null,
            "width": null
          }
        },
        "7bcc3da237504ea3a281ad688584f109": {
          "model_module": "@jupyter-widgets/controls",
          "model_name": "ProgressStyleModel",
          "model_module_version": "1.5.0",
          "state": {
            "_model_module": "@jupyter-widgets/controls",
            "_model_module_version": "1.5.0",
            "_model_name": "ProgressStyleModel",
            "_view_count": null,
            "_view_module": "@jupyter-widgets/base",
            "_view_module_version": "1.2.0",
            "_view_name": "StyleView",
            "bar_color": null,
            "description_width": ""
          }
        },
        "0b86279337ce424b8cda9753ba75fe86": {
          "model_module": "@jupyter-widgets/base",
          "model_name": "LayoutModel",
          "model_module_version": "1.2.0",
          "state": {
            "_model_module": "@jupyter-widgets/base",
            "_model_module_version": "1.2.0",
            "_model_name": "LayoutModel",
            "_view_count": null,
            "_view_module": "@jupyter-widgets/base",
            "_view_module_version": "1.2.0",
            "_view_name": "LayoutView",
            "align_content": null,
            "align_items": null,
            "align_self": null,
            "border": null,
            "bottom": null,
            "display": null,
            "flex": null,
            "flex_flow": null,
            "grid_area": null,
            "grid_auto_columns": null,
            "grid_auto_flow": null,
            "grid_auto_rows": null,
            "grid_column": null,
            "grid_gap": null,
            "grid_row": null,
            "grid_template_areas": null,
            "grid_template_columns": null,
            "grid_template_rows": null,
            "height": null,
            "justify_content": null,
            "justify_items": null,
            "left": null,
            "margin": null,
            "max_height": null,
            "max_width": null,
            "min_height": null,
            "min_width": null,
            "object_fit": null,
            "object_position": null,
            "order": null,
            "overflow": null,
            "overflow_x": null,
            "overflow_y": null,
            "padding": null,
            "right": null,
            "top": null,
            "visibility": null,
            "width": null
          }
        },
        "376b53fdac544b8a97961e8ed1255abb": {
          "model_module": "@jupyter-widgets/controls",
          "model_name": "DescriptionStyleModel",
          "model_module_version": "1.5.0",
          "state": {
            "_model_module": "@jupyter-widgets/controls",
            "_model_module_version": "1.5.0",
            "_model_name": "DescriptionStyleModel",
            "_view_count": null,
            "_view_module": "@jupyter-widgets/base",
            "_view_module_version": "1.2.0",
            "_view_name": "StyleView",
            "description_width": ""
          }
        },
        "aa2b1bde05c54d40a8819583b6048c2f": {
          "model_module": "@jupyter-widgets/controls",
          "model_name": "HBoxModel",
          "model_module_version": "1.5.0",
          "state": {
            "_dom_classes": [],
            "_model_module": "@jupyter-widgets/controls",
            "_model_module_version": "1.5.0",
            "_model_name": "HBoxModel",
            "_view_count": null,
            "_view_module": "@jupyter-widgets/controls",
            "_view_module_version": "1.5.0",
            "_view_name": "HBoxView",
            "box_style": "",
            "children": [
              "IPY_MODEL_a0c6c0a049324681ba3294ea95e4aa5e",
              "IPY_MODEL_3aee46f7cf3043278b6a835a54689a14",
              "IPY_MODEL_f91abac6a3944dadb16a5f2efbaf7fc4"
            ],
            "layout": "IPY_MODEL_1c05c6ea754a48ccb37d163946b2790d"
          }
        },
        "a0c6c0a049324681ba3294ea95e4aa5e": {
          "model_module": "@jupyter-widgets/controls",
          "model_name": "HTMLModel",
          "model_module_version": "1.5.0",
          "state": {
            "_dom_classes": [],
            "_model_module": "@jupyter-widgets/controls",
            "_model_module_version": "1.5.0",
            "_model_name": "HTMLModel",
            "_view_count": null,
            "_view_module": "@jupyter-widgets/controls",
            "_view_module_version": "1.5.0",
            "_view_name": "HTMLView",
            "description": "",
            "description_tooltip": null,
            "layout": "IPY_MODEL_ae3d52536b9841ecba0563f3f4875027",
            "placeholder": "​",
            "style": "IPY_MODEL_cb1c42719d9445488a0e3237d1317f26",
            "value": "Downloading: "
          }
        },
        "3aee46f7cf3043278b6a835a54689a14": {
          "model_module": "@jupyter-widgets/controls",
          "model_name": "FloatProgressModel",
          "model_module_version": "1.5.0",
          "state": {
            "_dom_classes": [],
            "_model_module": "@jupyter-widgets/controls",
            "_model_module_version": "1.5.0",
            "_model_name": "FloatProgressModel",
            "_view_count": null,
            "_view_module": "@jupyter-widgets/controls",
            "_view_module_version": "1.5.0",
            "_view_name": "ProgressView",
            "bar_style": "success",
            "description": "",
            "description_tooltip": null,
            "layout": "IPY_MODEL_df60f3c724fc4f03affb717e9262a7f7",
            "max": 1901,
            "min": 0,
            "orientation": "horizontal",
            "style": "IPY_MODEL_1a8af51742864e29bbe0bdb8c7016460",
            "value": 1901
          }
        },
        "f91abac6a3944dadb16a5f2efbaf7fc4": {
          "model_module": "@jupyter-widgets/controls",
          "model_name": "HTMLModel",
          "model_module_version": "1.5.0",
          "state": {
            "_dom_classes": [],
            "_model_module": "@jupyter-widgets/controls",
            "_model_module_version": "1.5.0",
            "_model_name": "HTMLModel",
            "_view_count": null,
            "_view_module": "@jupyter-widgets/controls",
            "_view_module_version": "1.5.0",
            "_view_name": "HTMLView",
            "description": "",
            "description_tooltip": null,
            "layout": "IPY_MODEL_83b636edfad94b18976cbccc8bd5067d",
            "placeholder": "​",
            "style": "IPY_MODEL_74242b72635744a7b35867da8e79a901",
            "value": " 4.48k/? [00:00&lt;00:00, 144kB/s]"
          }
        },
        "1c05c6ea754a48ccb37d163946b2790d": {
          "model_module": "@jupyter-widgets/base",
          "model_name": "LayoutModel",
          "model_module_version": "1.2.0",
          "state": {
            "_model_module": "@jupyter-widgets/base",
            "_model_module_version": "1.2.0",
            "_model_name": "LayoutModel",
            "_view_count": null,
            "_view_module": "@jupyter-widgets/base",
            "_view_module_version": "1.2.0",
            "_view_name": "LayoutView",
            "align_content": null,
            "align_items": null,
            "align_self": null,
            "border": null,
            "bottom": null,
            "display": null,
            "flex": null,
            "flex_flow": null,
            "grid_area": null,
            "grid_auto_columns": null,
            "grid_auto_flow": null,
            "grid_auto_rows": null,
            "grid_column": null,
            "grid_gap": null,
            "grid_row": null,
            "grid_template_areas": null,
            "grid_template_columns": null,
            "grid_template_rows": null,
            "height": null,
            "justify_content": null,
            "justify_items": null,
            "left": null,
            "margin": null,
            "max_height": null,
            "max_width": null,
            "min_height": null,
            "min_width": null,
            "object_fit": null,
            "object_position": null,
            "order": null,
            "overflow": null,
            "overflow_x": null,
            "overflow_y": null,
            "padding": null,
            "right": null,
            "top": null,
            "visibility": null,
            "width": null
          }
        },
        "ae3d52536b9841ecba0563f3f4875027": {
          "model_module": "@jupyter-widgets/base",
          "model_name": "LayoutModel",
          "model_module_version": "1.2.0",
          "state": {
            "_model_module": "@jupyter-widgets/base",
            "_model_module_version": "1.2.0",
            "_model_name": "LayoutModel",
            "_view_count": null,
            "_view_module": "@jupyter-widgets/base",
            "_view_module_version": "1.2.0",
            "_view_name": "LayoutView",
            "align_content": null,
            "align_items": null,
            "align_self": null,
            "border": null,
            "bottom": null,
            "display": null,
            "flex": null,
            "flex_flow": null,
            "grid_area": null,
            "grid_auto_columns": null,
            "grid_auto_flow": null,
            "grid_auto_rows": null,
            "grid_column": null,
            "grid_gap": null,
            "grid_row": null,
            "grid_template_areas": null,
            "grid_template_columns": null,
            "grid_template_rows": null,
            "height": null,
            "justify_content": null,
            "justify_items": null,
            "left": null,
            "margin": null,
            "max_height": null,
            "max_width": null,
            "min_height": null,
            "min_width": null,
            "object_fit": null,
            "object_position": null,
            "order": null,
            "overflow": null,
            "overflow_x": null,
            "overflow_y": null,
            "padding": null,
            "right": null,
            "top": null,
            "visibility": null,
            "width": null
          }
        },
        "cb1c42719d9445488a0e3237d1317f26": {
          "model_module": "@jupyter-widgets/controls",
          "model_name": "DescriptionStyleModel",
          "model_module_version": "1.5.0",
          "state": {
            "_model_module": "@jupyter-widgets/controls",
            "_model_module_version": "1.5.0",
            "_model_name": "DescriptionStyleModel",
            "_view_count": null,
            "_view_module": "@jupyter-widgets/base",
            "_view_module_version": "1.2.0",
            "_view_name": "StyleView",
            "description_width": ""
          }
        },
        "df60f3c724fc4f03affb717e9262a7f7": {
          "model_module": "@jupyter-widgets/base",
          "model_name": "LayoutModel",
          "model_module_version": "1.2.0",
          "state": {
            "_model_module": "@jupyter-widgets/base",
            "_model_module_version": "1.2.0",
            "_model_name": "LayoutModel",
            "_view_count": null,
            "_view_module": "@jupyter-widgets/base",
            "_view_module_version": "1.2.0",
            "_view_name": "LayoutView",
            "align_content": null,
            "align_items": null,
            "align_self": null,
            "border": null,
            "bottom": null,
            "display": null,
            "flex": null,
            "flex_flow": null,
            "grid_area": null,
            "grid_auto_columns": null,
            "grid_auto_flow": null,
            "grid_auto_rows": null,
            "grid_column": null,
            "grid_gap": null,
            "grid_row": null,
            "grid_template_areas": null,
            "grid_template_columns": null,
            "grid_template_rows": null,
            "height": null,
            "justify_content": null,
            "justify_items": null,
            "left": null,
            "margin": null,
            "max_height": null,
            "max_width": null,
            "min_height": null,
            "min_width": null,
            "object_fit": null,
            "object_position": null,
            "order": null,
            "overflow": null,
            "overflow_x": null,
            "overflow_y": null,
            "padding": null,
            "right": null,
            "top": null,
            "visibility": null,
            "width": null
          }
        },
        "1a8af51742864e29bbe0bdb8c7016460": {
          "model_module": "@jupyter-widgets/controls",
          "model_name": "ProgressStyleModel",
          "model_module_version": "1.5.0",
          "state": {
            "_model_module": "@jupyter-widgets/controls",
            "_model_module_version": "1.5.0",
            "_model_name": "ProgressStyleModel",
            "_view_count": null,
            "_view_module": "@jupyter-widgets/base",
            "_view_module_version": "1.2.0",
            "_view_name": "StyleView",
            "bar_color": null,
            "description_width": ""
          }
        },
        "83b636edfad94b18976cbccc8bd5067d": {
          "model_module": "@jupyter-widgets/base",
          "model_name": "LayoutModel",
          "model_module_version": "1.2.0",
          "state": {
            "_model_module": "@jupyter-widgets/base",
            "_model_module_version": "1.2.0",
            "_model_name": "LayoutModel",
            "_view_count": null,
            "_view_module": "@jupyter-widgets/base",
            "_view_module_version": "1.2.0",
            "_view_name": "LayoutView",
            "align_content": null,
            "align_items": null,
            "align_self": null,
            "border": null,
            "bottom": null,
            "display": null,
            "flex": null,
            "flex_flow": null,
            "grid_area": null,
            "grid_auto_columns": null,
            "grid_auto_flow": null,
            "grid_auto_rows": null,
            "grid_column": null,
            "grid_gap": null,
            "grid_row": null,
            "grid_template_areas": null,
            "grid_template_columns": null,
            "grid_template_rows": null,
            "height": null,
            "justify_content": null,
            "justify_items": null,
            "left": null,
            "margin": null,
            "max_height": null,
            "max_width": null,
            "min_height": null,
            "min_width": null,
            "object_fit": null,
            "object_position": null,
            "order": null,
            "overflow": null,
            "overflow_x": null,
            "overflow_y": null,
            "padding": null,
            "right": null,
            "top": null,
            "visibility": null,
            "width": null
          }
        },
        "74242b72635744a7b35867da8e79a901": {
          "model_module": "@jupyter-widgets/controls",
          "model_name": "DescriptionStyleModel",
          "model_module_version": "1.5.0",
          "state": {
            "_model_module": "@jupyter-widgets/controls",
            "_model_module_version": "1.5.0",
            "_model_name": "DescriptionStyleModel",
            "_view_count": null,
            "_view_module": "@jupyter-widgets/base",
            "_view_module_version": "1.2.0",
            "_view_name": "StyleView",
            "description_width": ""
          }
        },
        "1d66175f801c4873bb93d99c539379ed": {
          "model_module": "@jupyter-widgets/controls",
          "model_name": "HBoxModel",
          "model_module_version": "1.5.0",
          "state": {
            "_dom_classes": [],
            "_model_module": "@jupyter-widgets/controls",
            "_model_module_version": "1.5.0",
            "_model_name": "HBoxModel",
            "_view_count": null,
            "_view_module": "@jupyter-widgets/controls",
            "_view_module_version": "1.5.0",
            "_view_name": "HBoxView",
            "box_style": "",
            "children": [
              "IPY_MODEL_328c2c101684436e9c8804da95a28b48",
              "IPY_MODEL_ce43e94d92a4411a8805d433f3856ee9",
              "IPY_MODEL_2804fac750eb42b495aebe6901e479a5"
            ],
            "layout": "IPY_MODEL_a6e5193c23aa4db1ae2b06b4a3dcaa5c"
          }
        },
        "328c2c101684436e9c8804da95a28b48": {
          "model_module": "@jupyter-widgets/controls",
          "model_name": "HTMLModel",
          "model_module_version": "1.5.0",
          "state": {
            "_dom_classes": [],
            "_model_module": "@jupyter-widgets/controls",
            "_model_module_version": "1.5.0",
            "_model_name": "HTMLModel",
            "_view_count": null,
            "_view_module": "@jupyter-widgets/controls",
            "_view_module_version": "1.5.0",
            "_view_name": "HTMLView",
            "description": "",
            "description_tooltip": null,
            "layout": "IPY_MODEL_664ff6b81c2b4698946799a62e052052",
            "placeholder": "​",
            "style": "IPY_MODEL_c16b770ca85f494daa3fe30b45eecf45",
            "value": "Downloading: 100%"
          }
        },
        "ce43e94d92a4411a8805d433f3856ee9": {
          "model_module": "@jupyter-widgets/controls",
          "model_name": "FloatProgressModel",
          "model_module_version": "1.5.0",
          "state": {
            "_dom_classes": [],
            "_model_module": "@jupyter-widgets/controls",
            "_model_module_version": "1.5.0",
            "_model_name": "FloatProgressModel",
            "_view_count": null,
            "_view_module": "@jupyter-widgets/controls",
            "_view_module_version": "1.5.0",
            "_view_name": "ProgressView",
            "bar_style": "success",
            "description": "",
            "description_tooltip": null,
            "layout": "IPY_MODEL_62f1417acef34f1fafa6a9fc7192495f",
            "max": 1842,
            "min": 0,
            "orientation": "horizontal",
            "style": "IPY_MODEL_f28a31dfdc044d328b56db1b889da2df",
            "value": 1842
          }
        },
        "2804fac750eb42b495aebe6901e479a5": {
          "model_module": "@jupyter-widgets/controls",
          "model_name": "HTMLModel",
          "model_module_version": "1.5.0",
          "state": {
            "_dom_classes": [],
            "_model_module": "@jupyter-widgets/controls",
            "_model_module_version": "1.5.0",
            "_model_name": "HTMLModel",
            "_view_count": null,
            "_view_module": "@jupyter-widgets/controls",
            "_view_module_version": "1.5.0",
            "_view_name": "HTMLView",
            "description": "",
            "description_tooltip": null,
            "layout": "IPY_MODEL_f6a785adf3704ee9a8c489bedd09b333",
            "placeholder": "​",
            "style": "IPY_MODEL_3924ef4cf6694bf0b94fe7e6105f2deb",
            "value": " 1.80k/1.80k [00:00&lt;00:00, 55.1kB/s]"
          }
        },
        "a6e5193c23aa4db1ae2b06b4a3dcaa5c": {
          "model_module": "@jupyter-widgets/base",
          "model_name": "LayoutModel",
          "model_module_version": "1.2.0",
          "state": {
            "_model_module": "@jupyter-widgets/base",
            "_model_module_version": "1.2.0",
            "_model_name": "LayoutModel",
            "_view_count": null,
            "_view_module": "@jupyter-widgets/base",
            "_view_module_version": "1.2.0",
            "_view_name": "LayoutView",
            "align_content": null,
            "align_items": null,
            "align_self": null,
            "border": null,
            "bottom": null,
            "display": null,
            "flex": null,
            "flex_flow": null,
            "grid_area": null,
            "grid_auto_columns": null,
            "grid_auto_flow": null,
            "grid_auto_rows": null,
            "grid_column": null,
            "grid_gap": null,
            "grid_row": null,
            "grid_template_areas": null,
            "grid_template_columns": null,
            "grid_template_rows": null,
            "height": null,
            "justify_content": null,
            "justify_items": null,
            "left": null,
            "margin": null,
            "max_height": null,
            "max_width": null,
            "min_height": null,
            "min_width": null,
            "object_fit": null,
            "object_position": null,
            "order": null,
            "overflow": null,
            "overflow_x": null,
            "overflow_y": null,
            "padding": null,
            "right": null,
            "top": null,
            "visibility": null,
            "width": null
          }
        },
        "664ff6b81c2b4698946799a62e052052": {
          "model_module": "@jupyter-widgets/base",
          "model_name": "LayoutModel",
          "model_module_version": "1.2.0",
          "state": {
            "_model_module": "@jupyter-widgets/base",
            "_model_module_version": "1.2.0",
            "_model_name": "LayoutModel",
            "_view_count": null,
            "_view_module": "@jupyter-widgets/base",
            "_view_module_version": "1.2.0",
            "_view_name": "LayoutView",
            "align_content": null,
            "align_items": null,
            "align_self": null,
            "border": null,
            "bottom": null,
            "display": null,
            "flex": null,
            "flex_flow": null,
            "grid_area": null,
            "grid_auto_columns": null,
            "grid_auto_flow": null,
            "grid_auto_rows": null,
            "grid_column": null,
            "grid_gap": null,
            "grid_row": null,
            "grid_template_areas": null,
            "grid_template_columns": null,
            "grid_template_rows": null,
            "height": null,
            "justify_content": null,
            "justify_items": null,
            "left": null,
            "margin": null,
            "max_height": null,
            "max_width": null,
            "min_height": null,
            "min_width": null,
            "object_fit": null,
            "object_position": null,
            "order": null,
            "overflow": null,
            "overflow_x": null,
            "overflow_y": null,
            "padding": null,
            "right": null,
            "top": null,
            "visibility": null,
            "width": null
          }
        },
        "c16b770ca85f494daa3fe30b45eecf45": {
          "model_module": "@jupyter-widgets/controls",
          "model_name": "DescriptionStyleModel",
          "model_module_version": "1.5.0",
          "state": {
            "_model_module": "@jupyter-widgets/controls",
            "_model_module_version": "1.5.0",
            "_model_name": "DescriptionStyleModel",
            "_view_count": null,
            "_view_module": "@jupyter-widgets/base",
            "_view_module_version": "1.2.0",
            "_view_name": "StyleView",
            "description_width": ""
          }
        },
        "62f1417acef34f1fafa6a9fc7192495f": {
          "model_module": "@jupyter-widgets/base",
          "model_name": "LayoutModel",
          "model_module_version": "1.2.0",
          "state": {
            "_model_module": "@jupyter-widgets/base",
            "_model_module_version": "1.2.0",
            "_model_name": "LayoutModel",
            "_view_count": null,
            "_view_module": "@jupyter-widgets/base",
            "_view_module_version": "1.2.0",
            "_view_name": "LayoutView",
            "align_content": null,
            "align_items": null,
            "align_self": null,
            "border": null,
            "bottom": null,
            "display": null,
            "flex": null,
            "flex_flow": null,
            "grid_area": null,
            "grid_auto_columns": null,
            "grid_auto_flow": null,
            "grid_auto_rows": null,
            "grid_column": null,
            "grid_gap": null,
            "grid_row": null,
            "grid_template_areas": null,
            "grid_template_columns": null,
            "grid_template_rows": null,
            "height": null,
            "justify_content": null,
            "justify_items": null,
            "left": null,
            "margin": null,
            "max_height": null,
            "max_width": null,
            "min_height": null,
            "min_width": null,
            "object_fit": null,
            "object_position": null,
            "order": null,
            "overflow": null,
            "overflow_x": null,
            "overflow_y": null,
            "padding": null,
            "right": null,
            "top": null,
            "visibility": null,
            "width": null
          }
        },
        "f28a31dfdc044d328b56db1b889da2df": {
          "model_module": "@jupyter-widgets/controls",
          "model_name": "ProgressStyleModel",
          "model_module_version": "1.5.0",
          "state": {
            "_model_module": "@jupyter-widgets/controls",
            "_model_module_version": "1.5.0",
            "_model_name": "ProgressStyleModel",
            "_view_count": null,
            "_view_module": "@jupyter-widgets/base",
            "_view_module_version": "1.2.0",
            "_view_name": "StyleView",
            "bar_color": null,
            "description_width": ""
          }
        },
        "f6a785adf3704ee9a8c489bedd09b333": {
          "model_module": "@jupyter-widgets/base",
          "model_name": "LayoutModel",
          "model_module_version": "1.2.0",
          "state": {
            "_model_module": "@jupyter-widgets/base",
            "_model_module_version": "1.2.0",
            "_model_name": "LayoutModel",
            "_view_count": null,
            "_view_module": "@jupyter-widgets/base",
            "_view_module_version": "1.2.0",
            "_view_name": "LayoutView",
            "align_content": null,
            "align_items": null,
            "align_self": null,
            "border": null,
            "bottom": null,
            "display": null,
            "flex": null,
            "flex_flow": null,
            "grid_area": null,
            "grid_auto_columns": null,
            "grid_auto_flow": null,
            "grid_auto_rows": null,
            "grid_column": null,
            "grid_gap": null,
            "grid_row": null,
            "grid_template_areas": null,
            "grid_template_columns": null,
            "grid_template_rows": null,
            "height": null,
            "justify_content": null,
            "justify_items": null,
            "left": null,
            "margin": null,
            "max_height": null,
            "max_width": null,
            "min_height": null,
            "min_width": null,
            "object_fit": null,
            "object_position": null,
            "order": null,
            "overflow": null,
            "overflow_x": null,
            "overflow_y": null,
            "padding": null,
            "right": null,
            "top": null,
            "visibility": null,
            "width": null
          }
        },
        "3924ef4cf6694bf0b94fe7e6105f2deb": {
          "model_module": "@jupyter-widgets/controls",
          "model_name": "DescriptionStyleModel",
          "model_module_version": "1.5.0",
          "state": {
            "_model_module": "@jupyter-widgets/controls",
            "_model_module_version": "1.5.0",
            "_model_name": "DescriptionStyleModel",
            "_view_count": null,
            "_view_module": "@jupyter-widgets/base",
            "_view_module_version": "1.2.0",
            "_view_name": "StyleView",
            "description_width": ""
          }
        },
        "a2dabedd456b4d50aecb8127ae545dfb": {
          "model_module": "@jupyter-widgets/controls",
          "model_name": "HBoxModel",
          "model_module_version": "1.5.0",
          "state": {
            "_dom_classes": [],
            "_model_module": "@jupyter-widgets/controls",
            "_model_module_version": "1.5.0",
            "_model_name": "HBoxModel",
            "_view_count": null,
            "_view_module": "@jupyter-widgets/controls",
            "_view_module_version": "1.5.0",
            "_view_name": "HBoxView",
            "box_style": "",
            "children": [
              "IPY_MODEL_dedc3159a4104f9090aa5dbe38a6f196",
              "IPY_MODEL_70abb8252cba418b9f9f8301be700fac",
              "IPY_MODEL_e5e02ea69f974cec84d092ab7e0ea278"
            ],
            "layout": "IPY_MODEL_f33f90ef52454d729f5be951fea506f9"
          }
        },
        "dedc3159a4104f9090aa5dbe38a6f196": {
          "model_module": "@jupyter-widgets/controls",
          "model_name": "HTMLModel",
          "model_module_version": "1.5.0",
          "state": {
            "_dom_classes": [],
            "_model_module": "@jupyter-widgets/controls",
            "_model_module_version": "1.5.0",
            "_model_name": "HTMLModel",
            "_view_count": null,
            "_view_module": "@jupyter-widgets/controls",
            "_view_module_version": "1.5.0",
            "_view_name": "HTMLView",
            "description": "",
            "description_tooltip": null,
            "layout": "IPY_MODEL_c30b7037a5744010860534e2babc52f3",
            "placeholder": "​",
            "style": "IPY_MODEL_e5ad95f109b34a3ea97b7ffb934d7b94",
            "value": "Downloading: 100%"
          }
        },
        "70abb8252cba418b9f9f8301be700fac": {
          "model_module": "@jupyter-widgets/controls",
          "model_name": "FloatProgressModel",
          "model_module_version": "1.5.0",
          "state": {
            "_dom_classes": [],
            "_model_module": "@jupyter-widgets/controls",
            "_model_module_version": "1.5.0",
            "_model_name": "FloatProgressModel",
            "_view_count": null,
            "_view_module": "@jupyter-widgets/controls",
            "_view_module_version": "1.5.0",
            "_view_name": "ProgressView",
            "bar_style": "success",
            "description": "",
            "description_tooltip": null,
            "layout": "IPY_MODEL_48e944307a724d7fa66d4e8fecb04828",
            "max": 380267417,
            "min": 0,
            "orientation": "horizontal",
            "style": "IPY_MODEL_48208e69773d4a2f8f5d789dcd0d4a27",
            "value": 380267417
          }
        },
        "e5e02ea69f974cec84d092ab7e0ea278": {
          "model_module": "@jupyter-widgets/controls",
          "model_name": "HTMLModel",
          "model_module_version": "1.5.0",
          "state": {
            "_dom_classes": [],
            "_model_module": "@jupyter-widgets/controls",
            "_model_module_version": "1.5.0",
            "_model_name": "HTMLModel",
            "_view_count": null,
            "_view_module": "@jupyter-widgets/controls",
            "_view_module_version": "1.5.0",
            "_view_name": "HTMLView",
            "description": "",
            "description_tooltip": null,
            "layout": "IPY_MODEL_3c9779e6e8af42fba36eb21fe49cbf86",
            "placeholder": "​",
            "style": "IPY_MODEL_861bf7c99aba45369e95c87a1a00e567",
            "value": " 363M/363M [00:07&lt;00:00, 49.6MB/s]"
          }
        },
        "f33f90ef52454d729f5be951fea506f9": {
          "model_module": "@jupyter-widgets/base",
          "model_name": "LayoutModel",
          "model_module_version": "1.2.0",
          "state": {
            "_model_module": "@jupyter-widgets/base",
            "_model_module_version": "1.2.0",
            "_model_name": "LayoutModel",
            "_view_count": null,
            "_view_module": "@jupyter-widgets/base",
            "_view_module_version": "1.2.0",
            "_view_name": "LayoutView",
            "align_content": null,
            "align_items": null,
            "align_self": null,
            "border": null,
            "bottom": null,
            "display": null,
            "flex": null,
            "flex_flow": null,
            "grid_area": null,
            "grid_auto_columns": null,
            "grid_auto_flow": null,
            "grid_auto_rows": null,
            "grid_column": null,
            "grid_gap": null,
            "grid_row": null,
            "grid_template_areas": null,
            "grid_template_columns": null,
            "grid_template_rows": null,
            "height": null,
            "justify_content": null,
            "justify_items": null,
            "left": null,
            "margin": null,
            "max_height": null,
            "max_width": null,
            "min_height": null,
            "min_width": null,
            "object_fit": null,
            "object_position": null,
            "order": null,
            "overflow": null,
            "overflow_x": null,
            "overflow_y": null,
            "padding": null,
            "right": null,
            "top": null,
            "visibility": null,
            "width": null
          }
        },
        "c30b7037a5744010860534e2babc52f3": {
          "model_module": "@jupyter-widgets/base",
          "model_name": "LayoutModel",
          "model_module_version": "1.2.0",
          "state": {
            "_model_module": "@jupyter-widgets/base",
            "_model_module_version": "1.2.0",
            "_model_name": "LayoutModel",
            "_view_count": null,
            "_view_module": "@jupyter-widgets/base",
            "_view_module_version": "1.2.0",
            "_view_name": "LayoutView",
            "align_content": null,
            "align_items": null,
            "align_self": null,
            "border": null,
            "bottom": null,
            "display": null,
            "flex": null,
            "flex_flow": null,
            "grid_area": null,
            "grid_auto_columns": null,
            "grid_auto_flow": null,
            "grid_auto_rows": null,
            "grid_column": null,
            "grid_gap": null,
            "grid_row": null,
            "grid_template_areas": null,
            "grid_template_columns": null,
            "grid_template_rows": null,
            "height": null,
            "justify_content": null,
            "justify_items": null,
            "left": null,
            "margin": null,
            "max_height": null,
            "max_width": null,
            "min_height": null,
            "min_width": null,
            "object_fit": null,
            "object_position": null,
            "order": null,
            "overflow": null,
            "overflow_x": null,
            "overflow_y": null,
            "padding": null,
            "right": null,
            "top": null,
            "visibility": null,
            "width": null
          }
        },
        "e5ad95f109b34a3ea97b7ffb934d7b94": {
          "model_module": "@jupyter-widgets/controls",
          "model_name": "DescriptionStyleModel",
          "model_module_version": "1.5.0",
          "state": {
            "_model_module": "@jupyter-widgets/controls",
            "_model_module_version": "1.5.0",
            "_model_name": "DescriptionStyleModel",
            "_view_count": null,
            "_view_module": "@jupyter-widgets/base",
            "_view_module_version": "1.2.0",
            "_view_name": "StyleView",
            "description_width": ""
          }
        },
        "48e944307a724d7fa66d4e8fecb04828": {
          "model_module": "@jupyter-widgets/base",
          "model_name": "LayoutModel",
          "model_module_version": "1.2.0",
          "state": {
            "_model_module": "@jupyter-widgets/base",
            "_model_module_version": "1.2.0",
            "_model_name": "LayoutModel",
            "_view_count": null,
            "_view_module": "@jupyter-widgets/base",
            "_view_module_version": "1.2.0",
            "_view_name": "LayoutView",
            "align_content": null,
            "align_items": null,
            "align_self": null,
            "border": null,
            "bottom": null,
            "display": null,
            "flex": null,
            "flex_flow": null,
            "grid_area": null,
            "grid_auto_columns": null,
            "grid_auto_flow": null,
            "grid_auto_rows": null,
            "grid_column": null,
            "grid_gap": null,
            "grid_row": null,
            "grid_template_areas": null,
            "grid_template_columns": null,
            "grid_template_rows": null,
            "height": null,
            "justify_content": null,
            "justify_items": null,
            "left": null,
            "margin": null,
            "max_height": null,
            "max_width": null,
            "min_height": null,
            "min_width": null,
            "object_fit": null,
            "object_position": null,
            "order": null,
            "overflow": null,
            "overflow_x": null,
            "overflow_y": null,
            "padding": null,
            "right": null,
            "top": null,
            "visibility": null,
            "width": null
          }
        },
        "48208e69773d4a2f8f5d789dcd0d4a27": {
          "model_module": "@jupyter-widgets/controls",
          "model_name": "ProgressStyleModel",
          "model_module_version": "1.5.0",
          "state": {
            "_model_module": "@jupyter-widgets/controls",
            "_model_module_version": "1.5.0",
            "_model_name": "ProgressStyleModel",
            "_view_count": null,
            "_view_module": "@jupyter-widgets/base",
            "_view_module_version": "1.2.0",
            "_view_name": "StyleView",
            "bar_color": null,
            "description_width": ""
          }
        },
        "3c9779e6e8af42fba36eb21fe49cbf86": {
          "model_module": "@jupyter-widgets/base",
          "model_name": "LayoutModel",
          "model_module_version": "1.2.0",
          "state": {
            "_model_module": "@jupyter-widgets/base",
            "_model_module_version": "1.2.0",
            "_model_name": "LayoutModel",
            "_view_count": null,
            "_view_module": "@jupyter-widgets/base",
            "_view_module_version": "1.2.0",
            "_view_name": "LayoutView",
            "align_content": null,
            "align_items": null,
            "align_self": null,
            "border": null,
            "bottom": null,
            "display": null,
            "flex": null,
            "flex_flow": null,
            "grid_area": null,
            "grid_auto_columns": null,
            "grid_auto_flow": null,
            "grid_auto_rows": null,
            "grid_column": null,
            "grid_gap": null,
            "grid_row": null,
            "grid_template_areas": null,
            "grid_template_columns": null,
            "grid_template_rows": null,
            "height": null,
            "justify_content": null,
            "justify_items": null,
            "left": null,
            "margin": null,
            "max_height": null,
            "max_width": null,
            "min_height": null,
            "min_width": null,
            "object_fit": null,
            "object_position": null,
            "order": null,
            "overflow": null,
            "overflow_x": null,
            "overflow_y": null,
            "padding": null,
            "right": null,
            "top": null,
            "visibility": null,
            "width": null
          }
        },
        "861bf7c99aba45369e95c87a1a00e567": {
          "model_module": "@jupyter-widgets/controls",
          "model_name": "DescriptionStyleModel",
          "model_module_version": "1.5.0",
          "state": {
            "_model_module": "@jupyter-widgets/controls",
            "_model_module_version": "1.5.0",
            "_model_name": "DescriptionStyleModel",
            "_view_count": null,
            "_view_module": "@jupyter-widgets/base",
            "_view_module_version": "1.2.0",
            "_view_name": "StyleView",
            "description_width": ""
          }
        }
      }
    }
  },
  "nbformat": 4,
  "nbformat_minor": 0
}
